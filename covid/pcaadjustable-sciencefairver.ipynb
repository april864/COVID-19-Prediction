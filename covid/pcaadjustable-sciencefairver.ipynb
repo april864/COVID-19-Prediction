{
 "cells": [
  {
   "cell_type": "markdown",
   "metadata": {},
   "source": [
    "# Import Library"
   ]
  },
  {
   "cell_type": "code",
   "execution_count": 1,
   "metadata": {},
   "outputs": [],
   "source": [
    "import pandas as pd \n",
    "import numpy as np\n",
    "import matplotlib.pyplot as plt\n",
    "%matplotlib inline\n",
    "from sklearn.decomposition import PCA\n",
    "from sklearn.preprocessing import StandardScaler\n",
    "import ssl\n",
    "from sklearn.preprocessing import scale \n",
    "from sklearn import model_selection\n",
    "from sklearn.model_selection import RepeatedKFold\n",
    "from sklearn.model_selection import train_test_split\n",
    "from sklearn.linear_model import LinearRegression\n",
    "from sklearn.metrics import mean_squared_error"
   ]
  },
  {
   "cell_type": "markdown",
   "metadata": {},
   "source": [
    "# Download Data"
   ]
  },
  {
   "cell_type": "code",
   "execution_count": 2,
   "metadata": {},
   "outputs": [],
   "source": [
    "ssl._create_default_https_context = ssl._create_unverified_context\n",
    "Datagrep=pd.read_csv('https://raw.githubusercontent.com/CSSEGISandData/COVID-19/master/csse_covid_19_data/csse_covid_19_time_series/time_series_covid19_confirmed_global.csv')"
   ]
  },
  {
   "cell_type": "markdown",
   "metadata": {},
   "source": [
    "# Transform Data"
   ]
  },
  {
   "cell_type": "code",
   "execution_count": 3,
   "metadata": {},
   "outputs": [
    {
     "data": {
      "text/html": [
       "<div>\n",
       "<style scoped>\n",
       "    .dataframe tbody tr th:only-of-type {\n",
       "        vertical-align: middle;\n",
       "    }\n",
       "\n",
       "    .dataframe tbody tr th {\n",
       "        vertical-align: top;\n",
       "    }\n",
       "\n",
       "    .dataframe thead th {\n",
       "        text-align: right;\n",
       "    }\n",
       "</style>\n",
       "<table border=\"1\" class=\"dataframe\">\n",
       "  <thead>\n",
       "    <tr style=\"text-align: right;\">\n",
       "      <th></th>\n",
       "      <th>Province/State</th>\n",
       "      <th>Country/Region</th>\n",
       "      <th>Lat</th>\n",
       "      <th>Long</th>\n",
       "      <th>1/22/20</th>\n",
       "      <th>1/23/20</th>\n",
       "      <th>1/24/20</th>\n",
       "      <th>1/25/20</th>\n",
       "      <th>1/26/20</th>\n",
       "      <th>1/27/20</th>\n",
       "      <th>...</th>\n",
       "      <th>2/1/22</th>\n",
       "      <th>2/2/22</th>\n",
       "      <th>2/3/22</th>\n",
       "      <th>2/4/22</th>\n",
       "      <th>2/5/22</th>\n",
       "      <th>2/6/22</th>\n",
       "      <th>2/7/22</th>\n",
       "      <th>2/8/22</th>\n",
       "      <th>2/9/22</th>\n",
       "      <th>2/10/22</th>\n",
       "    </tr>\n",
       "  </thead>\n",
       "  <tbody>\n",
       "    <tr>\n",
       "      <th>0</th>\n",
       "      <td>NaN</td>\n",
       "      <td>Afghanistan</td>\n",
       "      <td>33.939110</td>\n",
       "      <td>67.709953</td>\n",
       "      <td>0</td>\n",
       "      <td>0</td>\n",
       "      <td>0</td>\n",
       "      <td>0</td>\n",
       "      <td>0</td>\n",
       "      <td>0</td>\n",
       "      <td>...</td>\n",
       "      <td>163555</td>\n",
       "      <td>164190</td>\n",
       "      <td>164727</td>\n",
       "      <td>165358</td>\n",
       "      <td>165711</td>\n",
       "      <td>166191</td>\n",
       "      <td>166924</td>\n",
       "      <td>167739</td>\n",
       "      <td>168550</td>\n",
       "      <td>169448</td>\n",
       "    </tr>\n",
       "    <tr>\n",
       "      <th>1</th>\n",
       "      <td>NaN</td>\n",
       "      <td>Albania</td>\n",
       "      <td>41.153300</td>\n",
       "      <td>20.168300</td>\n",
       "      <td>0</td>\n",
       "      <td>0</td>\n",
       "      <td>0</td>\n",
       "      <td>0</td>\n",
       "      <td>0</td>\n",
       "      <td>0</td>\n",
       "      <td>...</td>\n",
       "      <td>258543</td>\n",
       "      <td>261240</td>\n",
       "      <td>261240</td>\n",
       "      <td>263172</td>\n",
       "      <td>263172</td>\n",
       "      <td>264624</td>\n",
       "      <td>264875</td>\n",
       "      <td>265716</td>\n",
       "      <td>266416</td>\n",
       "      <td>267020</td>\n",
       "    </tr>\n",
       "    <tr>\n",
       "      <th>2</th>\n",
       "      <td>NaN</td>\n",
       "      <td>Algeria</td>\n",
       "      <td>28.033900</td>\n",
       "      <td>1.659600</td>\n",
       "      <td>0</td>\n",
       "      <td>0</td>\n",
       "      <td>0</td>\n",
       "      <td>0</td>\n",
       "      <td>0</td>\n",
       "      <td>0</td>\n",
       "      <td>...</td>\n",
       "      <td>253520</td>\n",
       "      <td>254885</td>\n",
       "      <td>255836</td>\n",
       "      <td>256806</td>\n",
       "      <td>257598</td>\n",
       "      <td>257976</td>\n",
       "      <td>258478</td>\n",
       "      <td>259088</td>\n",
       "      <td>259673</td>\n",
       "      <td>260191</td>\n",
       "    </tr>\n",
       "    <tr>\n",
       "      <th>3</th>\n",
       "      <td>NaN</td>\n",
       "      <td>Andorra</td>\n",
       "      <td>42.506300</td>\n",
       "      <td>1.521800</td>\n",
       "      <td>0</td>\n",
       "      <td>0</td>\n",
       "      <td>0</td>\n",
       "      <td>0</td>\n",
       "      <td>0</td>\n",
       "      <td>0</td>\n",
       "      <td>...</td>\n",
       "      <td>35958</td>\n",
       "      <td>36315</td>\n",
       "      <td>36470</td>\n",
       "      <td>36599</td>\n",
       "      <td>36599</td>\n",
       "      <td>36599</td>\n",
       "      <td>36808</td>\n",
       "      <td>36808</td>\n",
       "      <td>36989</td>\n",
       "      <td>37074</td>\n",
       "    </tr>\n",
       "    <tr>\n",
       "      <th>4</th>\n",
       "      <td>NaN</td>\n",
       "      <td>Angola</td>\n",
       "      <td>-11.202700</td>\n",
       "      <td>17.873900</td>\n",
       "      <td>0</td>\n",
       "      <td>0</td>\n",
       "      <td>0</td>\n",
       "      <td>0</td>\n",
       "      <td>0</td>\n",
       "      <td>0</td>\n",
       "      <td>...</td>\n",
       "      <td>98226</td>\n",
       "      <td>98267</td>\n",
       "      <td>98319</td>\n",
       "      <td>98340</td>\n",
       "      <td>98351</td>\n",
       "      <td>98364</td>\n",
       "      <td>98409</td>\n",
       "      <td>98424</td>\n",
       "      <td>98453</td>\n",
       "      <td>98474</td>\n",
       "    </tr>\n",
       "    <tr>\n",
       "      <th>...</th>\n",
       "      <td>...</td>\n",
       "      <td>...</td>\n",
       "      <td>...</td>\n",
       "      <td>...</td>\n",
       "      <td>...</td>\n",
       "      <td>...</td>\n",
       "      <td>...</td>\n",
       "      <td>...</td>\n",
       "      <td>...</td>\n",
       "      <td>...</td>\n",
       "      <td>...</td>\n",
       "      <td>...</td>\n",
       "      <td>...</td>\n",
       "      <td>...</td>\n",
       "      <td>...</td>\n",
       "      <td>...</td>\n",
       "      <td>...</td>\n",
       "      <td>...</td>\n",
       "      <td>...</td>\n",
       "      <td>...</td>\n",
       "      <td>...</td>\n",
       "    </tr>\n",
       "    <tr>\n",
       "      <th>277</th>\n",
       "      <td>NaN</td>\n",
       "      <td>West Bank and Gaza</td>\n",
       "      <td>31.952200</td>\n",
       "      <td>35.233200</td>\n",
       "      <td>0</td>\n",
       "      <td>0</td>\n",
       "      <td>0</td>\n",
       "      <td>0</td>\n",
       "      <td>0</td>\n",
       "      <td>0</td>\n",
       "      <td>...</td>\n",
       "      <td>535160</td>\n",
       "      <td>546176</td>\n",
       "      <td>556550</td>\n",
       "      <td>556550</td>\n",
       "      <td>556550</td>\n",
       "      <td>556550</td>\n",
       "      <td>578424</td>\n",
       "      <td>586355</td>\n",
       "      <td>594037</td>\n",
       "      <td>600128</td>\n",
       "    </tr>\n",
       "    <tr>\n",
       "      <th>278</th>\n",
       "      <td>NaN</td>\n",
       "      <td>Winter Olympics 2022</td>\n",
       "      <td>39.904200</td>\n",
       "      <td>116.407400</td>\n",
       "      <td>0</td>\n",
       "      <td>0</td>\n",
       "      <td>0</td>\n",
       "      <td>0</td>\n",
       "      <td>0</td>\n",
       "      <td>0</td>\n",
       "      <td>...</td>\n",
       "      <td>272</td>\n",
       "      <td>304</td>\n",
       "      <td>359</td>\n",
       "      <td>380</td>\n",
       "      <td>425</td>\n",
       "      <td>435</td>\n",
       "      <td>459</td>\n",
       "      <td>465</td>\n",
       "      <td>465</td>\n",
       "      <td>465</td>\n",
       "    </tr>\n",
       "    <tr>\n",
       "      <th>279</th>\n",
       "      <td>NaN</td>\n",
       "      <td>Yemen</td>\n",
       "      <td>15.552727</td>\n",
       "      <td>48.516388</td>\n",
       "      <td>0</td>\n",
       "      <td>0</td>\n",
       "      <td>0</td>\n",
       "      <td>0</td>\n",
       "      <td>0</td>\n",
       "      <td>0</td>\n",
       "      <td>...</td>\n",
       "      <td>11061</td>\n",
       "      <td>11113</td>\n",
       "      <td>11145</td>\n",
       "      <td>11145</td>\n",
       "      <td>11149</td>\n",
       "      <td>11166</td>\n",
       "      <td>11266</td>\n",
       "      <td>11553</td>\n",
       "      <td>11579</td>\n",
       "      <td>11604</td>\n",
       "    </tr>\n",
       "    <tr>\n",
       "      <th>280</th>\n",
       "      <td>NaN</td>\n",
       "      <td>Zambia</td>\n",
       "      <td>-13.133897</td>\n",
       "      <td>27.849332</td>\n",
       "      <td>0</td>\n",
       "      <td>0</td>\n",
       "      <td>0</td>\n",
       "      <td>0</td>\n",
       "      <td>0</td>\n",
       "      <td>0</td>\n",
       "      <td>...</td>\n",
       "      <td>305557</td>\n",
       "      <td>305959</td>\n",
       "      <td>306347</td>\n",
       "      <td>306777</td>\n",
       "      <td>306777</td>\n",
       "      <td>307206</td>\n",
       "      <td>307317</td>\n",
       "      <td>307636</td>\n",
       "      <td>308050</td>\n",
       "      <td>308556</td>\n",
       "    </tr>\n",
       "    <tr>\n",
       "      <th>281</th>\n",
       "      <td>NaN</td>\n",
       "      <td>Zimbabwe</td>\n",
       "      <td>-19.015438</td>\n",
       "      <td>29.154857</td>\n",
       "      <td>0</td>\n",
       "      <td>0</td>\n",
       "      <td>0</td>\n",
       "      <td>0</td>\n",
       "      <td>0</td>\n",
       "      <td>0</td>\n",
       "      <td>...</td>\n",
       "      <td>229851</td>\n",
       "      <td>230012</td>\n",
       "      <td>230170</td>\n",
       "      <td>230170</td>\n",
       "      <td>230402</td>\n",
       "      <td>230402</td>\n",
       "      <td>230402</td>\n",
       "      <td>230603</td>\n",
       "      <td>230740</td>\n",
       "      <td>231040</td>\n",
       "    </tr>\n",
       "  </tbody>\n",
       "</table>\n",
       "<p>282 rows × 755 columns</p>\n",
       "</div>"
      ],
      "text/plain": [
       "    Province/State        Country/Region        Lat        Long  1/22/20  \\\n",
       "0              NaN           Afghanistan  33.939110   67.709953        0   \n",
       "1              NaN               Albania  41.153300   20.168300        0   \n",
       "2              NaN               Algeria  28.033900    1.659600        0   \n",
       "3              NaN               Andorra  42.506300    1.521800        0   \n",
       "4              NaN                Angola -11.202700   17.873900        0   \n",
       "..             ...                   ...        ...         ...      ...   \n",
       "277            NaN    West Bank and Gaza  31.952200   35.233200        0   \n",
       "278            NaN  Winter Olympics 2022  39.904200  116.407400        0   \n",
       "279            NaN                 Yemen  15.552727   48.516388        0   \n",
       "280            NaN                Zambia -13.133897   27.849332        0   \n",
       "281            NaN              Zimbabwe -19.015438   29.154857        0   \n",
       "\n",
       "     1/23/20  1/24/20  1/25/20  1/26/20  1/27/20  ...  2/1/22  2/2/22  2/3/22  \\\n",
       "0          0        0        0        0        0  ...  163555  164190  164727   \n",
       "1          0        0        0        0        0  ...  258543  261240  261240   \n",
       "2          0        0        0        0        0  ...  253520  254885  255836   \n",
       "3          0        0        0        0        0  ...   35958   36315   36470   \n",
       "4          0        0        0        0        0  ...   98226   98267   98319   \n",
       "..       ...      ...      ...      ...      ...  ...     ...     ...     ...   \n",
       "277        0        0        0        0        0  ...  535160  546176  556550   \n",
       "278        0        0        0        0        0  ...     272     304     359   \n",
       "279        0        0        0        0        0  ...   11061   11113   11145   \n",
       "280        0        0        0        0        0  ...  305557  305959  306347   \n",
       "281        0        0        0        0        0  ...  229851  230012  230170   \n",
       "\n",
       "     2/4/22  2/5/22  2/6/22  2/7/22  2/8/22  2/9/22  2/10/22  \n",
       "0    165358  165711  166191  166924  167739  168550   169448  \n",
       "1    263172  263172  264624  264875  265716  266416   267020  \n",
       "2    256806  257598  257976  258478  259088  259673   260191  \n",
       "3     36599   36599   36599   36808   36808   36989    37074  \n",
       "4     98340   98351   98364   98409   98424   98453    98474  \n",
       "..      ...     ...     ...     ...     ...     ...      ...  \n",
       "277  556550  556550  556550  578424  586355  594037   600128  \n",
       "278     380     425     435     459     465     465      465  \n",
       "279   11145   11149   11166   11266   11553   11579    11604  \n",
       "280  306777  306777  307206  307317  307636  308050   308556  \n",
       "281  230170  230402  230402  230402  230603  230740   231040  \n",
       "\n",
       "[282 rows x 755 columns]"
      ]
     },
     "execution_count": 3,
     "metadata": {},
     "output_type": "execute_result"
    }
   ],
   "source": [
    "Datagrep"
   ]
  },
  {
   "cell_type": "code",
   "execution_count": 4,
   "metadata": {},
   "outputs": [
    {
     "name": "stdout",
     "output_type": "stream",
     "text": [
      "['Afghanistan', 'Albania', 'Algeria', 'Andorra']\n",
      "198\n",
      "['2/9/22', '2/10/22']\n",
      "751\n"
     ]
    }
   ],
   "source": [
    "countries_JH=Datagrep['Country/Region'].unique().tolist()\n",
    "dates_JH=list(Datagrep)[4:]\n",
    "print(countries_JH[0:4])\n",
    "print(len(countries_JH))\n",
    "print(dates_JH[-2:])\n",
    "print(len(dates_JH))"
   ]
  },
  {
   "cell_type": "code",
   "execution_count": 5,
   "metadata": {},
   "outputs": [],
   "source": [
    "N=[]\n",
    "for c in countries_JH:\n",
    "    L=Datagrep[Datagrep['Country/Region']==c][dates_JH].sum().values.tolist()\n",
    "    N.append(L)\n",
    "Data_df=pd.DataFrame(np.array(N).T).rename(columns={i:countries_JH[i] for i in range(len(countries_JH))}) "
   ]
  },
  {
   "cell_type": "code",
   "execution_count": 6,
   "metadata": {},
   "outputs": [
    {
     "data": {
      "text/html": [
       "<div>\n",
       "<style scoped>\n",
       "    .dataframe tbody tr th:only-of-type {\n",
       "        vertical-align: middle;\n",
       "    }\n",
       "\n",
       "    .dataframe tbody tr th {\n",
       "        vertical-align: top;\n",
       "    }\n",
       "\n",
       "    .dataframe thead th {\n",
       "        text-align: right;\n",
       "    }\n",
       "</style>\n",
       "<table border=\"1\" class=\"dataframe\">\n",
       "  <thead>\n",
       "    <tr style=\"text-align: right;\">\n",
       "      <th></th>\n",
       "      <th>Afghanistan</th>\n",
       "      <th>Albania</th>\n",
       "      <th>Algeria</th>\n",
       "      <th>Andorra</th>\n",
       "      <th>Angola</th>\n",
       "      <th>Antarctica</th>\n",
       "      <th>Antigua and Barbuda</th>\n",
       "      <th>Argentina</th>\n",
       "      <th>Armenia</th>\n",
       "      <th>Australia</th>\n",
       "      <th>...</th>\n",
       "      <th>Uruguay</th>\n",
       "      <th>Uzbekistan</th>\n",
       "      <th>Vanuatu</th>\n",
       "      <th>Venezuela</th>\n",
       "      <th>Vietnam</th>\n",
       "      <th>West Bank and Gaza</th>\n",
       "      <th>Winter Olympics 2022</th>\n",
       "      <th>Yemen</th>\n",
       "      <th>Zambia</th>\n",
       "      <th>Zimbabwe</th>\n",
       "    </tr>\n",
       "  </thead>\n",
       "  <tbody>\n",
       "    <tr>\n",
       "      <th>0</th>\n",
       "      <td>0</td>\n",
       "      <td>0</td>\n",
       "      <td>0</td>\n",
       "      <td>0</td>\n",
       "      <td>0</td>\n",
       "      <td>0</td>\n",
       "      <td>0</td>\n",
       "      <td>0</td>\n",
       "      <td>0</td>\n",
       "      <td>0</td>\n",
       "      <td>...</td>\n",
       "      <td>0</td>\n",
       "      <td>0</td>\n",
       "      <td>0</td>\n",
       "      <td>0</td>\n",
       "      <td>0</td>\n",
       "      <td>0</td>\n",
       "      <td>0</td>\n",
       "      <td>0</td>\n",
       "      <td>0</td>\n",
       "      <td>0</td>\n",
       "    </tr>\n",
       "    <tr>\n",
       "      <th>1</th>\n",
       "      <td>0</td>\n",
       "      <td>0</td>\n",
       "      <td>0</td>\n",
       "      <td>0</td>\n",
       "      <td>0</td>\n",
       "      <td>0</td>\n",
       "      <td>0</td>\n",
       "      <td>0</td>\n",
       "      <td>0</td>\n",
       "      <td>0</td>\n",
       "      <td>...</td>\n",
       "      <td>0</td>\n",
       "      <td>0</td>\n",
       "      <td>0</td>\n",
       "      <td>0</td>\n",
       "      <td>2</td>\n",
       "      <td>0</td>\n",
       "      <td>0</td>\n",
       "      <td>0</td>\n",
       "      <td>0</td>\n",
       "      <td>0</td>\n",
       "    </tr>\n",
       "    <tr>\n",
       "      <th>2</th>\n",
       "      <td>0</td>\n",
       "      <td>0</td>\n",
       "      <td>0</td>\n",
       "      <td>0</td>\n",
       "      <td>0</td>\n",
       "      <td>0</td>\n",
       "      <td>0</td>\n",
       "      <td>0</td>\n",
       "      <td>0</td>\n",
       "      <td>0</td>\n",
       "      <td>...</td>\n",
       "      <td>0</td>\n",
       "      <td>0</td>\n",
       "      <td>0</td>\n",
       "      <td>0</td>\n",
       "      <td>2</td>\n",
       "      <td>0</td>\n",
       "      <td>0</td>\n",
       "      <td>0</td>\n",
       "      <td>0</td>\n",
       "      <td>0</td>\n",
       "    </tr>\n",
       "    <tr>\n",
       "      <th>3</th>\n",
       "      <td>0</td>\n",
       "      <td>0</td>\n",
       "      <td>0</td>\n",
       "      <td>0</td>\n",
       "      <td>0</td>\n",
       "      <td>0</td>\n",
       "      <td>0</td>\n",
       "      <td>0</td>\n",
       "      <td>0</td>\n",
       "      <td>0</td>\n",
       "      <td>...</td>\n",
       "      <td>0</td>\n",
       "      <td>0</td>\n",
       "      <td>0</td>\n",
       "      <td>0</td>\n",
       "      <td>2</td>\n",
       "      <td>0</td>\n",
       "      <td>0</td>\n",
       "      <td>0</td>\n",
       "      <td>0</td>\n",
       "      <td>0</td>\n",
       "    </tr>\n",
       "    <tr>\n",
       "      <th>4</th>\n",
       "      <td>0</td>\n",
       "      <td>0</td>\n",
       "      <td>0</td>\n",
       "      <td>0</td>\n",
       "      <td>0</td>\n",
       "      <td>0</td>\n",
       "      <td>0</td>\n",
       "      <td>0</td>\n",
       "      <td>0</td>\n",
       "      <td>4</td>\n",
       "      <td>...</td>\n",
       "      <td>0</td>\n",
       "      <td>0</td>\n",
       "      <td>0</td>\n",
       "      <td>0</td>\n",
       "      <td>2</td>\n",
       "      <td>0</td>\n",
       "      <td>0</td>\n",
       "      <td>0</td>\n",
       "      <td>0</td>\n",
       "      <td>0</td>\n",
       "    </tr>\n",
       "    <tr>\n",
       "      <th>...</th>\n",
       "      <td>...</td>\n",
       "      <td>...</td>\n",
       "      <td>...</td>\n",
       "      <td>...</td>\n",
       "      <td>...</td>\n",
       "      <td>...</td>\n",
       "      <td>...</td>\n",
       "      <td>...</td>\n",
       "      <td>...</td>\n",
       "      <td>...</td>\n",
       "      <td>...</td>\n",
       "      <td>...</td>\n",
       "      <td>...</td>\n",
       "      <td>...</td>\n",
       "      <td>...</td>\n",
       "      <td>...</td>\n",
       "      <td>...</td>\n",
       "      <td>...</td>\n",
       "      <td>...</td>\n",
       "      <td>...</td>\n",
       "      <td>...</td>\n",
       "    </tr>\n",
       "    <tr>\n",
       "      <th>746</th>\n",
       "      <td>166191</td>\n",
       "      <td>264624</td>\n",
       "      <td>257976</td>\n",
       "      <td>36599</td>\n",
       "      <td>98364</td>\n",
       "      <td>11</td>\n",
       "      <td>6853</td>\n",
       "      <td>8589879</td>\n",
       "      <td>389957</td>\n",
       "      <td>2752507</td>\n",
       "      <td>...</td>\n",
       "      <td>726042</td>\n",
       "      <td>228796</td>\n",
       "      <td>7</td>\n",
       "      <td>496283</td>\n",
       "      <td>2341971</td>\n",
       "      <td>556550</td>\n",
       "      <td>435</td>\n",
       "      <td>11166</td>\n",
       "      <td>307206</td>\n",
       "      <td>230402</td>\n",
       "    </tr>\n",
       "    <tr>\n",
       "      <th>747</th>\n",
       "      <td>166924</td>\n",
       "      <td>264875</td>\n",
       "      <td>258478</td>\n",
       "      <td>36808</td>\n",
       "      <td>98409</td>\n",
       "      <td>11</td>\n",
       "      <td>6853</td>\n",
       "      <td>8615285</td>\n",
       "      <td>391588</td>\n",
       "      <td>2779880</td>\n",
       "      <td>...</td>\n",
       "      <td>733010</td>\n",
       "      <td>229628</td>\n",
       "      <td>7</td>\n",
       "      <td>496283</td>\n",
       "      <td>2358786</td>\n",
       "      <td>578424</td>\n",
       "      <td>459</td>\n",
       "      <td>11266</td>\n",
       "      <td>307317</td>\n",
       "      <td>230402</td>\n",
       "    </tr>\n",
       "    <tr>\n",
       "      <th>748</th>\n",
       "      <td>167739</td>\n",
       "      <td>265716</td>\n",
       "      <td>259088</td>\n",
       "      <td>36808</td>\n",
       "      <td>98424</td>\n",
       "      <td>11</td>\n",
       "      <td>6853</td>\n",
       "      <td>8648075</td>\n",
       "      <td>394074</td>\n",
       "      <td>2811390</td>\n",
       "      <td>...</td>\n",
       "      <td>741454</td>\n",
       "      <td>230401</td>\n",
       "      <td>7</td>\n",
       "      <td>497977</td>\n",
       "      <td>2380695</td>\n",
       "      <td>586355</td>\n",
       "      <td>465</td>\n",
       "      <td>11553</td>\n",
       "      <td>307636</td>\n",
       "      <td>230603</td>\n",
       "    </tr>\n",
       "    <tr>\n",
       "      <th>749</th>\n",
       "      <td>168550</td>\n",
       "      <td>266416</td>\n",
       "      <td>259673</td>\n",
       "      <td>36989</td>\n",
       "      <td>98453</td>\n",
       "      <td>11</td>\n",
       "      <td>6853</td>\n",
       "      <td>8675327</td>\n",
       "      <td>396885</td>\n",
       "      <td>2822873</td>\n",
       "      <td>...</td>\n",
       "      <td>749554</td>\n",
       "      <td>231179</td>\n",
       "      <td>7</td>\n",
       "      <td>499537</td>\n",
       "      <td>2404651</td>\n",
       "      <td>594037</td>\n",
       "      <td>465</td>\n",
       "      <td>11579</td>\n",
       "      <td>308050</td>\n",
       "      <td>230740</td>\n",
       "    </tr>\n",
       "    <tr>\n",
       "      <th>750</th>\n",
       "      <td>169448</td>\n",
       "      <td>267020</td>\n",
       "      <td>260191</td>\n",
       "      <td>37074</td>\n",
       "      <td>98474</td>\n",
       "      <td>11</td>\n",
       "      <td>7321</td>\n",
       "      <td>8700437</td>\n",
       "      <td>399727</td>\n",
       "      <td>2854123</td>\n",
       "      <td>...</td>\n",
       "      <td>758366</td>\n",
       "      <td>231871</td>\n",
       "      <td>7</td>\n",
       "      <td>501586</td>\n",
       "      <td>2430683</td>\n",
       "      <td>600128</td>\n",
       "      <td>465</td>\n",
       "      <td>11604</td>\n",
       "      <td>308556</td>\n",
       "      <td>231040</td>\n",
       "    </tr>\n",
       "  </tbody>\n",
       "</table>\n",
       "<p>751 rows × 198 columns</p>\n",
       "</div>"
      ],
      "text/plain": [
       "     Afghanistan  Albania  Algeria  Andorra  Angola  Antarctica  \\\n",
       "0              0        0        0        0       0           0   \n",
       "1              0        0        0        0       0           0   \n",
       "2              0        0        0        0       0           0   \n",
       "3              0        0        0        0       0           0   \n",
       "4              0        0        0        0       0           0   \n",
       "..           ...      ...      ...      ...     ...         ...   \n",
       "746       166191   264624   257976    36599   98364          11   \n",
       "747       166924   264875   258478    36808   98409          11   \n",
       "748       167739   265716   259088    36808   98424          11   \n",
       "749       168550   266416   259673    36989   98453          11   \n",
       "750       169448   267020   260191    37074   98474          11   \n",
       "\n",
       "     Antigua and Barbuda  Argentina  Armenia  Australia  ...  Uruguay  \\\n",
       "0                      0          0        0          0  ...        0   \n",
       "1                      0          0        0          0  ...        0   \n",
       "2                      0          0        0          0  ...        0   \n",
       "3                      0          0        0          0  ...        0   \n",
       "4                      0          0        0          4  ...        0   \n",
       "..                   ...        ...      ...        ...  ...      ...   \n",
       "746                 6853    8589879   389957    2752507  ...   726042   \n",
       "747                 6853    8615285   391588    2779880  ...   733010   \n",
       "748                 6853    8648075   394074    2811390  ...   741454   \n",
       "749                 6853    8675327   396885    2822873  ...   749554   \n",
       "750                 7321    8700437   399727    2854123  ...   758366   \n",
       "\n",
       "     Uzbekistan  Vanuatu  Venezuela  Vietnam  West Bank and Gaza  \\\n",
       "0             0        0          0        0                   0   \n",
       "1             0        0          0        2                   0   \n",
       "2             0        0          0        2                   0   \n",
       "3             0        0          0        2                   0   \n",
       "4             0        0          0        2                   0   \n",
       "..          ...      ...        ...      ...                 ...   \n",
       "746      228796        7     496283  2341971              556550   \n",
       "747      229628        7     496283  2358786              578424   \n",
       "748      230401        7     497977  2380695              586355   \n",
       "749      231179        7     499537  2404651              594037   \n",
       "750      231871        7     501586  2430683              600128   \n",
       "\n",
       "     Winter Olympics 2022  Yemen  Zambia  Zimbabwe  \n",
       "0                       0      0       0         0  \n",
       "1                       0      0       0         0  \n",
       "2                       0      0       0         0  \n",
       "3                       0      0       0         0  \n",
       "4                       0      0       0         0  \n",
       "..                    ...    ...     ...       ...  \n",
       "746                   435  11166  307206    230402  \n",
       "747                   459  11266  307317    230402  \n",
       "748                   465  11553  307636    230603  \n",
       "749                   465  11579  308050    230740  \n",
       "750                   465  11604  308556    231040  \n",
       "\n",
       "[751 rows x 198 columns]"
      ]
     },
     "execution_count": 6,
     "metadata": {},
     "output_type": "execute_result"
    }
   ],
   "source": [
    "Data_df"
   ]
  },
  {
   "cell_type": "code",
   "execution_count": 7,
   "metadata": {},
   "outputs": [],
   "source": [
    "Datah_nc=[]\n",
    "for c in countries_JH:\n",
    "    L=Data_df[c].to_list()\n",
    "    L1=[]\n",
    "    L1.append(L[0])\n",
    "    for i in range(1,len(L)-1):\n",
    "        L1.append([L[i+1]-L[i] if L[i+1]-L[i]>=0 else 0][0])\n",
    "    Datah_nc.append(L1)  \n",
    "Data_nc=pd.DataFrame(np.array(Datah_nc).T).rename(columns={i:countries_JH[i] for i in range(len(countries_JH))}) \n",
    "Df=Data_nc.copy()"
   ]
  },
  {
   "cell_type": "code",
   "execution_count": 8,
   "metadata": {},
   "outputs": [
    {
     "data": {
      "text/html": [
       "<div>\n",
       "<style scoped>\n",
       "    .dataframe tbody tr th:only-of-type {\n",
       "        vertical-align: middle;\n",
       "    }\n",
       "\n",
       "    .dataframe tbody tr th {\n",
       "        vertical-align: top;\n",
       "    }\n",
       "\n",
       "    .dataframe thead th {\n",
       "        text-align: right;\n",
       "    }\n",
       "</style>\n",
       "<table border=\"1\" class=\"dataframe\">\n",
       "  <thead>\n",
       "    <tr style=\"text-align: right;\">\n",
       "      <th></th>\n",
       "      <th>Afghanistan</th>\n",
       "      <th>Albania</th>\n",
       "      <th>Algeria</th>\n",
       "      <th>Andorra</th>\n",
       "      <th>Angola</th>\n",
       "      <th>Antarctica</th>\n",
       "      <th>Antigua and Barbuda</th>\n",
       "      <th>Argentina</th>\n",
       "      <th>Armenia</th>\n",
       "      <th>Australia</th>\n",
       "      <th>...</th>\n",
       "      <th>Uruguay</th>\n",
       "      <th>Uzbekistan</th>\n",
       "      <th>Vanuatu</th>\n",
       "      <th>Venezuela</th>\n",
       "      <th>Vietnam</th>\n",
       "      <th>West Bank and Gaza</th>\n",
       "      <th>Winter Olympics 2022</th>\n",
       "      <th>Yemen</th>\n",
       "      <th>Zambia</th>\n",
       "      <th>Zimbabwe</th>\n",
       "    </tr>\n",
       "  </thead>\n",
       "  <tbody>\n",
       "    <tr>\n",
       "      <th>0</th>\n",
       "      <td>0</td>\n",
       "      <td>0</td>\n",
       "      <td>0</td>\n",
       "      <td>0</td>\n",
       "      <td>0</td>\n",
       "      <td>0</td>\n",
       "      <td>0</td>\n",
       "      <td>0</td>\n",
       "      <td>0</td>\n",
       "      <td>0</td>\n",
       "      <td>...</td>\n",
       "      <td>0</td>\n",
       "      <td>0</td>\n",
       "      <td>0</td>\n",
       "      <td>0</td>\n",
       "      <td>0</td>\n",
       "      <td>0</td>\n",
       "      <td>0</td>\n",
       "      <td>0</td>\n",
       "      <td>0</td>\n",
       "      <td>0</td>\n",
       "    </tr>\n",
       "    <tr>\n",
       "      <th>1</th>\n",
       "      <td>0</td>\n",
       "      <td>0</td>\n",
       "      <td>0</td>\n",
       "      <td>0</td>\n",
       "      <td>0</td>\n",
       "      <td>0</td>\n",
       "      <td>0</td>\n",
       "      <td>0</td>\n",
       "      <td>0</td>\n",
       "      <td>0</td>\n",
       "      <td>...</td>\n",
       "      <td>0</td>\n",
       "      <td>0</td>\n",
       "      <td>0</td>\n",
       "      <td>0</td>\n",
       "      <td>0</td>\n",
       "      <td>0</td>\n",
       "      <td>0</td>\n",
       "      <td>0</td>\n",
       "      <td>0</td>\n",
       "      <td>0</td>\n",
       "    </tr>\n",
       "    <tr>\n",
       "      <th>2</th>\n",
       "      <td>0</td>\n",
       "      <td>0</td>\n",
       "      <td>0</td>\n",
       "      <td>0</td>\n",
       "      <td>0</td>\n",
       "      <td>0</td>\n",
       "      <td>0</td>\n",
       "      <td>0</td>\n",
       "      <td>0</td>\n",
       "      <td>0</td>\n",
       "      <td>...</td>\n",
       "      <td>0</td>\n",
       "      <td>0</td>\n",
       "      <td>0</td>\n",
       "      <td>0</td>\n",
       "      <td>0</td>\n",
       "      <td>0</td>\n",
       "      <td>0</td>\n",
       "      <td>0</td>\n",
       "      <td>0</td>\n",
       "      <td>0</td>\n",
       "    </tr>\n",
       "    <tr>\n",
       "      <th>3</th>\n",
       "      <td>0</td>\n",
       "      <td>0</td>\n",
       "      <td>0</td>\n",
       "      <td>0</td>\n",
       "      <td>0</td>\n",
       "      <td>0</td>\n",
       "      <td>0</td>\n",
       "      <td>0</td>\n",
       "      <td>0</td>\n",
       "      <td>4</td>\n",
       "      <td>...</td>\n",
       "      <td>0</td>\n",
       "      <td>0</td>\n",
       "      <td>0</td>\n",
       "      <td>0</td>\n",
       "      <td>0</td>\n",
       "      <td>0</td>\n",
       "      <td>0</td>\n",
       "      <td>0</td>\n",
       "      <td>0</td>\n",
       "      <td>0</td>\n",
       "    </tr>\n",
       "    <tr>\n",
       "      <th>4</th>\n",
       "      <td>0</td>\n",
       "      <td>0</td>\n",
       "      <td>0</td>\n",
       "      <td>0</td>\n",
       "      <td>0</td>\n",
       "      <td>0</td>\n",
       "      <td>0</td>\n",
       "      <td>0</td>\n",
       "      <td>0</td>\n",
       "      <td>1</td>\n",
       "      <td>...</td>\n",
       "      <td>0</td>\n",
       "      <td>0</td>\n",
       "      <td>0</td>\n",
       "      <td>0</td>\n",
       "      <td>0</td>\n",
       "      <td>0</td>\n",
       "      <td>0</td>\n",
       "      <td>0</td>\n",
       "      <td>0</td>\n",
       "      <td>0</td>\n",
       "    </tr>\n",
       "    <tr>\n",
       "      <th>...</th>\n",
       "      <td>...</td>\n",
       "      <td>...</td>\n",
       "      <td>...</td>\n",
       "      <td>...</td>\n",
       "      <td>...</td>\n",
       "      <td>...</td>\n",
       "      <td>...</td>\n",
       "      <td>...</td>\n",
       "      <td>...</td>\n",
       "      <td>...</td>\n",
       "      <td>...</td>\n",
       "      <td>...</td>\n",
       "      <td>...</td>\n",
       "      <td>...</td>\n",
       "      <td>...</td>\n",
       "      <td>...</td>\n",
       "      <td>...</td>\n",
       "      <td>...</td>\n",
       "      <td>...</td>\n",
       "      <td>...</td>\n",
       "      <td>...</td>\n",
       "    </tr>\n",
       "    <tr>\n",
       "      <th>745</th>\n",
       "      <td>480</td>\n",
       "      <td>1452</td>\n",
       "      <td>378</td>\n",
       "      <td>0</td>\n",
       "      <td>13</td>\n",
       "      <td>0</td>\n",
       "      <td>121</td>\n",
       "      <td>12664</td>\n",
       "      <td>2467</td>\n",
       "      <td>25247</td>\n",
       "      <td>...</td>\n",
       "      <td>6094</td>\n",
       "      <td>887</td>\n",
       "      <td>0</td>\n",
       "      <td>1448</td>\n",
       "      <td>14112</td>\n",
       "      <td>0</td>\n",
       "      <td>10</td>\n",
       "      <td>17</td>\n",
       "      <td>429</td>\n",
       "      <td>0</td>\n",
       "    </tr>\n",
       "    <tr>\n",
       "      <th>746</th>\n",
       "      <td>733</td>\n",
       "      <td>251</td>\n",
       "      <td>502</td>\n",
       "      <td>209</td>\n",
       "      <td>45</td>\n",
       "      <td>0</td>\n",
       "      <td>0</td>\n",
       "      <td>25406</td>\n",
       "      <td>1631</td>\n",
       "      <td>27373</td>\n",
       "      <td>...</td>\n",
       "      <td>6968</td>\n",
       "      <td>832</td>\n",
       "      <td>0</td>\n",
       "      <td>0</td>\n",
       "      <td>16815</td>\n",
       "      <td>21874</td>\n",
       "      <td>24</td>\n",
       "      <td>100</td>\n",
       "      <td>111</td>\n",
       "      <td>0</td>\n",
       "    </tr>\n",
       "    <tr>\n",
       "      <th>747</th>\n",
       "      <td>815</td>\n",
       "      <td>841</td>\n",
       "      <td>610</td>\n",
       "      <td>0</td>\n",
       "      <td>15</td>\n",
       "      <td>0</td>\n",
       "      <td>0</td>\n",
       "      <td>32790</td>\n",
       "      <td>2486</td>\n",
       "      <td>31510</td>\n",
       "      <td>...</td>\n",
       "      <td>8444</td>\n",
       "      <td>773</td>\n",
       "      <td>0</td>\n",
       "      <td>1694</td>\n",
       "      <td>21909</td>\n",
       "      <td>7931</td>\n",
       "      <td>6</td>\n",
       "      <td>287</td>\n",
       "      <td>319</td>\n",
       "      <td>201</td>\n",
       "    </tr>\n",
       "    <tr>\n",
       "      <th>748</th>\n",
       "      <td>811</td>\n",
       "      <td>700</td>\n",
       "      <td>585</td>\n",
       "      <td>181</td>\n",
       "      <td>29</td>\n",
       "      <td>0</td>\n",
       "      <td>0</td>\n",
       "      <td>27252</td>\n",
       "      <td>2811</td>\n",
       "      <td>11483</td>\n",
       "      <td>...</td>\n",
       "      <td>8100</td>\n",
       "      <td>778</td>\n",
       "      <td>0</td>\n",
       "      <td>1560</td>\n",
       "      <td>23956</td>\n",
       "      <td>7682</td>\n",
       "      <td>0</td>\n",
       "      <td>26</td>\n",
       "      <td>414</td>\n",
       "      <td>137</td>\n",
       "    </tr>\n",
       "    <tr>\n",
       "      <th>749</th>\n",
       "      <td>898</td>\n",
       "      <td>604</td>\n",
       "      <td>518</td>\n",
       "      <td>85</td>\n",
       "      <td>21</td>\n",
       "      <td>0</td>\n",
       "      <td>468</td>\n",
       "      <td>25110</td>\n",
       "      <td>2842</td>\n",
       "      <td>31250</td>\n",
       "      <td>...</td>\n",
       "      <td>8812</td>\n",
       "      <td>692</td>\n",
       "      <td>0</td>\n",
       "      <td>2049</td>\n",
       "      <td>26032</td>\n",
       "      <td>6091</td>\n",
       "      <td>0</td>\n",
       "      <td>25</td>\n",
       "      <td>506</td>\n",
       "      <td>300</td>\n",
       "    </tr>\n",
       "  </tbody>\n",
       "</table>\n",
       "<p>750 rows × 198 columns</p>\n",
       "</div>"
      ],
      "text/plain": [
       "     Afghanistan  Albania  Algeria  Andorra  Angola  Antarctica  \\\n",
       "0              0        0        0        0       0           0   \n",
       "1              0        0        0        0       0           0   \n",
       "2              0        0        0        0       0           0   \n",
       "3              0        0        0        0       0           0   \n",
       "4              0        0        0        0       0           0   \n",
       "..           ...      ...      ...      ...     ...         ...   \n",
       "745          480     1452      378        0      13           0   \n",
       "746          733      251      502      209      45           0   \n",
       "747          815      841      610        0      15           0   \n",
       "748          811      700      585      181      29           0   \n",
       "749          898      604      518       85      21           0   \n",
       "\n",
       "     Antigua and Barbuda  Argentina  Armenia  Australia  ...  Uruguay  \\\n",
       "0                      0          0        0          0  ...        0   \n",
       "1                      0          0        0          0  ...        0   \n",
       "2                      0          0        0          0  ...        0   \n",
       "3                      0          0        0          4  ...        0   \n",
       "4                      0          0        0          1  ...        0   \n",
       "..                   ...        ...      ...        ...  ...      ...   \n",
       "745                  121      12664     2467      25247  ...     6094   \n",
       "746                    0      25406     1631      27373  ...     6968   \n",
       "747                    0      32790     2486      31510  ...     8444   \n",
       "748                    0      27252     2811      11483  ...     8100   \n",
       "749                  468      25110     2842      31250  ...     8812   \n",
       "\n",
       "     Uzbekistan  Vanuatu  Venezuela  Vietnam  West Bank and Gaza  \\\n",
       "0             0        0          0        0                   0   \n",
       "1             0        0          0        0                   0   \n",
       "2             0        0          0        0                   0   \n",
       "3             0        0          0        0                   0   \n",
       "4             0        0          0        0                   0   \n",
       "..          ...      ...        ...      ...                 ...   \n",
       "745         887        0       1448    14112                   0   \n",
       "746         832        0          0    16815               21874   \n",
       "747         773        0       1694    21909                7931   \n",
       "748         778        0       1560    23956                7682   \n",
       "749         692        0       2049    26032                6091   \n",
       "\n",
       "     Winter Olympics 2022  Yemen  Zambia  Zimbabwe  \n",
       "0                       0      0       0         0  \n",
       "1                       0      0       0         0  \n",
       "2                       0      0       0         0  \n",
       "3                       0      0       0         0  \n",
       "4                       0      0       0         0  \n",
       "..                    ...    ...     ...       ...  \n",
       "745                    10     17     429         0  \n",
       "746                    24    100     111         0  \n",
       "747                     6    287     319       201  \n",
       "748                     0     26     414       137  \n",
       "749                     0     25     506       300  \n",
       "\n",
       "[750 rows x 198 columns]"
      ]
     },
     "execution_count": 8,
     "metadata": {},
     "output_type": "execute_result"
    }
   ],
   "source": [
    "Df"
   ]
  },
  {
   "cell_type": "code",
   "execution_count": 9,
   "metadata": {},
   "outputs": [
    {
     "data": {
      "text/plain": [
       "0           1\n",
       "1           1\n",
       "2           0\n",
       "3           3\n",
       "4           0\n",
       "        ...  \n",
       "745     80051\n",
       "746    336568\n",
       "747    221262\n",
       "748    187299\n",
       "749    147416\n",
       "Name: US, Length: 750, dtype: int32"
      ]
     },
     "execution_count": 9,
     "metadata": {},
     "output_type": "execute_result"
    }
   ],
   "source": [
    "Df['US']"
   ]
  },
  {
   "cell_type": "code",
   "execution_count": 10,
   "metadata": {},
   "outputs": [
    {
     "data": {
      "text/plain": [
       "0             1\n",
       "1             1\n",
       "2             2\n",
       "3             2\n",
       "4             5\n",
       "         ...   \n",
       "746    76536029\n",
       "747    76872597\n",
       "748    77093859\n",
       "749    77281158\n",
       "750    77428574\n",
       "Name: US, Length: 751, dtype: int32"
      ]
     },
     "execution_count": 10,
     "metadata": {},
     "output_type": "execute_result"
    }
   ],
   "source": [
    "Data_df['US']"
   ]
  },
  {
   "cell_type": "markdown",
   "metadata": {},
   "source": [
    "# Visualize Data"
   ]
  },
  {
   "cell_type": "code",
   "execution_count": 11,
   "metadata": {},
   "outputs": [
    {
     "data": {
      "text/plain": [
       "<AxesSubplot:>"
      ]
     },
     "execution_count": 11,
     "metadata": {},
     "output_type": "execute_result"
    },
    {
     "data": {
      "image/png": "[encoded data removed]",
      "text/plain": [
       "<Figure size 432x288 with 1 Axes>"
      ]
     },
     "metadata": {
      "needs_background": "light"
     },
     "output_type": "display_data"
    },
    {
     "data": {
      "image/png": "[encoded data removed]",
      "text/plain": [
       "<Figure size 432x288 with 1 Axes>"
      ]
     },
     "metadata": {
      "needs_background": "light"
     },
     "output_type": "display_data"
    },
    {
     "data": {
      "image/png": "[encoded data removed]",
      "text/plain": [
       "<Figure size 432x288 with 1 Axes>"
      ]
     },
     "metadata": {
      "needs_background": "light"
     },
     "output_type": "display_data"
    },
    {
     "data": {
      "image/png": "[encoded data removed]",
      "text/plain": [
       "<Figure size 432x288 with 1 Axes>"
      ]
     },
     "metadata": {
      "needs_background": "light"
     },
     "output_type": "display_data"
    }
   ],
   "source": [
    "#Data_df['US'].plot()\n",
    "#Data_df.plot()\n",
    "#Data_df.plot(y=['US','China'])\n",
    "Df.plot(y=['South Africa'])\n",
    "Df.plot(y=['US'])\n",
    "Df.plot(y=['China'])\n",
    "Df.plot(y=['Italy'])\n",
    "#Df.plot()"
   ]
  },
  {
   "cell_type": "markdown",
   "metadata": {},
   "source": [
    "# PCA"
   ]
  },
  {
   "cell_type": "code",
   "execution_count": 12,
   "metadata": {},
   "outputs": [],
   "source": [
    "X=Df.values\n",
    "sc=StandardScaler()\n",
    "X_std=sc.fit_transform(X)"
   ]
  },
  {
   "cell_type": "code",
   "execution_count": 13,
   "metadata": {},
   "outputs": [
    {
     "data": {
      "text/plain": [
       "array([[-5.75552406e-01, -7.55364373e-01, -9.54969510e-01, ...,\n",
       "        -5.86253022e-01, -5.27288061e-01, -3.73674317e-01],\n",
       "       [-5.75552406e-01, -7.55364373e-01, -9.54969510e-01, ...,\n",
       "        -5.86253022e-01, -5.27288061e-01, -3.73674317e-01],\n",
       "       [-5.75552406e-01, -7.55364373e-01, -9.54969510e-01, ...,\n",
       "        -5.86253022e-01, -5.27288061e-01, -3.73674317e-01],\n",
       "       ...,\n",
       "       [ 1.50054055e+00,  1.02894421e+00,  7.24176006e-01, ...,\n",
       "         1.02875913e+01, -1.18436285e-01, -1.29863979e-01],\n",
       "       [ 1.49035114e+00,  7.29791405e-01,  6.55358566e-01, ...,\n",
       "         3.98833917e-01,  3.32208089e-03, -2.07495132e-01],\n",
       "       [ 1.71197088e+00,  5.26112899e-01,  4.70927829e-01, ...,\n",
       "         3.60945958e-01,  1.21235446e-01, -9.77829057e-03]])"
      ]
     },
     "execution_count": 13,
     "metadata": {},
     "output_type": "execute_result"
    }
   ],
   "source": [
    "X_std"
   ]
  },
  {
   "cell_type": "code",
   "execution_count": 14,
   "metadata": {},
   "outputs": [],
   "source": [
    "pca=PCA()\n",
    "X_pca=pca.fit_transform(X_std)"
   ]
  },
  {
   "cell_type": "code",
   "execution_count": 15,
   "metadata": {},
   "outputs": [
    {
     "data": {
      "text/plain": [
       "Text(0, 0.5, 'cumulative variance explained')"
      ]
     },
     "execution_count": 15,
     "metadata": {},
     "output_type": "execute_result"
    },
    {
     "data": {
      "image/png": "[encoded data removed]",
      "text/plain": [
       "<Figure size 432x288 with 1 Axes>"
      ]
     },
     "metadata": {
      "needs_background": "light"
     },
     "output_type": "display_data"
    }
   ],
   "source": [
    "plt.plot(np.cumsum(pca.explained_variance_ratio_))\n",
    "plt.xlabel('number of components')\n",
    "plt.ylabel('cumulative variance explained')"
   ]
  },
  {
   "cell_type": "code",
   "execution_count": 16,
   "metadata": {},
   "outputs": [
    {
     "name": "stdout",
     "output_type": "stream",
     "text": [
      "126\n"
     ]
    }
   ],
   "source": [
    "pca = PCA(n_components = 0.99)\n",
    "X_pca = pca.fit_transform(X_std) # fit and reduce dimensions\n",
    "print(pca.n_components_) # print and see how many components are selected"
   ]
  },
  {
   "cell_type": "code",
   "execution_count": 17,
   "metadata": {},
   "outputs": [
    {
     "data": {
      "text/html": [
       "<div>\n",
       "<style scoped>\n",
       "    .dataframe tbody tr th:only-of-type {\n",
       "        vertical-align: middle;\n",
       "    }\n",
       "\n",
       "    .dataframe tbody tr th {\n",
       "        vertical-align: top;\n",
       "    }\n",
       "\n",
       "    .dataframe thead th {\n",
       "        text-align: right;\n",
       "    }\n",
       "</style>\n",
       "<table border=\"1\" class=\"dataframe\">\n",
       "  <thead>\n",
       "    <tr style=\"text-align: right;\">\n",
       "      <th></th>\n",
       "      <th>Afghanistan</th>\n",
       "      <th>Albania</th>\n",
       "      <th>Algeria</th>\n",
       "      <th>Andorra</th>\n",
       "      <th>Angola</th>\n",
       "      <th>Antarctica</th>\n",
       "      <th>Antigua and Barbuda</th>\n",
       "      <th>Argentina</th>\n",
       "      <th>Armenia</th>\n",
       "      <th>Australia</th>\n",
       "      <th>...</th>\n",
       "      <th>Uruguay</th>\n",
       "      <th>Uzbekistan</th>\n",
       "      <th>Vanuatu</th>\n",
       "      <th>Venezuela</th>\n",
       "      <th>Vietnam</th>\n",
       "      <th>West Bank and Gaza</th>\n",
       "      <th>Winter Olympics 2022</th>\n",
       "      <th>Yemen</th>\n",
       "      <th>Zambia</th>\n",
       "      <th>Zimbabwe</th>\n",
       "    </tr>\n",
       "  </thead>\n",
       "  <tbody>\n",
       "    <tr>\n",
       "      <th>0</th>\n",
       "      <td>0.006790</td>\n",
       "      <td>0.087290</td>\n",
       "      <td>0.075711</td>\n",
       "      <td>0.065846</td>\n",
       "      <td>0.046884</td>\n",
       "      <td>0.001829</td>\n",
       "      <td>0.060993</td>\n",
       "      <td>0.106797</td>\n",
       "      <td>0.063714</td>\n",
       "      <td>0.104742</td>\n",
       "      <td>...</td>\n",
       "      <td>0.115922</td>\n",
       "      <td>0.071543</td>\n",
       "      <td>0.001309</td>\n",
       "      <td>0.060341</td>\n",
       "      <td>0.089199</td>\n",
       "      <td>0.059113</td>\n",
       "      <td>0.071293</td>\n",
       "      <td>0.044809</td>\n",
       "      <td>0.044764</td>\n",
       "      <td>0.019168</td>\n",
       "    </tr>\n",
       "    <tr>\n",
       "      <th>1</th>\n",
       "      <td>0.029275</td>\n",
       "      <td>0.016287</td>\n",
       "      <td>0.037572</td>\n",
       "      <td>0.041585</td>\n",
       "      <td>0.110606</td>\n",
       "      <td>-0.000410</td>\n",
       "      <td>0.006559</td>\n",
       "      <td>0.083694</td>\n",
       "      <td>-0.125389</td>\n",
       "      <td>0.073109</td>\n",
       "      <td>...</td>\n",
       "      <td>-0.019690</td>\n",
       "      <td>0.026787</td>\n",
       "      <td>-0.009055</td>\n",
       "      <td>-0.006053</td>\n",
       "      <td>0.048080</td>\n",
       "      <td>-0.067063</td>\n",
       "      <td>-0.090142</td>\n",
       "      <td>-0.032783</td>\n",
       "      <td>0.154893</td>\n",
       "      <td>0.083828</td>\n",
       "    </tr>\n",
       "    <tr>\n",
       "      <th>2</th>\n",
       "      <td>-0.109585</td>\n",
       "      <td>0.038997</td>\n",
       "      <td>-0.117195</td>\n",
       "      <td>0.074310</td>\n",
       "      <td>0.050682</td>\n",
       "      <td>0.008497</td>\n",
       "      <td>0.000105</td>\n",
       "      <td>0.043650</td>\n",
       "      <td>-0.033690</td>\n",
       "      <td>0.089584</td>\n",
       "      <td>...</td>\n",
       "      <td>0.004064</td>\n",
       "      <td>-0.157554</td>\n",
       "      <td>0.005839</td>\n",
       "      <td>-0.112404</td>\n",
       "      <td>-0.012917</td>\n",
       "      <td>-0.034039</td>\n",
       "      <td>-0.036960</td>\n",
       "      <td>-0.045603</td>\n",
       "      <td>0.033644</td>\n",
       "      <td>-0.029345</td>\n",
       "    </tr>\n",
       "    <tr>\n",
       "      <th>3</th>\n",
       "      <td>0.141080</td>\n",
       "      <td>-0.056258</td>\n",
       "      <td>0.062230</td>\n",
       "      <td>0.012354</td>\n",
       "      <td>-0.063433</td>\n",
       "      <td>-0.024256</td>\n",
       "      <td>-0.039862</td>\n",
       "      <td>0.126053</td>\n",
       "      <td>-0.082789</td>\n",
       "      <td>0.042193</td>\n",
       "      <td>...</td>\n",
       "      <td>0.128940</td>\n",
       "      <td>0.020153</td>\n",
       "      <td>-0.021226</td>\n",
       "      <td>0.028754</td>\n",
       "      <td>-0.156897</td>\n",
       "      <td>-0.032514</td>\n",
       "      <td>0.041110</td>\n",
       "      <td>-0.002066</td>\n",
       "      <td>0.012048</td>\n",
       "      <td>-0.072439</td>\n",
       "    </tr>\n",
       "    <tr>\n",
       "      <th>4</th>\n",
       "      <td>0.126583</td>\n",
       "      <td>-0.085290</td>\n",
       "      <td>0.058771</td>\n",
       "      <td>0.006933</td>\n",
       "      <td>-0.001052</td>\n",
       "      <td>0.028837</td>\n",
       "      <td>-0.066593</td>\n",
       "      <td>-0.051250</td>\n",
       "      <td>-0.031843</td>\n",
       "      <td>-0.058425</td>\n",
       "      <td>...</td>\n",
       "      <td>-0.027468</td>\n",
       "      <td>-0.063821</td>\n",
       "      <td>-0.008755</td>\n",
       "      <td>-0.073440</td>\n",
       "      <td>0.006126</td>\n",
       "      <td>-0.013666</td>\n",
       "      <td>0.069155</td>\n",
       "      <td>-0.120113</td>\n",
       "      <td>0.168567</td>\n",
       "      <td>0.167867</td>\n",
       "    </tr>\n",
       "    <tr>\n",
       "      <th>...</th>\n",
       "      <td>...</td>\n",
       "      <td>...</td>\n",
       "      <td>...</td>\n",
       "      <td>...</td>\n",
       "      <td>...</td>\n",
       "      <td>...</td>\n",
       "      <td>...</td>\n",
       "      <td>...</td>\n",
       "      <td>...</td>\n",
       "      <td>...</td>\n",
       "      <td>...</td>\n",
       "      <td>...</td>\n",
       "      <td>...</td>\n",
       "      <td>...</td>\n",
       "      <td>...</td>\n",
       "      <td>...</td>\n",
       "      <td>...</td>\n",
       "      <td>...</td>\n",
       "      <td>...</td>\n",
       "      <td>...</td>\n",
       "      <td>...</td>\n",
       "    </tr>\n",
       "    <tr>\n",
       "      <th>121</th>\n",
       "      <td>0.204228</td>\n",
       "      <td>-0.216675</td>\n",
       "      <td>0.007961</td>\n",
       "      <td>0.001210</td>\n",
       "      <td>-0.003104</td>\n",
       "      <td>0.023764</td>\n",
       "      <td>0.058282</td>\n",
       "      <td>-0.046054</td>\n",
       "      <td>-0.043567</td>\n",
       "      <td>-0.002343</td>\n",
       "      <td>...</td>\n",
       "      <td>-0.000367</td>\n",
       "      <td>0.209835</td>\n",
       "      <td>-0.003176</td>\n",
       "      <td>-0.032388</td>\n",
       "      <td>-0.033892</td>\n",
       "      <td>0.055623</td>\n",
       "      <td>0.038872</td>\n",
       "      <td>0.056347</td>\n",
       "      <td>0.050478</td>\n",
       "      <td>-0.010292</td>\n",
       "    </tr>\n",
       "    <tr>\n",
       "      <th>122</th>\n",
       "      <td>-0.058965</td>\n",
       "      <td>0.027227</td>\n",
       "      <td>0.110777</td>\n",
       "      <td>-0.073139</td>\n",
       "      <td>0.049106</td>\n",
       "      <td>0.047634</td>\n",
       "      <td>-0.097022</td>\n",
       "      <td>-0.017889</td>\n",
       "      <td>0.090848</td>\n",
       "      <td>0.049894</td>\n",
       "      <td>...</td>\n",
       "      <td>-0.059800</td>\n",
       "      <td>-0.063409</td>\n",
       "      <td>-0.002736</td>\n",
       "      <td>0.066858</td>\n",
       "      <td>0.094248</td>\n",
       "      <td>-0.077587</td>\n",
       "      <td>-0.025704</td>\n",
       "      <td>-0.055386</td>\n",
       "      <td>-0.002648</td>\n",
       "      <td>0.029223</td>\n",
       "    </tr>\n",
       "    <tr>\n",
       "      <th>123</th>\n",
       "      <td>0.141447</td>\n",
       "      <td>-0.002850</td>\n",
       "      <td>-0.037718</td>\n",
       "      <td>-0.004310</td>\n",
       "      <td>-0.084396</td>\n",
       "      <td>-0.014667</td>\n",
       "      <td>-0.046208</td>\n",
       "      <td>-0.043147</td>\n",
       "      <td>-0.001058</td>\n",
       "      <td>0.077863</td>\n",
       "      <td>...</td>\n",
       "      <td>-0.046547</td>\n",
       "      <td>0.143978</td>\n",
       "      <td>-0.003033</td>\n",
       "      <td>0.062163</td>\n",
       "      <td>0.028322</td>\n",
       "      <td>0.072215</td>\n",
       "      <td>-0.059997</td>\n",
       "      <td>-0.105366</td>\n",
       "      <td>0.026336</td>\n",
       "      <td>0.021045</td>\n",
       "    </tr>\n",
       "    <tr>\n",
       "      <th>124</th>\n",
       "      <td>-0.084972</td>\n",
       "      <td>0.067597</td>\n",
       "      <td>-0.082723</td>\n",
       "      <td>-0.001842</td>\n",
       "      <td>0.086402</td>\n",
       "      <td>0.029667</td>\n",
       "      <td>0.005771</td>\n",
       "      <td>-0.027274</td>\n",
       "      <td>-0.018381</td>\n",
       "      <td>0.044360</td>\n",
       "      <td>...</td>\n",
       "      <td>0.006404</td>\n",
       "      <td>-0.003824</td>\n",
       "      <td>-0.013423</td>\n",
       "      <td>0.017513</td>\n",
       "      <td>0.013235</td>\n",
       "      <td>-0.090976</td>\n",
       "      <td>-0.070783</td>\n",
       "      <td>-0.017306</td>\n",
       "      <td>0.027623</td>\n",
       "      <td>0.107347</td>\n",
       "    </tr>\n",
       "    <tr>\n",
       "      <th>125</th>\n",
       "      <td>-0.139770</td>\n",
       "      <td>0.031618</td>\n",
       "      <td>0.025939</td>\n",
       "      <td>-0.059607</td>\n",
       "      <td>-0.093186</td>\n",
       "      <td>-0.018740</td>\n",
       "      <td>-0.176403</td>\n",
       "      <td>-0.010549</td>\n",
       "      <td>-0.057914</td>\n",
       "      <td>-0.066190</td>\n",
       "      <td>...</td>\n",
       "      <td>-0.003188</td>\n",
       "      <td>-0.129360</td>\n",
       "      <td>-0.013900</td>\n",
       "      <td>0.120874</td>\n",
       "      <td>0.047587</td>\n",
       "      <td>0.047164</td>\n",
       "      <td>0.012378</td>\n",
       "      <td>0.159019</td>\n",
       "      <td>0.029273</td>\n",
       "      <td>-0.002247</td>\n",
       "    </tr>\n",
       "  </tbody>\n",
       "</table>\n",
       "<p>126 rows × 198 columns</p>\n",
       "</div>"
      ],
      "text/plain": [
       "     Afghanistan   Albania   Algeria   Andorra    Angola  Antarctica  \\\n",
       "0       0.006790  0.087290  0.075711  0.065846  0.046884    0.001829   \n",
       "1       0.029275  0.016287  0.037572  0.041585  0.110606   -0.000410   \n",
       "2      -0.109585  0.038997 -0.117195  0.074310  0.050682    0.008497   \n",
       "3       0.141080 -0.056258  0.062230  0.012354 -0.063433   -0.024256   \n",
       "4       0.126583 -0.085290  0.058771  0.006933 -0.001052    0.028837   \n",
       "..           ...       ...       ...       ...       ...         ...   \n",
       "121     0.204228 -0.216675  0.007961  0.001210 -0.003104    0.023764   \n",
       "122    -0.058965  0.027227  0.110777 -0.073139  0.049106    0.047634   \n",
       "123     0.141447 -0.002850 -0.037718 -0.004310 -0.084396   -0.014667   \n",
       "124    -0.084972  0.067597 -0.082723 -0.001842  0.086402    0.029667   \n",
       "125    -0.139770  0.031618  0.025939 -0.059607 -0.093186   -0.018740   \n",
       "\n",
       "     Antigua and Barbuda  Argentina   Armenia  Australia  ...   Uruguay  \\\n",
       "0               0.060993   0.106797  0.063714   0.104742  ...  0.115922   \n",
       "1               0.006559   0.083694 -0.125389   0.073109  ... -0.019690   \n",
       "2               0.000105   0.043650 -0.033690   0.089584  ...  0.004064   \n",
       "3              -0.039862   0.126053 -0.082789   0.042193  ...  0.128940   \n",
       "4              -0.066593  -0.051250 -0.031843  -0.058425  ... -0.027468   \n",
       "..                   ...        ...       ...        ...  ...       ...   \n",
       "121             0.058282  -0.046054 -0.043567  -0.002343  ... -0.000367   \n",
       "122            -0.097022  -0.017889  0.090848   0.049894  ... -0.059800   \n",
       "123            -0.046208  -0.043147 -0.001058   0.077863  ... -0.046547   \n",
       "124             0.005771  -0.027274 -0.018381   0.044360  ...  0.006404   \n",
       "125            -0.176403  -0.010549 -0.057914  -0.066190  ... -0.003188   \n",
       "\n",
       "     Uzbekistan   Vanuatu  Venezuela   Vietnam  West Bank and Gaza  \\\n",
       "0      0.071543  0.001309   0.060341  0.089199            0.059113   \n",
       "1      0.026787 -0.009055  -0.006053  0.048080           -0.067063   \n",
       "2     -0.157554  0.005839  -0.112404 -0.012917           -0.034039   \n",
       "3      0.020153 -0.021226   0.028754 -0.156897           -0.032514   \n",
       "4     -0.063821 -0.008755  -0.073440  0.006126           -0.013666   \n",
       "..          ...       ...        ...       ...                 ...   \n",
       "121    0.209835 -0.003176  -0.032388 -0.033892            0.055623   \n",
       "122   -0.063409 -0.002736   0.066858  0.094248           -0.077587   \n",
       "123    0.143978 -0.003033   0.062163  0.028322            0.072215   \n",
       "124   -0.003824 -0.013423   0.017513  0.013235           -0.090976   \n",
       "125   -0.129360 -0.013900   0.120874  0.047587            0.047164   \n",
       "\n",
       "     Winter Olympics 2022     Yemen    Zambia  Zimbabwe  \n",
       "0                0.071293  0.044809  0.044764  0.019168  \n",
       "1               -0.090142 -0.032783  0.154893  0.083828  \n",
       "2               -0.036960 -0.045603  0.033644 -0.029345  \n",
       "3                0.041110 -0.002066  0.012048 -0.072439  \n",
       "4                0.069155 -0.120113  0.168567  0.167867  \n",
       "..                    ...       ...       ...       ...  \n",
       "121              0.038872  0.056347  0.050478 -0.010292  \n",
       "122             -0.025704 -0.055386 -0.002648  0.029223  \n",
       "123             -0.059997 -0.105366  0.026336  0.021045  \n",
       "124             -0.070783 -0.017306  0.027623  0.107347  \n",
       "125              0.012378  0.159019  0.029273 -0.002247  \n",
       "\n",
       "[126 rows x 198 columns]"
      ]
     },
     "execution_count": 17,
     "metadata": {},
     "output_type": "execute_result"
    }
   ],
   "source": [
    "pd.DataFrame(pca.components_, columns = Df.columns)"
   ]
  },
  {
   "cell_type": "code",
   "execution_count": 18,
   "metadata": {},
   "outputs": [],
   "source": [
    "n_pcs= pca.n_components_ # get number of component\n",
    "n_pcs=50\n",
    "\n",
    "# get the index of the most important feature on EACH component\n",
    "most_important = [np.abs(pca.components_[i]).argmax() for i in range(n_pcs)]\n",
    "initial_feature_names = Df.columns\n",
    "\n",
    "# get the most important feature names\n",
    "most_important_names = [initial_feature_names[most_important[i]] for i in range(n_pcs)]"
   ]
  },
  {
   "cell_type": "code",
   "execution_count": 19,
   "metadata": {},
   "outputs": [
    {
     "data": {
      "text/plain": [
       "50"
      ]
     },
     "execution_count": 19,
     "metadata": {},
     "output_type": "execute_result"
    }
   ],
   "source": [
    "n_pcs"
   ]
  },
  {
   "cell_type": "code",
   "execution_count": 20,
   "metadata": {},
   "outputs": [
    {
     "data": {
      "text/plain": [
       "['Denmark',\n",
       " 'Mozambique',\n",
       " 'Iran',\n",
       " 'Colombia',\n",
       " 'Philippines',\n",
       " 'Iceland',\n",
       " 'Bosnia and Herzegovina',\n",
       " 'Ethiopia',\n",
       " 'Kiribati',\n",
       " 'Haiti',\n",
       " 'Nigeria',\n",
       " 'Eswatini',\n",
       " 'Niger',\n",
       " 'Congo (Kinshasa)',\n",
       " 'El Salvador',\n",
       " 'Madagascar',\n",
       " 'Uganda',\n",
       " 'Saint Vincent and the Grenadines',\n",
       " 'Summer Olympics 2020',\n",
       " 'Antigua and Barbuda',\n",
       " 'Antarctica',\n",
       " 'Tonga',\n",
       " 'Tanzania',\n",
       " 'Vanuatu',\n",
       " 'Marshall Islands',\n",
       " 'Marshall Islands',\n",
       " 'Vanuatu',\n",
       " 'Cameroon',\n",
       " 'El Salvador',\n",
       " 'Diamond Princess',\n",
       " 'Tanzania',\n",
       " 'Lesotho',\n",
       " 'Tanzania',\n",
       " 'MS Zaandam',\n",
       " 'MS Zaandam',\n",
       " 'Micronesia',\n",
       " 'Holy See',\n",
       " 'Lesotho',\n",
       " 'Kyrgyzstan',\n",
       " 'Equatorial Guinea',\n",
       " 'Nicaragua',\n",
       " 'Marshall Islands',\n",
       " 'Benin',\n",
       " 'Liberia',\n",
       " 'Dominica',\n",
       " 'Cameroon',\n",
       " 'Turkey',\n",
       " 'Kazakhstan',\n",
       " 'Chad',\n",
       " 'Diamond Princess']"
      ]
     },
     "execution_count": 20,
     "metadata": {},
     "output_type": "execute_result"
    }
   ],
   "source": [
    "most_important_names"
   ]
  },
  {
   "cell_type": "markdown",
   "metadata": {},
   "source": [
    "# Regression"
   ]
  },
  {
   "cell_type": "code",
   "execution_count": 21,
   "metadata": {},
   "outputs": [
    {
     "data": {
      "text/html": [
       "<div>\n",
       "<style scoped>\n",
       "    .dataframe tbody tr th:only-of-type {\n",
       "        vertical-align: middle;\n",
       "    }\n",
       "\n",
       "    .dataframe tbody tr th {\n",
       "        vertical-align: top;\n",
       "    }\n",
       "\n",
       "    .dataframe thead th {\n",
       "        text-align: right;\n",
       "    }\n",
       "</style>\n",
       "<table border=\"1\" class=\"dataframe\">\n",
       "  <thead>\n",
       "    <tr style=\"text-align: right;\">\n",
       "      <th></th>\n",
       "      <th>Province/State</th>\n",
       "      <th>Country/Region</th>\n",
       "      <th>Lat</th>\n",
       "      <th>Long</th>\n",
       "      <th>1/22/20</th>\n",
       "      <th>1/23/20</th>\n",
       "      <th>1/24/20</th>\n",
       "      <th>1/25/20</th>\n",
       "      <th>1/26/20</th>\n",
       "      <th>1/27/20</th>\n",
       "      <th>...</th>\n",
       "      <th>2/1/22</th>\n",
       "      <th>2/2/22</th>\n",
       "      <th>2/3/22</th>\n",
       "      <th>2/4/22</th>\n",
       "      <th>2/5/22</th>\n",
       "      <th>2/6/22</th>\n",
       "      <th>2/7/22</th>\n",
       "      <th>2/8/22</th>\n",
       "      <th>2/9/22</th>\n",
       "      <th>2/10/22</th>\n",
       "    </tr>\n",
       "  </thead>\n",
       "  <tbody>\n",
       "    <tr>\n",
       "      <th>0</th>\n",
       "      <td>NaN</td>\n",
       "      <td>Afghanistan</td>\n",
       "      <td>33.93911</td>\n",
       "      <td>67.709953</td>\n",
       "      <td>0</td>\n",
       "      <td>0</td>\n",
       "      <td>0</td>\n",
       "      <td>0</td>\n",
       "      <td>0</td>\n",
       "      <td>0</td>\n",
       "      <td>...</td>\n",
       "      <td>163555</td>\n",
       "      <td>164190</td>\n",
       "      <td>164727</td>\n",
       "      <td>165358</td>\n",
       "      <td>165711</td>\n",
       "      <td>166191</td>\n",
       "      <td>166924</td>\n",
       "      <td>167739</td>\n",
       "      <td>168550</td>\n",
       "      <td>169448</td>\n",
       "    </tr>\n",
       "    <tr>\n",
       "      <th>1</th>\n",
       "      <td>NaN</td>\n",
       "      <td>Albania</td>\n",
       "      <td>41.15330</td>\n",
       "      <td>20.168300</td>\n",
       "      <td>0</td>\n",
       "      <td>0</td>\n",
       "      <td>0</td>\n",
       "      <td>0</td>\n",
       "      <td>0</td>\n",
       "      <td>0</td>\n",
       "      <td>...</td>\n",
       "      <td>258543</td>\n",
       "      <td>261240</td>\n",
       "      <td>261240</td>\n",
       "      <td>263172</td>\n",
       "      <td>263172</td>\n",
       "      <td>264624</td>\n",
       "      <td>264875</td>\n",
       "      <td>265716</td>\n",
       "      <td>266416</td>\n",
       "      <td>267020</td>\n",
       "    </tr>\n",
       "    <tr>\n",
       "      <th>2</th>\n",
       "      <td>NaN</td>\n",
       "      <td>Algeria</td>\n",
       "      <td>28.03390</td>\n",
       "      <td>1.659600</td>\n",
       "      <td>0</td>\n",
       "      <td>0</td>\n",
       "      <td>0</td>\n",
       "      <td>0</td>\n",
       "      <td>0</td>\n",
       "      <td>0</td>\n",
       "      <td>...</td>\n",
       "      <td>253520</td>\n",
       "      <td>254885</td>\n",
       "      <td>255836</td>\n",
       "      <td>256806</td>\n",
       "      <td>257598</td>\n",
       "      <td>257976</td>\n",
       "      <td>258478</td>\n",
       "      <td>259088</td>\n",
       "      <td>259673</td>\n",
       "      <td>260191</td>\n",
       "    </tr>\n",
       "    <tr>\n",
       "      <th>3</th>\n",
       "      <td>NaN</td>\n",
       "      <td>Andorra</td>\n",
       "      <td>42.50630</td>\n",
       "      <td>1.521800</td>\n",
       "      <td>0</td>\n",
       "      <td>0</td>\n",
       "      <td>0</td>\n",
       "      <td>0</td>\n",
       "      <td>0</td>\n",
       "      <td>0</td>\n",
       "      <td>...</td>\n",
       "      <td>35958</td>\n",
       "      <td>36315</td>\n",
       "      <td>36470</td>\n",
       "      <td>36599</td>\n",
       "      <td>36599</td>\n",
       "      <td>36599</td>\n",
       "      <td>36808</td>\n",
       "      <td>36808</td>\n",
       "      <td>36989</td>\n",
       "      <td>37074</td>\n",
       "    </tr>\n",
       "    <tr>\n",
       "      <th>4</th>\n",
       "      <td>NaN</td>\n",
       "      <td>Angola</td>\n",
       "      <td>-11.20270</td>\n",
       "      <td>17.873900</td>\n",
       "      <td>0</td>\n",
       "      <td>0</td>\n",
       "      <td>0</td>\n",
       "      <td>0</td>\n",
       "      <td>0</td>\n",
       "      <td>0</td>\n",
       "      <td>...</td>\n",
       "      <td>98226</td>\n",
       "      <td>98267</td>\n",
       "      <td>98319</td>\n",
       "      <td>98340</td>\n",
       "      <td>98351</td>\n",
       "      <td>98364</td>\n",
       "      <td>98409</td>\n",
       "      <td>98424</td>\n",
       "      <td>98453</td>\n",
       "      <td>98474</td>\n",
       "    </tr>\n",
       "    <tr>\n",
       "      <th>5</th>\n",
       "      <td>NaN</td>\n",
       "      <td>Antarctica</td>\n",
       "      <td>-71.94990</td>\n",
       "      <td>23.347000</td>\n",
       "      <td>0</td>\n",
       "      <td>0</td>\n",
       "      <td>0</td>\n",
       "      <td>0</td>\n",
       "      <td>0</td>\n",
       "      <td>0</td>\n",
       "      <td>...</td>\n",
       "      <td>11</td>\n",
       "      <td>11</td>\n",
       "      <td>11</td>\n",
       "      <td>11</td>\n",
       "      <td>11</td>\n",
       "      <td>11</td>\n",
       "      <td>11</td>\n",
       "      <td>11</td>\n",
       "      <td>11</td>\n",
       "      <td>11</td>\n",
       "    </tr>\n",
       "  </tbody>\n",
       "</table>\n",
       "<p>6 rows × 755 columns</p>\n",
       "</div>"
      ],
      "text/plain": [
       "  Province/State Country/Region       Lat       Long  1/22/20  1/23/20  \\\n",
       "0            NaN    Afghanistan  33.93911  67.709953        0        0   \n",
       "1            NaN        Albania  41.15330  20.168300        0        0   \n",
       "2            NaN        Algeria  28.03390   1.659600        0        0   \n",
       "3            NaN        Andorra  42.50630   1.521800        0        0   \n",
       "4            NaN         Angola -11.20270  17.873900        0        0   \n",
       "5            NaN     Antarctica -71.94990  23.347000        0        0   \n",
       "\n",
       "   1/24/20  1/25/20  1/26/20  1/27/20  ...  2/1/22  2/2/22  2/3/22  2/4/22  \\\n",
       "0        0        0        0        0  ...  163555  164190  164727  165358   \n",
       "1        0        0        0        0  ...  258543  261240  261240  263172   \n",
       "2        0        0        0        0  ...  253520  254885  255836  256806   \n",
       "3        0        0        0        0  ...   35958   36315   36470   36599   \n",
       "4        0        0        0        0  ...   98226   98267   98319   98340   \n",
       "5        0        0        0        0  ...      11      11      11      11   \n",
       "\n",
       "   2/5/22  2/6/22  2/7/22  2/8/22  2/9/22  2/10/22  \n",
       "0  165711  166191  166924  167739  168550   169448  \n",
       "1  263172  264624  264875  265716  266416   267020  \n",
       "2  257598  257976  258478  259088  259673   260191  \n",
       "3   36599   36599   36808   36808   36989    37074  \n",
       "4   98351   98364   98409   98424   98453    98474  \n",
       "5      11      11      11      11      11       11  \n",
       "\n",
       "[6 rows x 755 columns]"
      ]
     },
     "execution_count": 21,
     "metadata": {},
     "output_type": "execute_result"
    }
   ],
   "source": [
    "#define URL where data is located\n",
    "url = \"https://raw.githubusercontent.com/CSSEGISandData/COVID-19/master/csse_covid_19_data/csse_covid_19_time_series/time_series_covid19_confirmed_global.csv\"\n",
    "\n",
    "#read in data\n",
    "data_full = pd.read_csv(url)\n",
    "\n",
    "#view first six rows of data\n",
    "data_full[0:6]"
   ]
  },
  {
   "cell_type": "code",
   "execution_count": 43,
   "metadata": {},
   "outputs": [
    {
     "data": {
      "text/plain": [
       "Text(0.5, 1.0, 'US')"
      ]
     },
     "execution_count": 43,
     "metadata": {},
     "output_type": "execute_result"
    },
    {
     "data": {
      "image/png": "[encoded data removed]",
      "text/plain": [
       "<Figure size 432x288 with 1 Axes>"
      ]
     },
     "metadata": {
      "needs_background": "light"
     },
     "output_type": "display_data"
    }
   ],
   "source": [
    "# define predictor and response variables\n",
    "X = Df\n",
    "y = Df[['US']]\n",
    "\n",
    "#scale predictor variables\n",
    "pca = PCA()\n",
    "X_reduced = pca.fit_transform(scale(X))\n",
    "\n",
    "#define cross validation method\n",
    "cv = RepeatedKFold(n_splits=10, n_repeats=3, random_state=1)\n",
    "\n",
    "regr = LinearRegression()\n",
    "mse = []\n",
    "\n",
    "# Calculate MSE with only the intercept\n",
    "score = -1*model_selection.cross_val_score(regr,\n",
    "           np.ones((len(X_reduced),1)), y, cv=cv,\n",
    "           scoring='neg_mean_squared_error').mean()    \n",
    "mse.append(score)\n",
    "\n",
    "# Calculate MSE using cross-validation, adding one component at a time\n",
    "for i in np.arange(1, 40):\n",
    "    score = -1*model_selection.cross_val_score(regr, \n",
    "                       X_reduced[:,:i], y, cv=cv, scoring='neg_mean_squared_error').mean()\n",
    "    mse.append(score)\n",
    "    \n",
    "# Plot cross-validation results    \n",
    "plt.plot(np.log(mse))\n",
    "plt.xlabel('Number of Principal Components')\n",
    "plt.ylabel('MSE')\n",
    "plt.title('US')"
   ]
  },
  {
   "cell_type": "code",
   "execution_count": 46,
   "metadata": {},
   "outputs": [
    {
     "name": "stdout",
     "output_type": "stream",
     "text": [
      "1738466526.709399\n"
     ]
    }
   ],
   "source": [
    "score = -1*model_selection.cross_val_score(regr, \n",
    "                       X_reduced[:,:29], y, cv=cv, scoring='neg_mean_squared_error').mean()\n",
    "print(score)"
   ]
  },
  {
   "cell_type": "code",
   "execution_count": 47,
   "metadata": {},
   "outputs": [],
   "source": [
    "regr = LinearRegression()\n",
    "regr.fit(X_reduced[:,:29], y)\n",
    "\n",
    "#calculate RMSE\n",
    "pred = regr.predict(X_reduced[:,:29])"
   ]
  },
  {
   "cell_type": "code",
   "execution_count": 48,
   "metadata": {},
   "outputs": [
    {
     "data": {
      "image/png": "[encoded data removed]",
      "text/plain": [
       "<Figure size 432x288 with 1 Axes>"
      ]
     },
     "metadata": {
      "needs_background": "light"
     },
     "output_type": "display_data"
    }
   ],
   "source": [
    "plt.plot(y)\n",
    "plt.plot(pred)\n",
    "plt.show()"
   ]
  },
  {
   "cell_type": "code",
   "execution_count": 49,
   "metadata": {},
   "outputs": [
    {
     "name": "stdout",
     "output_type": "stream",
     "text": [
      "750\n",
      "(750, 198)\n"
     ]
    }
   ],
   "source": [
    "print(len(y))\n",
    "\n",
    "print(X_reduced.shape)"
   ]
  },
  {
   "cell_type": "code",
   "execution_count": 50,
   "metadata": {
    "scrolled": true
   },
   "outputs": [
    {
     "data": {
      "text/plain": [
       "array([27.24, 35.83, 42.63, 47.11, 50.57, 53.21, 55.76, 58.16, 60.01,\n",
       "       61.55, 62.88, 64.17, 65.36, 66.47, 67.44, 68.36, 69.26, 70.13,\n",
       "       70.97, 71.77, 72.54, 73.28, 73.98, 74.67, 75.34, 76.  , 76.64,\n",
       "       77.25, 77.83, 78.41, 78.97, 79.52, 80.04, 80.56, 81.06, 81.56,\n",
       "       82.05, 82.53, 83.  , 83.45, 83.89, 84.31, 84.73, 85.14, 85.54,\n",
       "       85.93, 86.31, 86.69, 87.06, 87.42, 87.78, 88.14, 88.49, 88.83,\n",
       "       89.16, 89.48, 89.79, 90.09, 90.38, 90.66, 90.93, 91.2 , 91.46,\n",
       "       91.72, 91.97, 92.22, 92.46, 92.69, 92.92, 93.14, 93.35, 93.55,\n",
       "       93.75, 93.95, 94.14, 94.32, 94.5 , 94.67, 94.83, 94.99, 95.14,\n",
       "       95.29, 95.44, 95.59, 95.73, 95.86, 95.99, 96.12, 96.24, 96.36,\n",
       "       96.48, 96.6 , 96.71, 96.82, 96.93, 97.03, 97.13, 97.23, 97.32,\n",
       "       97.41, 97.5 , 97.58, 97.66, 97.74, 97.82, 97.89, 97.96, 98.03,\n",
       "       98.1 , 98.17, 98.23, 98.29, 98.35, 98.41, 98.47, 98.53, 98.58,\n",
       "       98.63, 98.68, 98.73, 98.78, 98.83, 98.87, 98.91, 98.95, 98.99,\n",
       "       99.03, 99.07, 99.11, 99.14, 99.17, 99.2 , 99.23, 99.26, 99.29,\n",
       "       99.32, 99.35, 99.38, 99.41, 99.44, 99.46, 99.48, 99.5 , 99.52,\n",
       "       99.54, 99.56, 99.58, 99.6 , 99.62, 99.64, 99.66, 99.68, 99.7 ,\n",
       "       99.72, 99.73, 99.74, 99.75, 99.76, 99.77, 99.78, 99.79, 99.8 ,\n",
       "       99.81, 99.82, 99.83, 99.84, 99.85, 99.86, 99.87, 99.88, 99.89,\n",
       "       99.9 , 99.91, 99.92, 99.93, 99.94, 99.95, 99.96, 99.97, 99.97,\n",
       "       99.97, 99.97, 99.97, 99.97, 99.97, 99.97, 99.97, 99.97, 99.97,\n",
       "       99.97, 99.97, 99.97, 99.97, 99.97, 99.97, 99.97, 99.97, 99.97])"
      ]
     },
     "execution_count": 50,
     "metadata": {},
     "output_type": "execute_result"
    }
   ],
   "source": [
    "np.cumsum(np.round(pca.explained_variance_ratio_, decimals=4)*100)"
   ]
  },
  {
   "cell_type": "code",
   "execution_count": 51,
   "metadata": {},
   "outputs": [
    {
     "data": {
      "text/plain": [
       "78665.57850080005"
      ]
     },
     "execution_count": 51,
     "metadata": {},
     "output_type": "execute_result"
    }
   ],
   "source": [
    "#split the dataset into training (70%) and testing (30%) sets\n",
    "X_train,X_test,y_train,y_test = train_test_split(X,y,test_size=0.3,random_state=0) \n",
    "\n",
    "#scale the training and testing data\n",
    "X_reduced_train = pca.fit_transform(scale(X_train))\n",
    "X_reduced_test = pca.transform(scale(X_test))[:,:1]\n",
    "\n",
    "#train PCR model on training data \n",
    "regr = LinearRegression()\n",
    "regr.fit(X_reduced_train[:,:1], y_train)\n",
    "\n",
    "#calculate RMSE\n",
    "pred = regr.predict(X_reduced_test)\n",
    "np.sqrt(mean_squared_error(y_test, pred))"
   ]
  },
  {
   "cell_type": "markdown",
   "metadata": {},
   "source": [
    "# PCA  Prediction "
   ]
  },
  {
   "cell_type": "code",
   "execution_count": 99,
   "metadata": {},
   "outputs": [
    {
     "name": "stdout",
     "output_type": "stream",
     "text": [
      "750\n",
      "<class 'pandas.core.frame.DataFrame'>\n",
      "<class 'pandas.core.frame.DataFrame'>\n"
     ]
    }
   ],
   "source": [
    "lag=7\n",
    "X_shift=X\n",
    "y_shift=y.shift(periods=-lag)\n",
    "print(len(y_shift))\n",
    "print(type(y))\n",
    "print(type(y_shift))"
   ]
  },
  {
   "cell_type": "code",
   "execution_count": 100,
   "metadata": {},
   "outputs": [
    {
     "name": "stdout",
     "output_type": "stream",
     "text": [
      "         US\n",
      "742  251066\n",
      "743  369281\n",
      "744  104104\n",
      "745   80051\n",
      "746  336568\n",
      "747  221262\n",
      "748  187299\n",
      "749  147416\n",
      "           US\n",
      "742  147416.0\n",
      "743       NaN\n",
      "744       NaN\n",
      "745       NaN\n",
      "746       NaN\n",
      "747       NaN\n",
      "748       NaN\n",
      "749       NaN\n"
     ]
    }
   ],
   "source": [
    "print(y[-(lag+1):])\n",
    "print(y_shift[-(lag+1):])"
   ]
  },
  {
   "cell_type": "code",
   "execution_count": 101,
   "metadata": {},
   "outputs": [
    {
     "name": "stdout",
     "output_type": "stream",
     "text": [
      "(750, 198)\n",
      "(750, 1)\n"
     ]
    }
   ],
   "source": [
    "print(X_shift.shape)\n",
    "print(y_shift.shape)"
   ]
  },
  {
   "cell_type": "code",
   "execution_count": 102,
   "metadata": {},
   "outputs": [],
   "source": [
    "# define predictor and response variables\n",
    "Xall = X_shift\n",
    "yall = y_shift\n",
    "\n",
    "#scale predictor variables\n",
    "pca = PCA()\n",
    "X_reduced = pca.fit_transform(scale(Xall))"
   ]
  },
  {
   "cell_type": "code",
   "execution_count": 103,
   "metadata": {
    "scrolled": true
   },
   "outputs": [
    {
     "name": "stdout",
     "output_type": "stream",
     "text": [
      "(750, 198)\n",
      "(750, 198)\n",
      "(750, 1)\n",
      "(750, 198)\n"
     ]
    }
   ],
   "source": [
    "print(X_shift.shape)\n",
    "print(Xall.shape)\n",
    "print(yall.shape)\n",
    "print(X_reduced.shape)"
   ]
  },
  {
   "cell_type": "code",
   "execution_count": 104,
   "metadata": {},
   "outputs": [
    {
     "name": "stdout",
     "output_type": "stream",
     "text": [
      "<class 'pandas.core.frame.DataFrame'>\n",
      "<class 'numpy.ndarray'>\n",
      "<class 'pandas.core.frame.DataFrame'>\n",
      "<class 'numpy.ndarray'>\n",
      "(743, 198)\n",
      "<class 'numpy.ndarray'>\n",
      "(743, 1)\n",
      "<class 'numpy.ndarray'>\n",
      "(8, 198)\n",
      "(8, 1)\n"
     ]
    }
   ],
   "source": [
    "print(type(Xall))\n",
    "print(type(X_reduced))\n",
    "print(type(yall))\n",
    "X_trainreduced=X_reduced[0:-lag,:]\n",
    "y_train=y.iloc[0:-lag,:].to_numpy()\n",
    "print(type(X_trainreduced))\n",
    "print(X_trainreduced.shape)\n",
    "print(type(y_train))\n",
    "print(y_train.shape)\n",
    "X_testreduced=X_reduced[-(lag+1):,:]\n",
    "y_test=y.iloc[-(lag+1):,:].to_numpy()\n",
    "print(type(X_testreduced))\n",
    "print(X_testreduced.shape)\n",
    "print(y_test.shape)"
   ]
  },
  {
   "cell_type": "code",
   "execution_count": 105,
   "metadata": {},
   "outputs": [
    {
     "data": {
      "text/plain": [
       "Text(0.5, 1.0, 'US')"
      ]
     },
     "execution_count": 105,
     "metadata": {},
     "output_type": "execute_result"
    },
    {
     "data": {
      "image/png": "[encoded data removed]",
      "text/plain": [
       "<Figure size 432x288 with 1 Axes>"
      ]
     },
     "metadata": {
      "needs_background": "light"
     },
     "output_type": "display_data"
    }
   ],
   "source": [
    "#define cross validation method\n",
    "cv = RepeatedKFold(n_splits=10, n_repeats=3, random_state=1)\n",
    "\n",
    "regr = LinearRegression()\n",
    "mse = []\n",
    "\n",
    "# Calculate MSE with only the intercept\n",
    "score = -1*model_selection.cross_val_score(regr,\n",
    "           np.ones((len(X_trainreduced),1)), y_train, cv=cv,\n",
    "           scoring='neg_mean_squared_error').mean()    \n",
    "mse.append(score)\n",
    "\n",
    "# Calculate MSE using cross-validation, adding one component at a time\n",
    "for i in np.arange(1, 40):\n",
    "    score = -1*model_selection.cross_val_score(regr, \n",
    "                       X_trainreduced[:,:i], y_train, cv=cv, scoring='neg_mean_squared_error').mean()\n",
    "    mse.append(score)\n",
    "    \n",
    "# Plot cross-validation results    \n",
    "plt.plot(np.log(mse))\n",
    "plt.xlabel('Number of Principal Components')\n",
    "plt.ylabel('MSE')\n",
    "plt.title('US')"
   ]
  },
  {
   "cell_type": "code",
   "execution_count": 106,
   "metadata": {},
   "outputs": [
    {
     "name": "stdout",
     "output_type": "stream",
     "text": [
      "1793260947.940088\n"
     ]
    }
   ],
   "source": [
    "score = -1*model_selection.cross_val_score(regr, \n",
    "                       X_trainreduced[:,:31], y_train, cv=cv, scoring='neg_mean_squared_error').mean()\n",
    "print(score)"
   ]
  },
  {
   "cell_type": "code",
   "execution_count": 107,
   "metadata": {},
   "outputs": [],
   "source": [
    "regr = LinearRegression()\n",
    "regr.fit(X_trainreduced[:,:31], y_train)\n",
    "\n",
    "#calculate RMSE\n",
    "trainpred = regr.predict(X_trainreduced[:,:31])"
   ]
  },
  {
   "cell_type": "code",
   "execution_count": 108,
   "metadata": {
    "scrolled": true
   },
   "outputs": [
    {
     "data": {
      "image/png": "[encoded data removed]",
      "text/plain": [
       "<Figure size 432x288 with 1 Axes>"
      ]
     },
     "metadata": {
      "needs_background": "light"
     },
     "output_type": "display_data"
    }
   ],
   "source": [
    "plt.plot(y_train)\n",
    "plt.plot(trainpred)\n",
    "plt.xlim(720, 740)\n",
    "plt.grid()\n",
    "plt.show()"
   ]
  },
  {
   "cell_type": "code",
   "execution_count": 109,
   "metadata": {},
   "outputs": [
    {
     "name": "stdout",
     "output_type": "stream",
     "text": [
      "[[345871.39401697]\n",
      " [391743.94465863]\n",
      " [-99489.45645836]\n",
      " [ 33634.52217633]\n",
      " [369731.72451695]\n",
      " [215321.71563044]\n",
      " [172045.40063191]\n",
      " [119290.53797816]]\n",
      "[[251066]\n",
      " [369281]\n",
      " [104104]\n",
      " [ 80051]\n",
      " [336568]\n",
      " [221262]\n",
      " [187299]\n",
      " [147416]]\n"
     ]
    }
   ],
   "source": [
    "predres = regr.predict(X_testreduced[:,:31])\n",
    "print(predres)\n",
    "print(y_test)"
   ]
  },
  {
   "cell_type": "code",
   "execution_count": 110,
   "metadata": {},
   "outputs": [],
   "source": [
    "asx=np.linspace(len(yall)-lag-1,len(yall)-1,lag+1)"
   ]
  },
  {
   "cell_type": "code",
   "execution_count": 112,
   "metadata": {
    "scrolled": true
   },
   "outputs": [
    {
     "data": {
      "image/png": "[encoded data removed]",
      "text/plain": [
       "<Figure size 432x288 with 1 Axes>"
      ]
     },
     "metadata": {
      "needs_background": "light"
     },
     "output_type": "display_data"
    }
   ],
   "source": [
    "plt.plot(y_train, \"-r\", label='y train')\n",
    "plt.plot(trainpred, \"-y\", label='trainpred')\n",
    "plt.plot(asx,predres, \"-g\", label='predres')\n",
    "plt.plot(asx,y_test, \"-b\", label='y test')\n",
    "plt.legend(('y train','trainpred', 'predres', 'y test'))\n",
    "plt.legend(loc = \"upper right\")\n",
    "plt.title(\"Prediction: 7 days\")\n",
    "plt.xlabel(\"Day\")\n",
    "plt.ylabel(\"Number of cases\")\n",
    "plt.xlim(710, 750)\n",
    "plt.grid() \n",
    "plt.show()"
   ]
  },
  {
   "cell_type": "code",
   "execution_count": 72,
   "metadata": {},
   "outputs": [
    {
     "name": "stdout",
     "output_type": "stream",
     "text": [
      "750\n",
      "<class 'pandas.core.frame.DataFrame'>\n",
      "<class 'pandas.core.frame.DataFrame'>\n"
     ]
    }
   ],
   "source": [
    "lag=30\n",
    "X_shift=X\n",
    "y_shift=y.shift(periods=-lag)\n",
    "print(len(y_shift))\n",
    "print(type(y))\n",
    "print(type(y_shift))"
   ]
  },
  {
   "cell_type": "code",
   "execution_count": 73,
   "metadata": {},
   "outputs": [],
   "source": [
    "# define predictor and response variables\n",
    "Xall = X_shift\n",
    "yall = y_shift\n",
    "\n",
    "#scale predictor variables\n",
    "pca = PCA()\n",
    "X_reduced = pca.fit_transform(scale(Xall))"
   ]
  },
  {
   "cell_type": "code",
   "execution_count": 75,
   "metadata": {},
   "outputs": [],
   "source": [
    "X_trainreduced=X_reduced[0:-lag,:]\n",
    "y_train=y.iloc[0:-lag,:].to_numpy()\n",
    "X_testreduced=X_reduced[-(lag+1):,:]\n",
    "y_test=y.iloc[-(lag+1):,:].to_numpy()"
   ]
  },
  {
   "cell_type": "code",
   "execution_count": 76,
   "metadata": {},
   "outputs": [
    {
     "data": {
      "text/plain": [
       "Text(0.5, 1.0, 'US')"
      ]
     },
     "execution_count": 76,
     "metadata": {},
     "output_type": "execute_result"
    },
    {
     "data": {
      "image/png": "[encoded data removed]",
      "text/plain": [
       "<Figure size 432x288 with 1 Axes>"
      ]
     },
     "metadata": {
      "needs_background": "light"
     },
     "output_type": "display_data"
    }
   ],
   "source": [
    "#define cross validation method\n",
    "cv = RepeatedKFold(n_splits=10, n_repeats=3, random_state=1)\n",
    "\n",
    "regr = LinearRegression()\n",
    "mse = []\n",
    "\n",
    "# Calculate MSE with only the intercept\n",
    "score = -1*model_selection.cross_val_score(regr,\n",
    "           np.ones((len(X_trainreduced),1)), y_train, cv=cv,\n",
    "           scoring='neg_mean_squared_error').mean()    \n",
    "mse.append(score)\n",
    "\n",
    "# Calculate MSE using cross-validation, adding one component at a time\n",
    "for i in np.arange(1, 40):\n",
    "    score = -1*model_selection.cross_val_score(regr, \n",
    "                       X_trainreduced[:,:i], y_train, cv=cv, scoring='neg_mean_squared_error').mean()\n",
    "    mse.append(score)\n",
    "    \n",
    "# Plot cross-validation results    \n",
    "plt.plot(np.log(mse))\n",
    "plt.xlabel('Number of Principal Components')\n",
    "plt.ylabel('MSE')\n",
    "plt.title('US')"
   ]
  },
  {
   "cell_type": "code",
   "execution_count": 86,
   "metadata": {},
   "outputs": [
    {
     "name": "stdout",
     "output_type": "stream",
     "text": [
      "1127653208.2262616\n"
     ]
    }
   ],
   "source": [
    "score = -1*model_selection.cross_val_score(regr, \n",
    "                       X_trainreduced[:,:27], y_train, cv=cv, scoring='neg_mean_squared_error').mean()\n",
    "print(score)"
   ]
  },
  {
   "cell_type": "code",
   "execution_count": 87,
   "metadata": {},
   "outputs": [],
   "source": [
    "regr = LinearRegression()\n",
    "regr.fit(X_trainreduced[:,:27], y_train)\n",
    "\n",
    "#calculate RMSE\n",
    "trainpred = regr.predict(X_trainreduced[:,:27])"
   ]
  },
  {
   "cell_type": "code",
   "execution_count": 97,
   "metadata": {},
   "outputs": [
    {
     "data": {
      "image/png": "[encoded data removed]",
      "text/plain": [
       "<Figure size 432x288 with 1 Axes>"
      ]
     },
     "metadata": {
      "needs_background": "light"
     },
     "output_type": "display_data"
    }
   ],
   "source": [
    "plt.plot(y_train)\n",
    "plt.plot(trainpred)\n",
    "plt.xlim(680, 720)\n",
    "plt.grid()\n",
    "plt.show()"
   ]
  },
  {
   "cell_type": "code",
   "execution_count": 90,
   "metadata": {},
   "outputs": [],
   "source": [
    "predres = regr.predict(X_testreduced[:,:27])"
   ]
  },
  {
   "cell_type": "code",
   "execution_count": 91,
   "metadata": {},
   "outputs": [],
   "source": [
    "asx=np.linspace(len(yall)-lag-1,len(yall)-1,lag+1)"
   ]
  },
  {
   "cell_type": "code",
   "execution_count": 94,
   "metadata": {},
   "outputs": [
    {
     "data": {
      "image/png": "[encoded data removed]",
      "text/plain": [
       "<Figure size 432x288 with 1 Axes>"
      ]
     },
     "metadata": {
      "needs_background": "light"
     },
     "output_type": "display_data"
    }
   ],
   "source": [
    "plt.plot(y_train, \"-r\", label='y train')\n",
    "plt.plot(trainpred, \"-y\", label='trainpred')\n",
    "plt.plot(asx,predres, \"-g\", label='predres')\n",
    "plt.plot(asx,y_test, \"-b\", label='y test')\n",
    "plt.legend(('y train','trainpred', 'predres', 'y test'))\n",
    "plt.legend(loc = \"upper right\")\n",
    "plt.title(\"Prediction: 30 days\")\n",
    "plt.xlabel(\"Day\")\n",
    "plt.ylabel(\"Number of cases\")\n",
    "plt.xlim(710, 750)\n",
    "plt.grid() \n",
    "plt.show()"
   ]
  },
  {
   "cell_type": "markdown",
   "metadata": {},
   "source": [
    "# Appendix"
   ]
  },
  {
   "cell_type": "code",
   "execution_count": null,
   "metadata": {},
   "outputs": [],
   "source": [
    "# load dataset into Pandas DataFrame\n",
    "#df = pd.read_csv('datasaved.csv', names=['Unnamed:', '1/22/21', '1/23/21', '1/24/20','target'])\n",
    "df = pd.read_csv('datasaved.csv')"
   ]
  },
  {
   "cell_type": "code",
   "execution_count": null,
   "metadata": {},
   "outputs": [],
   "source": [
    "df.head()"
   ]
  },
  {
   "cell_type": "code",
   "execution_count": null,
   "metadata": {},
   "outputs": [],
   "source": [
    "df.shape"
   ]
  },
  {
   "cell_type": "code",
   "execution_count": null,
   "metadata": {},
   "outputs": [],
   "source": [
    "# Standardize data\n",
    "features = ['Unnamed:', '1/22/21', '1/23/21', '1/24/20']\n",
    "# Separating out the features\n",
    "x = df.loc[:, features].values"
   ]
  },
  {
   "cell_type": "code",
   "execution_count": null,
   "metadata": {},
   "outputs": [],
   "source": [
    "# Separating out the target\n",
    "y = df.loc[:,['target']].values"
   ]
  },
  {
   "cell_type": "code",
   "execution_count": null,
   "metadata": {
    "scrolled": true
   },
   "outputs": [],
   "source": [
    "# Standardizing the features\n",
    "x = StandardScaler().fit_transform(x)"
   ]
  },
  {
   "cell_type": "code",
   "execution_count": null,
   "metadata": {},
   "outputs": [],
   "source": [
    "type(x)"
   ]
  },
  {
   "cell_type": "code",
   "execution_count": null,
   "metadata": {},
   "outputs": [],
   "source": [
    "print(x)"
   ]
  },
  {
   "cell_type": "code",
   "execution_count": null,
   "metadata": {},
   "outputs": [],
   "source": [
    "pd.DataFrame(data = x, columns = features).head()"
   ]
  },
  {
   "cell_type": "code",
   "execution_count": null,
   "metadata": {},
   "outputs": [],
   "source": [
    "# PCA projection to 2D\n",
    "pca = PCA(n_components=2)\n",
    "principalComponents = pca.fit_transform(x)\n",
    "principalDf = pd.DataFrame(data = principalComponents\n",
    "             , columns = ['principal component 1', 'principal component 2'])"
   ]
  },
  {
   "cell_type": "code",
   "execution_count": null,
   "metadata": {},
   "outputs": [],
   "source": [
    "principalDf.head(5)"
   ]
  },
  {
   "cell_type": "code",
   "execution_count": null,
   "metadata": {},
   "outputs": [],
   "source": [
    "df[['target']].head()"
   ]
  },
  {
   "cell_type": "code",
   "execution_count": null,
   "metadata": {},
   "outputs": [],
   "source": [
    "finalDf = pd.concat([principalDf, df[['target']]], axis = 1)\n",
    "finalDf.head(5)"
   ]
  },
  {
   "cell_type": "code",
   "execution_count": null,
   "id": "ecbeba10",
   "metadata": {},
   "outputs": [],
   "source": [
    "# Visualize 2D projection\n",
    "fig = plt.figure(figsize = (8,8))\n",
    "ax = fig.add_subplot(1,1,1) \n",
    "ax.set_xlabel('Principal Component 1', fontsize = 15)\n",
    "ax.set_ylabel('Principal Component 2', fontsize = 15)\n",
    "ax.set_title('2 Component PCA', fontsize = 20)\n",
    "\n",
    "\n",
    "targets = ['Iris-setosa', 'Iris-versicolor', 'Iris-virginica']\n",
    "colors = ['r', 'g', 'b']\n",
    "for target, color in zip(targets,colors):\n",
    "    indicesToKeep = finalDf['target'] == target\n",
    "    ax.scatter(finalDf.loc[indicesToKeep, 'principal component 1']\n",
    "               , finalDf.loc[indicesToKeep, 'principal component 2']\n",
    "               , c = color\n",
    "               , s = 50)\n",
    "ax.legend(targets)\n",
    "ax.grid()"
   ]
  },
  {
   "cell_type": "code",
   "execution_count": null,
   "metadata": {},
   "outputs": [],
   "source": [
    "# Explained variance\n",
    "pca.explained_variance_ratio_"
   ]
  }
 ],
 "metadata": {
  "kernelspec": {
   "display_name": "Python 3 (ipykernel)",
   "language": "python",
   "name": "python3"
  },
  "language_info": {
   "codemirror_mode": {
    "name": "ipython",
    "version": 3
   },
   "file_extension": ".py",
   "mimetype": "text/x-python",
   "name": "python",
   "nbconvert_exporter": "python",
   "pygments_lexer": "ipython3",
   "version": "3.9.7"
  }
 },
 "nbformat": 4,
 "nbformat_minor": 1
}
