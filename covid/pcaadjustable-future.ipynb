{
 "cells": [
  {
   "cell_type": "markdown",
   "metadata": {},
   "source": [
    "# Import Library"
   ]
  },
  {
   "cell_type": "code",
   "execution_count": 1,
   "metadata": {},
   "outputs": [],
   "source": [
    "import pandas as pd \n",
    "import numpy as np\n",
    "import matplotlib.pyplot as plt\n",
    "%matplotlib inline\n",
    "from sklearn.decomposition import PCA\n",
    "from sklearn.preprocessing import StandardScaler\n",
    "import ssl\n",
    "from sklearn.preprocessing import scale \n",
    "from sklearn import model_selection\n",
    "from sklearn.model_selection import RepeatedKFold\n",
    "from sklearn.model_selection import train_test_split\n",
    "from sklearn.linear_model import LinearRegression\n",
    "from sklearn.metrics import mean_squared_error"
   ]
  },
  {
   "cell_type": "markdown",
   "metadata": {},
   "source": [
    "# Download Data"
   ]
  },
  {
   "cell_type": "code",
   "execution_count": 2,
   "metadata": {},
   "outputs": [],
   "source": [
    "ssl._create_default_https_context = ssl._create_unverified_context\n",
    "Datagrep=pd.read_csv('https://raw.githubusercontent.com/CSSEGISandData/COVID-19/master/csse_covid_19_data/csse_covid_19_time_series/time_series_covid19_confirmed_global.csv')"
   ]
  },
  {
   "cell_type": "markdown",
   "metadata": {},
   "source": [
    "# Transform Data"
   ]
  },
  {
   "cell_type": "code",
   "execution_count": 3,
   "metadata": {},
   "outputs": [
    {
     "data": {
      "text/html": [
       "<div>\n",
       "<style scoped>\n",
       "    .dataframe tbody tr th:only-of-type {\n",
       "        vertical-align: middle;\n",
       "    }\n",
       "\n",
       "    .dataframe tbody tr th {\n",
       "        vertical-align: top;\n",
       "    }\n",
       "\n",
       "    .dataframe thead th {\n",
       "        text-align: right;\n",
       "    }\n",
       "</style>\n",
       "<table border=\"1\" class=\"dataframe\">\n",
       "  <thead>\n",
       "    <tr style=\"text-align: right;\">\n",
       "      <th></th>\n",
       "      <th>Province/State</th>\n",
       "      <th>Country/Region</th>\n",
       "      <th>Lat</th>\n",
       "      <th>Long</th>\n",
       "      <th>1/22/20</th>\n",
       "      <th>1/23/20</th>\n",
       "      <th>1/24/20</th>\n",
       "      <th>1/25/20</th>\n",
       "      <th>1/26/20</th>\n",
       "      <th>1/27/20</th>\n",
       "      <th>...</th>\n",
       "      <th>3/2/22</th>\n",
       "      <th>3/3/22</th>\n",
       "      <th>3/4/22</th>\n",
       "      <th>3/5/22</th>\n",
       "      <th>3/6/22</th>\n",
       "      <th>3/7/22</th>\n",
       "      <th>3/8/22</th>\n",
       "      <th>3/9/22</th>\n",
       "      <th>3/10/22</th>\n",
       "      <th>3/11/22</th>\n",
       "    </tr>\n",
       "  </thead>\n",
       "  <tbody>\n",
       "    <tr>\n",
       "      <th>0</th>\n",
       "      <td>NaN</td>\n",
       "      <td>Afghanistan</td>\n",
       "      <td>33.939110</td>\n",
       "      <td>67.709953</td>\n",
       "      <td>0</td>\n",
       "      <td>0</td>\n",
       "      <td>0</td>\n",
       "      <td>0</td>\n",
       "      <td>0</td>\n",
       "      <td>0</td>\n",
       "      <td>...</td>\n",
       "      <td>174073</td>\n",
       "      <td>174214</td>\n",
       "      <td>174214</td>\n",
       "      <td>174331</td>\n",
       "      <td>174582</td>\n",
       "      <td>175000</td>\n",
       "      <td>175353</td>\n",
       "      <td>175525</td>\n",
       "      <td>175893</td>\n",
       "      <td>175974</td>\n",
       "    </tr>\n",
       "    <tr>\n",
       "      <th>1</th>\n",
       "      <td>NaN</td>\n",
       "      <td>Albania</td>\n",
       "      <td>41.153300</td>\n",
       "      <td>20.168300</td>\n",
       "      <td>0</td>\n",
       "      <td>0</td>\n",
       "      <td>0</td>\n",
       "      <td>0</td>\n",
       "      <td>0</td>\n",
       "      <td>0</td>\n",
       "      <td>...</td>\n",
       "      <td>271825</td>\n",
       "      <td>271825</td>\n",
       "      <td>272030</td>\n",
       "      <td>272030</td>\n",
       "      <td>272210</td>\n",
       "      <td>272250</td>\n",
       "      <td>272337</td>\n",
       "      <td>272412</td>\n",
       "      <td>272479</td>\n",
       "      <td>272552</td>\n",
       "    </tr>\n",
       "    <tr>\n",
       "      <th>2</th>\n",
       "      <td>NaN</td>\n",
       "      <td>Algeria</td>\n",
       "      <td>28.033900</td>\n",
       "      <td>1.659600</td>\n",
       "      <td>0</td>\n",
       "      <td>0</td>\n",
       "      <td>0</td>\n",
       "      <td>0</td>\n",
       "      <td>0</td>\n",
       "      <td>0</td>\n",
       "      <td>...</td>\n",
       "      <td>265079</td>\n",
       "      <td>265130</td>\n",
       "      <td>265186</td>\n",
       "      <td>265227</td>\n",
       "      <td>265265</td>\n",
       "      <td>265297</td>\n",
       "      <td>265323</td>\n",
       "      <td>265346</td>\n",
       "      <td>265366</td>\n",
       "      <td>265391</td>\n",
       "    </tr>\n",
       "    <tr>\n",
       "      <th>3</th>\n",
       "      <td>NaN</td>\n",
       "      <td>Andorra</td>\n",
       "      <td>42.506300</td>\n",
       "      <td>1.521800</td>\n",
       "      <td>0</td>\n",
       "      <td>0</td>\n",
       "      <td>0</td>\n",
       "      <td>0</td>\n",
       "      <td>0</td>\n",
       "      <td>0</td>\n",
       "      <td>...</td>\n",
       "      <td>38249</td>\n",
       "      <td>38342</td>\n",
       "      <td>38434</td>\n",
       "      <td>38434</td>\n",
       "      <td>38434</td>\n",
       "      <td>38620</td>\n",
       "      <td>38710</td>\n",
       "      <td>38794</td>\n",
       "      <td>38794</td>\n",
       "      <td>38794</td>\n",
       "    </tr>\n",
       "    <tr>\n",
       "      <th>4</th>\n",
       "      <td>NaN</td>\n",
       "      <td>Angola</td>\n",
       "      <td>-11.202700</td>\n",
       "      <td>17.873900</td>\n",
       "      <td>0</td>\n",
       "      <td>0</td>\n",
       "      <td>0</td>\n",
       "      <td>0</td>\n",
       "      <td>0</td>\n",
       "      <td>0</td>\n",
       "      <td>...</td>\n",
       "      <td>98746</td>\n",
       "      <td>98746</td>\n",
       "      <td>98796</td>\n",
       "      <td>98796</td>\n",
       "      <td>98806</td>\n",
       "      <td>98806</td>\n",
       "      <td>98829</td>\n",
       "      <td>98855</td>\n",
       "      <td>98855</td>\n",
       "      <td>98855</td>\n",
       "    </tr>\n",
       "    <tr>\n",
       "      <th>...</th>\n",
       "      <td>...</td>\n",
       "      <td>...</td>\n",
       "      <td>...</td>\n",
       "      <td>...</td>\n",
       "      <td>...</td>\n",
       "      <td>...</td>\n",
       "      <td>...</td>\n",
       "      <td>...</td>\n",
       "      <td>...</td>\n",
       "      <td>...</td>\n",
       "      <td>...</td>\n",
       "      <td>...</td>\n",
       "      <td>...</td>\n",
       "      <td>...</td>\n",
       "      <td>...</td>\n",
       "      <td>...</td>\n",
       "      <td>...</td>\n",
       "      <td>...</td>\n",
       "      <td>...</td>\n",
       "      <td>...</td>\n",
       "      <td>...</td>\n",
       "    </tr>\n",
       "    <tr>\n",
       "      <th>279</th>\n",
       "      <td>NaN</td>\n",
       "      <td>West Bank and Gaza</td>\n",
       "      <td>31.952200</td>\n",
       "      <td>35.233200</td>\n",
       "      <td>0</td>\n",
       "      <td>0</td>\n",
       "      <td>0</td>\n",
       "      <td>0</td>\n",
       "      <td>0</td>\n",
       "      <td>0</td>\n",
       "      <td>...</td>\n",
       "      <td>648039</td>\n",
       "      <td>649110</td>\n",
       "      <td>649971</td>\n",
       "      <td>649971</td>\n",
       "      <td>649971</td>\n",
       "      <td>651700</td>\n",
       "      <td>652298</td>\n",
       "      <td>652763</td>\n",
       "      <td>652966</td>\n",
       "      <td>653293</td>\n",
       "    </tr>\n",
       "    <tr>\n",
       "      <th>280</th>\n",
       "      <td>NaN</td>\n",
       "      <td>Winter Olympics 2022</td>\n",
       "      <td>39.904200</td>\n",
       "      <td>116.407400</td>\n",
       "      <td>0</td>\n",
       "      <td>0</td>\n",
       "      <td>0</td>\n",
       "      <td>0</td>\n",
       "      <td>0</td>\n",
       "      <td>0</td>\n",
       "      <td>...</td>\n",
       "      <td>524</td>\n",
       "      <td>526</td>\n",
       "      <td>530</td>\n",
       "      <td>530</td>\n",
       "      <td>532</td>\n",
       "      <td>532</td>\n",
       "      <td>533</td>\n",
       "      <td>533</td>\n",
       "      <td>535</td>\n",
       "      <td>535</td>\n",
       "    </tr>\n",
       "    <tr>\n",
       "      <th>281</th>\n",
       "      <td>NaN</td>\n",
       "      <td>Yemen</td>\n",
       "      <td>15.552727</td>\n",
       "      <td>48.516388</td>\n",
       "      <td>0</td>\n",
       "      <td>0</td>\n",
       "      <td>0</td>\n",
       "      <td>0</td>\n",
       "      <td>0</td>\n",
       "      <td>0</td>\n",
       "      <td>...</td>\n",
       "      <td>11771</td>\n",
       "      <td>11772</td>\n",
       "      <td>11774</td>\n",
       "      <td>11775</td>\n",
       "      <td>11777</td>\n",
       "      <td>11781</td>\n",
       "      <td>11781</td>\n",
       "      <td>11781</td>\n",
       "      <td>11783</td>\n",
       "      <td>11783</td>\n",
       "    </tr>\n",
       "    <tr>\n",
       "      <th>282</th>\n",
       "      <td>NaN</td>\n",
       "      <td>Zambia</td>\n",
       "      <td>-13.133897</td>\n",
       "      <td>27.849332</td>\n",
       "      <td>0</td>\n",
       "      <td>0</td>\n",
       "      <td>0</td>\n",
       "      <td>0</td>\n",
       "      <td>0</td>\n",
       "      <td>0</td>\n",
       "      <td>...</td>\n",
       "      <td>313203</td>\n",
       "      <td>313394</td>\n",
       "      <td>313613</td>\n",
       "      <td>313744</td>\n",
       "      <td>313821</td>\n",
       "      <td>313910</td>\n",
       "      <td>314159</td>\n",
       "      <td>314641</td>\n",
       "      <td>314850</td>\n",
       "      <td>314986</td>\n",
       "    </tr>\n",
       "    <tr>\n",
       "      <th>283</th>\n",
       "      <td>NaN</td>\n",
       "      <td>Zimbabwe</td>\n",
       "      <td>-19.015438</td>\n",
       "      <td>29.154857</td>\n",
       "      <td>0</td>\n",
       "      <td>0</td>\n",
       "      <td>0</td>\n",
       "      <td>0</td>\n",
       "      <td>0</td>\n",
       "      <td>0</td>\n",
       "      <td>...</td>\n",
       "      <td>237503</td>\n",
       "      <td>237503</td>\n",
       "      <td>238739</td>\n",
       "      <td>239019</td>\n",
       "      <td>239209</td>\n",
       "      <td>239710</td>\n",
       "      <td>240343</td>\n",
       "      <td>240343</td>\n",
       "      <td>241548</td>\n",
       "      <td>241548</td>\n",
       "    </tr>\n",
       "  </tbody>\n",
       "</table>\n",
       "<p>284 rows × 784 columns</p>\n",
       "</div>"
      ],
      "text/plain": [
       "    Province/State        Country/Region        Lat        Long  1/22/20  \\\n",
       "0              NaN           Afghanistan  33.939110   67.709953        0   \n",
       "1              NaN               Albania  41.153300   20.168300        0   \n",
       "2              NaN               Algeria  28.033900    1.659600        0   \n",
       "3              NaN               Andorra  42.506300    1.521800        0   \n",
       "4              NaN                Angola -11.202700   17.873900        0   \n",
       "..             ...                   ...        ...         ...      ...   \n",
       "279            NaN    West Bank and Gaza  31.952200   35.233200        0   \n",
       "280            NaN  Winter Olympics 2022  39.904200  116.407400        0   \n",
       "281            NaN                 Yemen  15.552727   48.516388        0   \n",
       "282            NaN                Zambia -13.133897   27.849332        0   \n",
       "283            NaN              Zimbabwe -19.015438   29.154857        0   \n",
       "\n",
       "     1/23/20  1/24/20  1/25/20  1/26/20  1/27/20  ...  3/2/22  3/3/22  3/4/22  \\\n",
       "0          0        0        0        0        0  ...  174073  174214  174214   \n",
       "1          0        0        0        0        0  ...  271825  271825  272030   \n",
       "2          0        0        0        0        0  ...  265079  265130  265186   \n",
       "3          0        0        0        0        0  ...   38249   38342   38434   \n",
       "4          0        0        0        0        0  ...   98746   98746   98796   \n",
       "..       ...      ...      ...      ...      ...  ...     ...     ...     ...   \n",
       "279        0        0        0        0        0  ...  648039  649110  649971   \n",
       "280        0        0        0        0        0  ...     524     526     530   \n",
       "281        0        0        0        0        0  ...   11771   11772   11774   \n",
       "282        0        0        0        0        0  ...  313203  313394  313613   \n",
       "283        0        0        0        0        0  ...  237503  237503  238739   \n",
       "\n",
       "     3/5/22  3/6/22  3/7/22  3/8/22  3/9/22  3/10/22  3/11/22  \n",
       "0    174331  174582  175000  175353  175525   175893   175974  \n",
       "1    272030  272210  272250  272337  272412   272479   272552  \n",
       "2    265227  265265  265297  265323  265346   265366   265391  \n",
       "3     38434   38434   38620   38710   38794    38794    38794  \n",
       "4     98796   98806   98806   98829   98855    98855    98855  \n",
       "..      ...     ...     ...     ...     ...      ...      ...  \n",
       "279  649971  649971  651700  652298  652763   652966   653293  \n",
       "280     530     532     532     533     533      535      535  \n",
       "281   11775   11777   11781   11781   11781    11783    11783  \n",
       "282  313744  313821  313910  314159  314641   314850   314986  \n",
       "283  239019  239209  239710  240343  240343   241548   241548  \n",
       "\n",
       "[284 rows x 784 columns]"
      ]
     },
     "execution_count": 3,
     "metadata": {},
     "output_type": "execute_result"
    }
   ],
   "source": [
    "Datagrep"
   ]
  },
  {
   "cell_type": "code",
   "execution_count": 4,
   "metadata": {},
   "outputs": [
    {
     "name": "stdout",
     "output_type": "stream",
     "text": [
      "['Afghanistan', 'Albania', 'Algeria', 'Andorra']\n",
      "198\n",
      "['3/10/22', '3/11/22']\n",
      "780\n"
     ]
    }
   ],
   "source": [
    "countries_JH=Datagrep['Country/Region'].unique().tolist()\n",
    "dates_JH=list(Datagrep)[4:]\n",
    "print(countries_JH[0:4])\n",
    "print(len(countries_JH))\n",
    "print(dates_JH[-2:])\n",
    "print(len(dates_JH))"
   ]
  },
  {
   "cell_type": "code",
   "execution_count": 5,
   "metadata": {},
   "outputs": [],
   "source": [
    "N=[]\n",
    "for c in countries_JH:\n",
    "    L=Datagrep[Datagrep['Country/Region']==c][dates_JH].sum().values.tolist()\n",
    "    N.append(L)\n",
    "Data_df=pd.DataFrame(np.array(N).T).rename(columns={i:countries_JH[i] for i in range(len(countries_JH))}) "
   ]
  },
  {
   "cell_type": "code",
   "execution_count": 6,
   "metadata": {},
   "outputs": [
    {
     "data": {
      "text/html": [
       "<div>\n",
       "<style scoped>\n",
       "    .dataframe tbody tr th:only-of-type {\n",
       "        vertical-align: middle;\n",
       "    }\n",
       "\n",
       "    .dataframe tbody tr th {\n",
       "        vertical-align: top;\n",
       "    }\n",
       "\n",
       "    .dataframe thead th {\n",
       "        text-align: right;\n",
       "    }\n",
       "</style>\n",
       "<table border=\"1\" class=\"dataframe\">\n",
       "  <thead>\n",
       "    <tr style=\"text-align: right;\">\n",
       "      <th></th>\n",
       "      <th>Afghanistan</th>\n",
       "      <th>Albania</th>\n",
       "      <th>Algeria</th>\n",
       "      <th>Andorra</th>\n",
       "      <th>Angola</th>\n",
       "      <th>Antarctica</th>\n",
       "      <th>Antigua and Barbuda</th>\n",
       "      <th>Argentina</th>\n",
       "      <th>Armenia</th>\n",
       "      <th>Australia</th>\n",
       "      <th>...</th>\n",
       "      <th>Uruguay</th>\n",
       "      <th>Uzbekistan</th>\n",
       "      <th>Vanuatu</th>\n",
       "      <th>Venezuela</th>\n",
       "      <th>Vietnam</th>\n",
       "      <th>West Bank and Gaza</th>\n",
       "      <th>Winter Olympics 2022</th>\n",
       "      <th>Yemen</th>\n",
       "      <th>Zambia</th>\n",
       "      <th>Zimbabwe</th>\n",
       "    </tr>\n",
       "  </thead>\n",
       "  <tbody>\n",
       "    <tr>\n",
       "      <th>0</th>\n",
       "      <td>0</td>\n",
       "      <td>0</td>\n",
       "      <td>0</td>\n",
       "      <td>0</td>\n",
       "      <td>0</td>\n",
       "      <td>0</td>\n",
       "      <td>0</td>\n",
       "      <td>0</td>\n",
       "      <td>0</td>\n",
       "      <td>0</td>\n",
       "      <td>...</td>\n",
       "      <td>0</td>\n",
       "      <td>0</td>\n",
       "      <td>0</td>\n",
       "      <td>0</td>\n",
       "      <td>0</td>\n",
       "      <td>0</td>\n",
       "      <td>0</td>\n",
       "      <td>0</td>\n",
       "      <td>0</td>\n",
       "      <td>0</td>\n",
       "    </tr>\n",
       "    <tr>\n",
       "      <th>1</th>\n",
       "      <td>0</td>\n",
       "      <td>0</td>\n",
       "      <td>0</td>\n",
       "      <td>0</td>\n",
       "      <td>0</td>\n",
       "      <td>0</td>\n",
       "      <td>0</td>\n",
       "      <td>0</td>\n",
       "      <td>0</td>\n",
       "      <td>0</td>\n",
       "      <td>...</td>\n",
       "      <td>0</td>\n",
       "      <td>0</td>\n",
       "      <td>0</td>\n",
       "      <td>0</td>\n",
       "      <td>2</td>\n",
       "      <td>0</td>\n",
       "      <td>0</td>\n",
       "      <td>0</td>\n",
       "      <td>0</td>\n",
       "      <td>0</td>\n",
       "    </tr>\n",
       "    <tr>\n",
       "      <th>2</th>\n",
       "      <td>0</td>\n",
       "      <td>0</td>\n",
       "      <td>0</td>\n",
       "      <td>0</td>\n",
       "      <td>0</td>\n",
       "      <td>0</td>\n",
       "      <td>0</td>\n",
       "      <td>0</td>\n",
       "      <td>0</td>\n",
       "      <td>0</td>\n",
       "      <td>...</td>\n",
       "      <td>0</td>\n",
       "      <td>0</td>\n",
       "      <td>0</td>\n",
       "      <td>0</td>\n",
       "      <td>2</td>\n",
       "      <td>0</td>\n",
       "      <td>0</td>\n",
       "      <td>0</td>\n",
       "      <td>0</td>\n",
       "      <td>0</td>\n",
       "    </tr>\n",
       "    <tr>\n",
       "      <th>3</th>\n",
       "      <td>0</td>\n",
       "      <td>0</td>\n",
       "      <td>0</td>\n",
       "      <td>0</td>\n",
       "      <td>0</td>\n",
       "      <td>0</td>\n",
       "      <td>0</td>\n",
       "      <td>0</td>\n",
       "      <td>0</td>\n",
       "      <td>0</td>\n",
       "      <td>...</td>\n",
       "      <td>0</td>\n",
       "      <td>0</td>\n",
       "      <td>0</td>\n",
       "      <td>0</td>\n",
       "      <td>2</td>\n",
       "      <td>0</td>\n",
       "      <td>0</td>\n",
       "      <td>0</td>\n",
       "      <td>0</td>\n",
       "      <td>0</td>\n",
       "    </tr>\n",
       "    <tr>\n",
       "      <th>4</th>\n",
       "      <td>0</td>\n",
       "      <td>0</td>\n",
       "      <td>0</td>\n",
       "      <td>0</td>\n",
       "      <td>0</td>\n",
       "      <td>0</td>\n",
       "      <td>0</td>\n",
       "      <td>0</td>\n",
       "      <td>0</td>\n",
       "      <td>4</td>\n",
       "      <td>...</td>\n",
       "      <td>0</td>\n",
       "      <td>0</td>\n",
       "      <td>0</td>\n",
       "      <td>0</td>\n",
       "      <td>2</td>\n",
       "      <td>0</td>\n",
       "      <td>0</td>\n",
       "      <td>0</td>\n",
       "      <td>0</td>\n",
       "      <td>0</td>\n",
       "    </tr>\n",
       "    <tr>\n",
       "      <th>...</th>\n",
       "      <td>...</td>\n",
       "      <td>...</td>\n",
       "      <td>...</td>\n",
       "      <td>...</td>\n",
       "      <td>...</td>\n",
       "      <td>...</td>\n",
       "      <td>...</td>\n",
       "      <td>...</td>\n",
       "      <td>...</td>\n",
       "      <td>...</td>\n",
       "      <td>...</td>\n",
       "      <td>...</td>\n",
       "      <td>...</td>\n",
       "      <td>...</td>\n",
       "      <td>...</td>\n",
       "      <td>...</td>\n",
       "      <td>...</td>\n",
       "      <td>...</td>\n",
       "      <td>...</td>\n",
       "      <td>...</td>\n",
       "      <td>...</td>\n",
       "    </tr>\n",
       "    <tr>\n",
       "      <th>775</th>\n",
       "      <td>175000</td>\n",
       "      <td>272250</td>\n",
       "      <td>265297</td>\n",
       "      <td>38620</td>\n",
       "      <td>98806</td>\n",
       "      <td>11</td>\n",
       "      <td>7455</td>\n",
       "      <td>8942888</td>\n",
       "      <td>421401</td>\n",
       "      <td>3429179</td>\n",
       "      <td>...</td>\n",
       "      <td>855883</td>\n",
       "      <td>236967</td>\n",
       "      <td>42</td>\n",
       "      <td>516817</td>\n",
       "      <td>4582058</td>\n",
       "      <td>651700</td>\n",
       "      <td>532</td>\n",
       "      <td>11781</td>\n",
       "      <td>313910</td>\n",
       "      <td>239710</td>\n",
       "    </tr>\n",
       "    <tr>\n",
       "      <th>776</th>\n",
       "      <td>175353</td>\n",
       "      <td>272337</td>\n",
       "      <td>265323</td>\n",
       "      <td>38710</td>\n",
       "      <td>98829</td>\n",
       "      <td>11</td>\n",
       "      <td>7455</td>\n",
       "      <td>8949362</td>\n",
       "      <td>421541</td>\n",
       "      <td>3459870</td>\n",
       "      <td>...</td>\n",
       "      <td>857635</td>\n",
       "      <td>236994</td>\n",
       "      <td>52</td>\n",
       "      <td>516966</td>\n",
       "      <td>4776873</td>\n",
       "      <td>652298</td>\n",
       "      <td>533</td>\n",
       "      <td>11781</td>\n",
       "      <td>314159</td>\n",
       "      <td>240343</td>\n",
       "    </tr>\n",
       "    <tr>\n",
       "      <th>777</th>\n",
       "      <td>175525</td>\n",
       "      <td>272412</td>\n",
       "      <td>265346</td>\n",
       "      <td>38794</td>\n",
       "      <td>98855</td>\n",
       "      <td>11</td>\n",
       "      <td>7461</td>\n",
       "      <td>8955458</td>\n",
       "      <td>421592</td>\n",
       "      <td>3496205</td>\n",
       "      <td>...</td>\n",
       "      <td>859165</td>\n",
       "      <td>237045</td>\n",
       "      <td>95</td>\n",
       "      <td>517164</td>\n",
       "      <td>5042036</td>\n",
       "      <td>652763</td>\n",
       "      <td>533</td>\n",
       "      <td>11781</td>\n",
       "      <td>314641</td>\n",
       "      <td>240343</td>\n",
       "    </tr>\n",
       "    <tr>\n",
       "      <th>778</th>\n",
       "      <td>175893</td>\n",
       "      <td>272479</td>\n",
       "      <td>265366</td>\n",
       "      <td>38794</td>\n",
       "      <td>98855</td>\n",
       "      <td>11</td>\n",
       "      <td>7461</td>\n",
       "      <td>8961595</td>\n",
       "      <td>421714</td>\n",
       "      <td>3527894</td>\n",
       "      <td>...</td>\n",
       "      <td>860663</td>\n",
       "      <td>237059</td>\n",
       "      <td>102</td>\n",
       "      <td>517720</td>\n",
       "      <td>5260495</td>\n",
       "      <td>652966</td>\n",
       "      <td>535</td>\n",
       "      <td>11783</td>\n",
       "      <td>314850</td>\n",
       "      <td>241548</td>\n",
       "    </tr>\n",
       "    <tr>\n",
       "      <th>779</th>\n",
       "      <td>175974</td>\n",
       "      <td>272552</td>\n",
       "      <td>265391</td>\n",
       "      <td>38794</td>\n",
       "      <td>98855</td>\n",
       "      <td>11</td>\n",
       "      <td>7466</td>\n",
       "      <td>8967210</td>\n",
       "      <td>421842</td>\n",
       "      <td>3562971</td>\n",
       "      <td>...</td>\n",
       "      <td>862153</td>\n",
       "      <td>237129</td>\n",
       "      <td>164</td>\n",
       "      <td>517720</td>\n",
       "      <td>5448935</td>\n",
       "      <td>653293</td>\n",
       "      <td>535</td>\n",
       "      <td>11783</td>\n",
       "      <td>314986</td>\n",
       "      <td>241548</td>\n",
       "    </tr>\n",
       "  </tbody>\n",
       "</table>\n",
       "<p>780 rows × 198 columns</p>\n",
       "</div>"
      ],
      "text/plain": [
       "     Afghanistan  Albania  Algeria  Andorra  Angola  Antarctica  \\\n",
       "0              0        0        0        0       0           0   \n",
       "1              0        0        0        0       0           0   \n",
       "2              0        0        0        0       0           0   \n",
       "3              0        0        0        0       0           0   \n",
       "4              0        0        0        0       0           0   \n",
       "..           ...      ...      ...      ...     ...         ...   \n",
       "775       175000   272250   265297    38620   98806          11   \n",
       "776       175353   272337   265323    38710   98829          11   \n",
       "777       175525   272412   265346    38794   98855          11   \n",
       "778       175893   272479   265366    38794   98855          11   \n",
       "779       175974   272552   265391    38794   98855          11   \n",
       "\n",
       "     Antigua and Barbuda  Argentina  Armenia  Australia  ...  Uruguay  \\\n",
       "0                      0          0        0          0  ...        0   \n",
       "1                      0          0        0          0  ...        0   \n",
       "2                      0          0        0          0  ...        0   \n",
       "3                      0          0        0          0  ...        0   \n",
       "4                      0          0        0          4  ...        0   \n",
       "..                   ...        ...      ...        ...  ...      ...   \n",
       "775                 7455    8942888   421401    3429179  ...   855883   \n",
       "776                 7455    8949362   421541    3459870  ...   857635   \n",
       "777                 7461    8955458   421592    3496205  ...   859165   \n",
       "778                 7461    8961595   421714    3527894  ...   860663   \n",
       "779                 7466    8967210   421842    3562971  ...   862153   \n",
       "\n",
       "     Uzbekistan  Vanuatu  Venezuela  Vietnam  West Bank and Gaza  \\\n",
       "0             0        0          0        0                   0   \n",
       "1             0        0          0        2                   0   \n",
       "2             0        0          0        2                   0   \n",
       "3             0        0          0        2                   0   \n",
       "4             0        0          0        2                   0   \n",
       "..          ...      ...        ...      ...                 ...   \n",
       "775      236967       42     516817  4582058              651700   \n",
       "776      236994       52     516966  4776873              652298   \n",
       "777      237045       95     517164  5042036              652763   \n",
       "778      237059      102     517720  5260495              652966   \n",
       "779      237129      164     517720  5448935              653293   \n",
       "\n",
       "     Winter Olympics 2022  Yemen  Zambia  Zimbabwe  \n",
       "0                       0      0       0         0  \n",
       "1                       0      0       0         0  \n",
       "2                       0      0       0         0  \n",
       "3                       0      0       0         0  \n",
       "4                       0      0       0         0  \n",
       "..                    ...    ...     ...       ...  \n",
       "775                   532  11781  313910    239710  \n",
       "776                   533  11781  314159    240343  \n",
       "777                   533  11781  314641    240343  \n",
       "778                   535  11783  314850    241548  \n",
       "779                   535  11783  314986    241548  \n",
       "\n",
       "[780 rows x 198 columns]"
      ]
     },
     "execution_count": 6,
     "metadata": {},
     "output_type": "execute_result"
    }
   ],
   "source": [
    "Data_df"
   ]
  },
  {
   "cell_type": "code",
   "execution_count": 7,
   "metadata": {},
   "outputs": [],
   "source": [
    "Datah_nc=[]\n",
    "for c in countries_JH:\n",
    "    L=Data_df[c].to_list()\n",
    "    L1=[]\n",
    "    L1.append(L[0])\n",
    "    for i in range(1,len(L)-1):\n",
    "        L1.append([L[i+1]-L[i] if L[i+1]-L[i]>=0 else 0][0])\n",
    "    Datah_nc.append(L1)  \n",
    "Data_nc=pd.DataFrame(np.array(Datah_nc).T).rename(columns={i:countries_JH[i] for i in range(len(countries_JH))}) \n",
    "Df=Data_nc.copy()"
   ]
  },
  {
   "cell_type": "code",
   "execution_count": 8,
   "metadata": {},
   "outputs": [
    {
     "data": {
      "text/html": [
       "<div>\n",
       "<style scoped>\n",
       "    .dataframe tbody tr th:only-of-type {\n",
       "        vertical-align: middle;\n",
       "    }\n",
       "\n",
       "    .dataframe tbody tr th {\n",
       "        vertical-align: top;\n",
       "    }\n",
       "\n",
       "    .dataframe thead th {\n",
       "        text-align: right;\n",
       "    }\n",
       "</style>\n",
       "<table border=\"1\" class=\"dataframe\">\n",
       "  <thead>\n",
       "    <tr style=\"text-align: right;\">\n",
       "      <th></th>\n",
       "      <th>Afghanistan</th>\n",
       "      <th>Albania</th>\n",
       "      <th>Algeria</th>\n",
       "      <th>Andorra</th>\n",
       "      <th>Angola</th>\n",
       "      <th>Antarctica</th>\n",
       "      <th>Antigua and Barbuda</th>\n",
       "      <th>Argentina</th>\n",
       "      <th>Armenia</th>\n",
       "      <th>Australia</th>\n",
       "      <th>...</th>\n",
       "      <th>Uruguay</th>\n",
       "      <th>Uzbekistan</th>\n",
       "      <th>Vanuatu</th>\n",
       "      <th>Venezuela</th>\n",
       "      <th>Vietnam</th>\n",
       "      <th>West Bank and Gaza</th>\n",
       "      <th>Winter Olympics 2022</th>\n",
       "      <th>Yemen</th>\n",
       "      <th>Zambia</th>\n",
       "      <th>Zimbabwe</th>\n",
       "    </tr>\n",
       "  </thead>\n",
       "  <tbody>\n",
       "    <tr>\n",
       "      <th>0</th>\n",
       "      <td>0</td>\n",
       "      <td>0</td>\n",
       "      <td>0</td>\n",
       "      <td>0</td>\n",
       "      <td>0</td>\n",
       "      <td>0</td>\n",
       "      <td>0</td>\n",
       "      <td>0</td>\n",
       "      <td>0</td>\n",
       "      <td>0</td>\n",
       "      <td>...</td>\n",
       "      <td>0</td>\n",
       "      <td>0</td>\n",
       "      <td>0</td>\n",
       "      <td>0</td>\n",
       "      <td>0</td>\n",
       "      <td>0</td>\n",
       "      <td>0</td>\n",
       "      <td>0</td>\n",
       "      <td>0</td>\n",
       "      <td>0</td>\n",
       "    </tr>\n",
       "    <tr>\n",
       "      <th>1</th>\n",
       "      <td>0</td>\n",
       "      <td>0</td>\n",
       "      <td>0</td>\n",
       "      <td>0</td>\n",
       "      <td>0</td>\n",
       "      <td>0</td>\n",
       "      <td>0</td>\n",
       "      <td>0</td>\n",
       "      <td>0</td>\n",
       "      <td>0</td>\n",
       "      <td>...</td>\n",
       "      <td>0</td>\n",
       "      <td>0</td>\n",
       "      <td>0</td>\n",
       "      <td>0</td>\n",
       "      <td>0</td>\n",
       "      <td>0</td>\n",
       "      <td>0</td>\n",
       "      <td>0</td>\n",
       "      <td>0</td>\n",
       "      <td>0</td>\n",
       "    </tr>\n",
       "    <tr>\n",
       "      <th>2</th>\n",
       "      <td>0</td>\n",
       "      <td>0</td>\n",
       "      <td>0</td>\n",
       "      <td>0</td>\n",
       "      <td>0</td>\n",
       "      <td>0</td>\n",
       "      <td>0</td>\n",
       "      <td>0</td>\n",
       "      <td>0</td>\n",
       "      <td>0</td>\n",
       "      <td>...</td>\n",
       "      <td>0</td>\n",
       "      <td>0</td>\n",
       "      <td>0</td>\n",
       "      <td>0</td>\n",
       "      <td>0</td>\n",
       "      <td>0</td>\n",
       "      <td>0</td>\n",
       "      <td>0</td>\n",
       "      <td>0</td>\n",
       "      <td>0</td>\n",
       "    </tr>\n",
       "    <tr>\n",
       "      <th>3</th>\n",
       "      <td>0</td>\n",
       "      <td>0</td>\n",
       "      <td>0</td>\n",
       "      <td>0</td>\n",
       "      <td>0</td>\n",
       "      <td>0</td>\n",
       "      <td>0</td>\n",
       "      <td>0</td>\n",
       "      <td>0</td>\n",
       "      <td>4</td>\n",
       "      <td>...</td>\n",
       "      <td>0</td>\n",
       "      <td>0</td>\n",
       "      <td>0</td>\n",
       "      <td>0</td>\n",
       "      <td>0</td>\n",
       "      <td>0</td>\n",
       "      <td>0</td>\n",
       "      <td>0</td>\n",
       "      <td>0</td>\n",
       "      <td>0</td>\n",
       "    </tr>\n",
       "    <tr>\n",
       "      <th>4</th>\n",
       "      <td>0</td>\n",
       "      <td>0</td>\n",
       "      <td>0</td>\n",
       "      <td>0</td>\n",
       "      <td>0</td>\n",
       "      <td>0</td>\n",
       "      <td>0</td>\n",
       "      <td>0</td>\n",
       "      <td>0</td>\n",
       "      <td>1</td>\n",
       "      <td>...</td>\n",
       "      <td>0</td>\n",
       "      <td>0</td>\n",
       "      <td>0</td>\n",
       "      <td>0</td>\n",
       "      <td>0</td>\n",
       "      <td>0</td>\n",
       "      <td>0</td>\n",
       "      <td>0</td>\n",
       "      <td>0</td>\n",
       "      <td>0</td>\n",
       "    </tr>\n",
       "    <tr>\n",
       "      <th>...</th>\n",
       "      <td>...</td>\n",
       "      <td>...</td>\n",
       "      <td>...</td>\n",
       "      <td>...</td>\n",
       "      <td>...</td>\n",
       "      <td>...</td>\n",
       "      <td>...</td>\n",
       "      <td>...</td>\n",
       "      <td>...</td>\n",
       "      <td>...</td>\n",
       "      <td>...</td>\n",
       "      <td>...</td>\n",
       "      <td>...</td>\n",
       "      <td>...</td>\n",
       "      <td>...</td>\n",
       "      <td>...</td>\n",
       "      <td>...</td>\n",
       "      <td>...</td>\n",
       "      <td>...</td>\n",
       "      <td>...</td>\n",
       "      <td>...</td>\n",
       "    </tr>\n",
       "    <tr>\n",
       "      <th>774</th>\n",
       "      <td>418</td>\n",
       "      <td>40</td>\n",
       "      <td>32</td>\n",
       "      <td>186</td>\n",
       "      <td>0</td>\n",
       "      <td>0</td>\n",
       "      <td>0</td>\n",
       "      <td>6286</td>\n",
       "      <td>60</td>\n",
       "      <td>44962</td>\n",
       "      <td>...</td>\n",
       "      <td>1508</td>\n",
       "      <td>68</td>\n",
       "      <td>24</td>\n",
       "      <td>0</td>\n",
       "      <td>147358</td>\n",
       "      <td>1729</td>\n",
       "      <td>0</td>\n",
       "      <td>4</td>\n",
       "      <td>89</td>\n",
       "      <td>501</td>\n",
       "    </tr>\n",
       "    <tr>\n",
       "      <th>775</th>\n",
       "      <td>353</td>\n",
       "      <td>87</td>\n",
       "      <td>26</td>\n",
       "      <td>90</td>\n",
       "      <td>23</td>\n",
       "      <td>0</td>\n",
       "      <td>0</td>\n",
       "      <td>6474</td>\n",
       "      <td>140</td>\n",
       "      <td>30691</td>\n",
       "      <td>...</td>\n",
       "      <td>1752</td>\n",
       "      <td>27</td>\n",
       "      <td>10</td>\n",
       "      <td>149</td>\n",
       "      <td>194815</td>\n",
       "      <td>598</td>\n",
       "      <td>1</td>\n",
       "      <td>0</td>\n",
       "      <td>249</td>\n",
       "      <td>633</td>\n",
       "    </tr>\n",
       "    <tr>\n",
       "      <th>776</th>\n",
       "      <td>172</td>\n",
       "      <td>75</td>\n",
       "      <td>23</td>\n",
       "      <td>84</td>\n",
       "      <td>26</td>\n",
       "      <td>0</td>\n",
       "      <td>6</td>\n",
       "      <td>6096</td>\n",
       "      <td>51</td>\n",
       "      <td>36335</td>\n",
       "      <td>...</td>\n",
       "      <td>1530</td>\n",
       "      <td>51</td>\n",
       "      <td>43</td>\n",
       "      <td>198</td>\n",
       "      <td>265163</td>\n",
       "      <td>465</td>\n",
       "      <td>0</td>\n",
       "      <td>0</td>\n",
       "      <td>482</td>\n",
       "      <td>0</td>\n",
       "    </tr>\n",
       "    <tr>\n",
       "      <th>777</th>\n",
       "      <td>368</td>\n",
       "      <td>67</td>\n",
       "      <td>20</td>\n",
       "      <td>0</td>\n",
       "      <td>0</td>\n",
       "      <td>0</td>\n",
       "      <td>0</td>\n",
       "      <td>6137</td>\n",
       "      <td>122</td>\n",
       "      <td>31689</td>\n",
       "      <td>...</td>\n",
       "      <td>1498</td>\n",
       "      <td>14</td>\n",
       "      <td>7</td>\n",
       "      <td>556</td>\n",
       "      <td>218459</td>\n",
       "      <td>203</td>\n",
       "      <td>2</td>\n",
       "      <td>2</td>\n",
       "      <td>209</td>\n",
       "      <td>1205</td>\n",
       "    </tr>\n",
       "    <tr>\n",
       "      <th>778</th>\n",
       "      <td>81</td>\n",
       "      <td>73</td>\n",
       "      <td>25</td>\n",
       "      <td>0</td>\n",
       "      <td>0</td>\n",
       "      <td>0</td>\n",
       "      <td>5</td>\n",
       "      <td>5615</td>\n",
       "      <td>128</td>\n",
       "      <td>35077</td>\n",
       "      <td>...</td>\n",
       "      <td>1490</td>\n",
       "      <td>70</td>\n",
       "      <td>62</td>\n",
       "      <td>0</td>\n",
       "      <td>188440</td>\n",
       "      <td>327</td>\n",
       "      <td>0</td>\n",
       "      <td>0</td>\n",
       "      <td>136</td>\n",
       "      <td>0</td>\n",
       "    </tr>\n",
       "  </tbody>\n",
       "</table>\n",
       "<p>779 rows × 198 columns</p>\n",
       "</div>"
      ],
      "text/plain": [
       "     Afghanistan  Albania  Algeria  Andorra  Angola  Antarctica  \\\n",
       "0              0        0        0        0       0           0   \n",
       "1              0        0        0        0       0           0   \n",
       "2              0        0        0        0       0           0   \n",
       "3              0        0        0        0       0           0   \n",
       "4              0        0        0        0       0           0   \n",
       "..           ...      ...      ...      ...     ...         ...   \n",
       "774          418       40       32      186       0           0   \n",
       "775          353       87       26       90      23           0   \n",
       "776          172       75       23       84      26           0   \n",
       "777          368       67       20        0       0           0   \n",
       "778           81       73       25        0       0           0   \n",
       "\n",
       "     Antigua and Barbuda  Argentina  Armenia  Australia  ...  Uruguay  \\\n",
       "0                      0          0        0          0  ...        0   \n",
       "1                      0          0        0          0  ...        0   \n",
       "2                      0          0        0          0  ...        0   \n",
       "3                      0          0        0          4  ...        0   \n",
       "4                      0          0        0          1  ...        0   \n",
       "..                   ...        ...      ...        ...  ...      ...   \n",
       "774                    0       6286       60      44962  ...     1508   \n",
       "775                    0       6474      140      30691  ...     1752   \n",
       "776                    6       6096       51      36335  ...     1530   \n",
       "777                    0       6137      122      31689  ...     1498   \n",
       "778                    5       5615      128      35077  ...     1490   \n",
       "\n",
       "     Uzbekistan  Vanuatu  Venezuela  Vietnam  West Bank and Gaza  \\\n",
       "0             0        0          0        0                   0   \n",
       "1             0        0          0        0                   0   \n",
       "2             0        0          0        0                   0   \n",
       "3             0        0          0        0                   0   \n",
       "4             0        0          0        0                   0   \n",
       "..          ...      ...        ...      ...                 ...   \n",
       "774          68       24          0   147358                1729   \n",
       "775          27       10        149   194815                 598   \n",
       "776          51       43        198   265163                 465   \n",
       "777          14        7        556   218459                 203   \n",
       "778          70       62          0   188440                 327   \n",
       "\n",
       "     Winter Olympics 2022  Yemen  Zambia  Zimbabwe  \n",
       "0                       0      0       0         0  \n",
       "1                       0      0       0         0  \n",
       "2                       0      0       0         0  \n",
       "3                       0      0       0         0  \n",
       "4                       0      0       0         0  \n",
       "..                    ...    ...     ...       ...  \n",
       "774                     0      4      89       501  \n",
       "775                     1      0     249       633  \n",
       "776                     0      0     482         0  \n",
       "777                     2      2     209      1205  \n",
       "778                     0      0     136         0  \n",
       "\n",
       "[779 rows x 198 columns]"
      ]
     },
     "execution_count": 8,
     "metadata": {},
     "output_type": "execute_result"
    }
   ],
   "source": [
    "Df"
   ]
  },
  {
   "cell_type": "code",
   "execution_count": 9,
   "metadata": {},
   "outputs": [
    {
     "data": {
      "text/plain": [
       "0          1\n",
       "1          1\n",
       "2          0\n",
       "3          3\n",
       "4          0\n",
       "       ...  \n",
       "774    63110\n",
       "775    29619\n",
       "776    37595\n",
       "777    48318\n",
       "778    52110\n",
       "Name: US, Length: 779, dtype: int32"
      ]
     },
     "execution_count": 9,
     "metadata": {},
     "output_type": "execute_result"
    }
   ],
   "source": [
    "Df['US']"
   ]
  },
  {
   "cell_type": "code",
   "execution_count": 10,
   "metadata": {},
   "outputs": [
    {
     "data": {
      "text/plain": [
       "0             1\n",
       "1             1\n",
       "2             2\n",
       "3             2\n",
       "4             5\n",
       "         ...   \n",
       "775    79339388\n",
       "776    79369007\n",
       "777    79406602\n",
       "778    79454920\n",
       "779    79507030\n",
       "Name: US, Length: 780, dtype: int32"
      ]
     },
     "execution_count": 10,
     "metadata": {},
     "output_type": "execute_result"
    }
   ],
   "source": [
    "Data_df['US']"
   ]
  },
  {
   "cell_type": "markdown",
   "metadata": {},
   "source": [
    "# Visualize Data"
   ]
  },
  {
   "cell_type": "code",
   "execution_count": 11,
   "metadata": {},
   "outputs": [
    {
     "data": {
      "text/plain": [
       "Text(0.5, 1.0, 'US COVID-19 Cases')"
      ]
     },
     "execution_count": 11,
     "metadata": {},
     "output_type": "execute_result"
    },
    {
     "data": {
      "image/png": "[encoded data removed]",
      "text/plain": [
       "<Figure size 432x288 with 1 Axes>"
      ]
     },
     "metadata": {
      "needs_background": "light"
     },
     "output_type": "display_data"
    }
   ],
   "source": [
    "#Data_df['US'].plot()\n",
    "#Data_df.plot()\n",
    "#Data_df.plot(y=['US','China'])\n",
    "Df.plot(y=['US'])\n",
    "plt.xlabel('Days since 1/22/20')\n",
    "plt.ylabel('Increase in Cases')\n",
    "plt.title('US COVID-19 Cases')"
   ]
  },
  {
   "cell_type": "markdown",
   "metadata": {},
   "source": [
    "# PCA"
   ]
  },
  {
   "cell_type": "code",
   "execution_count": 12,
   "metadata": {},
   "outputs": [],
   "source": [
    "X=Df.values\n",
    "sc=StandardScaler()\n",
    "X_std=sc.fit_transform(X)"
   ]
  },
  {
   "cell_type": "code",
   "execution_count": 13,
   "metadata": {},
   "outputs": [
    {
     "data": {
      "text/plain": [
       "array([[-0.58499357, -0.75337591, -0.94800695, ..., -0.58105543,\n",
       "        -0.5273983 , -0.38222747],\n",
       "       [-0.58499357, -0.75337591, -0.94800695, ..., -0.58105543,\n",
       "        -0.5273983 , -0.38222747],\n",
       "       [-0.58499357, -0.75337591, -0.94800695, ..., -0.58105543,\n",
       "        -0.5273983 , -0.38222747],\n",
       "       ...,\n",
       "       [-0.13959507, -0.59188017, -0.88400538, ..., -0.58105543,\n",
       "         0.10128507, -0.38222747],\n",
       "       [ 0.36795205, -0.60910638, -0.89235341, ..., -0.50423225,\n",
       "        -0.25479493,  1.10313405],\n",
       "       [-0.37524195, -0.59618672, -0.87844002, ..., -0.58105543,\n",
       "        -0.35001047, -0.38222747]])"
      ]
     },
     "execution_count": 13,
     "metadata": {},
     "output_type": "execute_result"
    }
   ],
   "source": [
    "X_std"
   ]
  },
  {
   "cell_type": "code",
   "execution_count": 14,
   "metadata": {},
   "outputs": [],
   "source": [
    "pca=PCA()\n",
    "X_pca=pca.fit_transform(X_std)"
   ]
  },
  {
   "cell_type": "code",
   "execution_count": 15,
   "metadata": {},
   "outputs": [
    {
     "data": {
      "text/plain": [
       "Text(0, 0.5, 'cumulative variance explained')"
      ]
     },
     "execution_count": 15,
     "metadata": {},
     "output_type": "execute_result"
    },
    {
     "data": {
      "image/png": "[encoded data removed]",
      "text/plain": [
       "<Figure size 432x288 with 1 Axes>"
      ]
     },
     "metadata": {
      "needs_background": "light"
     },
     "output_type": "display_data"
    }
   ],
   "source": [
    "plt.plot(np.cumsum(pca.explained_variance_ratio_))\n",
    "plt.xlabel('number of components')\n",
    "plt.ylabel('cumulative variance explained')"
   ]
  },
  {
   "cell_type": "code",
   "execution_count": 16,
   "metadata": {},
   "outputs": [
    {
     "name": "stdout",
     "output_type": "stream",
     "text": [
      "131\n"
     ]
    }
   ],
   "source": [
    "pca = PCA(n_components = 0.99)\n",
    "X_pca = pca.fit_transform(X_std) # fit and reduce dimensions\n",
    "print(pca.n_components_) # print and see how many components are selected"
   ]
  },
  {
   "cell_type": "code",
   "execution_count": 17,
   "metadata": {},
   "outputs": [
    {
     "data": {
      "text/html": [
       "<div>\n",
       "<style scoped>\n",
       "    .dataframe tbody tr th:only-of-type {\n",
       "        vertical-align: middle;\n",
       "    }\n",
       "\n",
       "    .dataframe tbody tr th {\n",
       "        vertical-align: top;\n",
       "    }\n",
       "\n",
       "    .dataframe thead th {\n",
       "        text-align: right;\n",
       "    }\n",
       "</style>\n",
       "<table border=\"1\" class=\"dataframe\">\n",
       "  <thead>\n",
       "    <tr style=\"text-align: right;\">\n",
       "      <th></th>\n",
       "      <th>Afghanistan</th>\n",
       "      <th>Albania</th>\n",
       "      <th>Algeria</th>\n",
       "      <th>Andorra</th>\n",
       "      <th>Angola</th>\n",
       "      <th>Antarctica</th>\n",
       "      <th>Antigua and Barbuda</th>\n",
       "      <th>Argentina</th>\n",
       "      <th>Armenia</th>\n",
       "      <th>Australia</th>\n",
       "      <th>...</th>\n",
       "      <th>Uruguay</th>\n",
       "      <th>Uzbekistan</th>\n",
       "      <th>Vanuatu</th>\n",
       "      <th>Venezuela</th>\n",
       "      <th>Vietnam</th>\n",
       "      <th>West Bank and Gaza</th>\n",
       "      <th>Winter Olympics 2022</th>\n",
       "      <th>Yemen</th>\n",
       "      <th>Zambia</th>\n",
       "      <th>Zimbabwe</th>\n",
       "    </tr>\n",
       "  </thead>\n",
       "  <tbody>\n",
       "    <tr>\n",
       "      <th>0</th>\n",
       "      <td>0.007071</td>\n",
       "      <td>0.084913</td>\n",
       "      <td>0.073477</td>\n",
       "      <td>0.067329</td>\n",
       "      <td>0.044732</td>\n",
       "      <td>0.001264</td>\n",
       "      <td>0.059436</td>\n",
       "      <td>0.108248</td>\n",
       "      <td>0.065203</td>\n",
       "      <td>0.111205</td>\n",
       "      <td>...</td>\n",
       "      <td>0.122283</td>\n",
       "      <td>0.068484</td>\n",
       "      <td>0.011106</td>\n",
       "      <td>0.059403</td>\n",
       "      <td>0.046665</td>\n",
       "      <td>0.060994</td>\n",
       "      <td>0.072039</td>\n",
       "      <td>0.042128</td>\n",
       "      <td>0.044582</td>\n",
       "      <td>0.019448</td>\n",
       "    </tr>\n",
       "    <tr>\n",
       "      <th>1</th>\n",
       "      <td>0.013336</td>\n",
       "      <td>0.048941</td>\n",
       "      <td>0.045876</td>\n",
       "      <td>0.052140</td>\n",
       "      <td>0.111047</td>\n",
       "      <td>0.000363</td>\n",
       "      <td>0.024692</td>\n",
       "      <td>0.101368</td>\n",
       "      <td>-0.091375</td>\n",
       "      <td>0.057585</td>\n",
       "      <td>...</td>\n",
       "      <td>-0.013272</td>\n",
       "      <td>0.033379</td>\n",
       "      <td>-0.047130</td>\n",
       "      <td>0.005917</td>\n",
       "      <td>-0.090341</td>\n",
       "      <td>-0.052142</td>\n",
       "      <td>-0.066335</td>\n",
       "      <td>-0.005019</td>\n",
       "      <td>0.137215</td>\n",
       "      <td>0.057474</td>\n",
       "    </tr>\n",
       "    <tr>\n",
       "      <th>2</th>\n",
       "      <td>0.122228</td>\n",
       "      <td>-0.048003</td>\n",
       "      <td>0.119929</td>\n",
       "      <td>-0.067411</td>\n",
       "      <td>-0.025748</td>\n",
       "      <td>-0.007692</td>\n",
       "      <td>-0.005577</td>\n",
       "      <td>-0.028747</td>\n",
       "      <td>-0.004558</td>\n",
       "      <td>-0.069055</td>\n",
       "      <td>...</td>\n",
       "      <td>-0.008481</td>\n",
       "      <td>0.153708</td>\n",
       "      <td>-0.000904</td>\n",
       "      <td>0.102381</td>\n",
       "      <td>0.021187</td>\n",
       "      <td>0.009818</td>\n",
       "      <td>0.009444</td>\n",
       "      <td>0.025854</td>\n",
       "      <td>0.010558</td>\n",
       "      <td>0.056705</td>\n",
       "    </tr>\n",
       "    <tr>\n",
       "      <th>3</th>\n",
       "      <td>-0.024943</td>\n",
       "      <td>-0.042683</td>\n",
       "      <td>-0.074146</td>\n",
       "      <td>0.020476</td>\n",
       "      <td>0.072150</td>\n",
       "      <td>0.017379</td>\n",
       "      <td>-0.021673</td>\n",
       "      <td>-0.048832</td>\n",
       "      <td>-0.094120</td>\n",
       "      <td>0.050708</td>\n",
       "      <td>...</td>\n",
       "      <td>-0.075769</td>\n",
       "      <td>-0.090928</td>\n",
       "      <td>0.113959</td>\n",
       "      <td>-0.099216</td>\n",
       "      <td>0.211234</td>\n",
       "      <td>-0.043303</td>\n",
       "      <td>-0.074003</td>\n",
       "      <td>-0.103764</td>\n",
       "      <td>0.116281</td>\n",
       "      <td>0.116278</td>\n",
       "    </tr>\n",
       "    <tr>\n",
       "      <th>4</th>\n",
       "      <td>0.204342</td>\n",
       "      <td>-0.117374</td>\n",
       "      <td>0.029082</td>\n",
       "      <td>0.028334</td>\n",
       "      <td>-0.045746</td>\n",
       "      <td>-0.009074</td>\n",
       "      <td>-0.062601</td>\n",
       "      <td>0.111381</td>\n",
       "      <td>-0.151452</td>\n",
       "      <td>0.061798</td>\n",
       "      <td>...</td>\n",
       "      <td>0.102773</td>\n",
       "      <td>-0.024198</td>\n",
       "      <td>0.052619</td>\n",
       "      <td>-0.016331</td>\n",
       "      <td>0.054292</td>\n",
       "      <td>-0.059748</td>\n",
       "      <td>0.026670</td>\n",
       "      <td>-0.089695</td>\n",
       "      <td>0.095699</td>\n",
       "      <td>0.009950</td>\n",
       "    </tr>\n",
       "    <tr>\n",
       "      <th>...</th>\n",
       "      <td>...</td>\n",
       "      <td>...</td>\n",
       "      <td>...</td>\n",
       "      <td>...</td>\n",
       "      <td>...</td>\n",
       "      <td>...</td>\n",
       "      <td>...</td>\n",
       "      <td>...</td>\n",
       "      <td>...</td>\n",
       "      <td>...</td>\n",
       "      <td>...</td>\n",
       "      <td>...</td>\n",
       "      <td>...</td>\n",
       "      <td>...</td>\n",
       "      <td>...</td>\n",
       "      <td>...</td>\n",
       "      <td>...</td>\n",
       "      <td>...</td>\n",
       "      <td>...</td>\n",
       "      <td>...</td>\n",
       "      <td>...</td>\n",
       "    </tr>\n",
       "    <tr>\n",
       "      <th>126</th>\n",
       "      <td>-0.162548</td>\n",
       "      <td>0.002159</td>\n",
       "      <td>-0.037712</td>\n",
       "      <td>0.022244</td>\n",
       "      <td>0.154150</td>\n",
       "      <td>0.037554</td>\n",
       "      <td>0.016486</td>\n",
       "      <td>-0.020788</td>\n",
       "      <td>-0.060970</td>\n",
       "      <td>0.002776</td>\n",
       "      <td>...</td>\n",
       "      <td>0.009941</td>\n",
       "      <td>0.026545</td>\n",
       "      <td>0.058254</td>\n",
       "      <td>-0.007911</td>\n",
       "      <td>0.037493</td>\n",
       "      <td>0.009557</td>\n",
       "      <td>-0.013551</td>\n",
       "      <td>0.024644</td>\n",
       "      <td>0.061868</td>\n",
       "      <td>0.005111</td>\n",
       "    </tr>\n",
       "    <tr>\n",
       "      <th>127</th>\n",
       "      <td>-0.071984</td>\n",
       "      <td>0.046512</td>\n",
       "      <td>-0.033158</td>\n",
       "      <td>0.008036</td>\n",
       "      <td>0.054138</td>\n",
       "      <td>0.021219</td>\n",
       "      <td>0.036509</td>\n",
       "      <td>0.026021</td>\n",
       "      <td>0.120956</td>\n",
       "      <td>0.010504</td>\n",
       "      <td>...</td>\n",
       "      <td>0.005545</td>\n",
       "      <td>-0.035040</td>\n",
       "      <td>0.042199</td>\n",
       "      <td>-0.078881</td>\n",
       "      <td>-0.114403</td>\n",
       "      <td>-0.013157</td>\n",
       "      <td>-0.050696</td>\n",
       "      <td>-0.128081</td>\n",
       "      <td>-0.038878</td>\n",
       "      <td>0.079130</td>\n",
       "    </tr>\n",
       "    <tr>\n",
       "      <th>128</th>\n",
       "      <td>-0.075162</td>\n",
       "      <td>-0.112568</td>\n",
       "      <td>0.012612</td>\n",
       "      <td>-0.068450</td>\n",
       "      <td>-0.051348</td>\n",
       "      <td>-0.000471</td>\n",
       "      <td>0.011933</td>\n",
       "      <td>0.089607</td>\n",
       "      <td>-0.002469</td>\n",
       "      <td>-0.055179</td>\n",
       "      <td>...</td>\n",
       "      <td>-0.062291</td>\n",
       "      <td>-0.007076</td>\n",
       "      <td>-0.042638</td>\n",
       "      <td>-0.011414</td>\n",
       "      <td>0.103039</td>\n",
       "      <td>0.073218</td>\n",
       "      <td>0.137441</td>\n",
       "      <td>0.006142</td>\n",
       "      <td>-0.031299</td>\n",
       "      <td>-0.097693</td>\n",
       "    </tr>\n",
       "    <tr>\n",
       "      <th>129</th>\n",
       "      <td>-0.232732</td>\n",
       "      <td>0.229051</td>\n",
       "      <td>0.101401</td>\n",
       "      <td>0.075926</td>\n",
       "      <td>-0.107728</td>\n",
       "      <td>-0.010460</td>\n",
       "      <td>0.018272</td>\n",
       "      <td>-0.009495</td>\n",
       "      <td>-0.033647</td>\n",
       "      <td>-0.098410</td>\n",
       "      <td>...</td>\n",
       "      <td>0.060898</td>\n",
       "      <td>-0.210436</td>\n",
       "      <td>-0.051364</td>\n",
       "      <td>0.030881</td>\n",
       "      <td>0.031815</td>\n",
       "      <td>-0.045215</td>\n",
       "      <td>0.021608</td>\n",
       "      <td>0.123384</td>\n",
       "      <td>0.050697</td>\n",
       "      <td>0.007436</td>\n",
       "    </tr>\n",
       "    <tr>\n",
       "      <th>130</th>\n",
       "      <td>-0.154957</td>\n",
       "      <td>0.040936</td>\n",
       "      <td>-0.060107</td>\n",
       "      <td>-0.009650</td>\n",
       "      <td>-0.070210</td>\n",
       "      <td>-0.013499</td>\n",
       "      <td>-0.157143</td>\n",
       "      <td>0.020363</td>\n",
       "      <td>-0.010138</td>\n",
       "      <td>0.067532</td>\n",
       "      <td>...</td>\n",
       "      <td>0.017251</td>\n",
       "      <td>-0.084503</td>\n",
       "      <td>0.009010</td>\n",
       "      <td>0.060070</td>\n",
       "      <td>-0.067874</td>\n",
       "      <td>0.089176</td>\n",
       "      <td>-0.040404</td>\n",
       "      <td>-0.010671</td>\n",
       "      <td>0.085271</td>\n",
       "      <td>0.092933</td>\n",
       "    </tr>\n",
       "  </tbody>\n",
       "</table>\n",
       "<p>131 rows × 198 columns</p>\n",
       "</div>"
      ],
      "text/plain": [
       "     Afghanistan   Albania   Algeria   Andorra    Angola  Antarctica  \\\n",
       "0       0.007071  0.084913  0.073477  0.067329  0.044732    0.001264   \n",
       "1       0.013336  0.048941  0.045876  0.052140  0.111047    0.000363   \n",
       "2       0.122228 -0.048003  0.119929 -0.067411 -0.025748   -0.007692   \n",
       "3      -0.024943 -0.042683 -0.074146  0.020476  0.072150    0.017379   \n",
       "4       0.204342 -0.117374  0.029082  0.028334 -0.045746   -0.009074   \n",
       "..           ...       ...       ...       ...       ...         ...   \n",
       "126    -0.162548  0.002159 -0.037712  0.022244  0.154150    0.037554   \n",
       "127    -0.071984  0.046512 -0.033158  0.008036  0.054138    0.021219   \n",
       "128    -0.075162 -0.112568  0.012612 -0.068450 -0.051348   -0.000471   \n",
       "129    -0.232732  0.229051  0.101401  0.075926 -0.107728   -0.010460   \n",
       "130    -0.154957  0.040936 -0.060107 -0.009650 -0.070210   -0.013499   \n",
       "\n",
       "     Antigua and Barbuda  Argentina   Armenia  Australia  ...   Uruguay  \\\n",
       "0               0.059436   0.108248  0.065203   0.111205  ...  0.122283   \n",
       "1               0.024692   0.101368 -0.091375   0.057585  ... -0.013272   \n",
       "2              -0.005577  -0.028747 -0.004558  -0.069055  ... -0.008481   \n",
       "3              -0.021673  -0.048832 -0.094120   0.050708  ... -0.075769   \n",
       "4              -0.062601   0.111381 -0.151452   0.061798  ...  0.102773   \n",
       "..                   ...        ...       ...        ...  ...       ...   \n",
       "126             0.016486  -0.020788 -0.060970   0.002776  ...  0.009941   \n",
       "127             0.036509   0.026021  0.120956   0.010504  ...  0.005545   \n",
       "128             0.011933   0.089607 -0.002469  -0.055179  ... -0.062291   \n",
       "129             0.018272  -0.009495 -0.033647  -0.098410  ...  0.060898   \n",
       "130            -0.157143   0.020363 -0.010138   0.067532  ...  0.017251   \n",
       "\n",
       "     Uzbekistan   Vanuatu  Venezuela   Vietnam  West Bank and Gaza  \\\n",
       "0      0.068484  0.011106   0.059403  0.046665            0.060994   \n",
       "1      0.033379 -0.047130   0.005917 -0.090341           -0.052142   \n",
       "2      0.153708 -0.000904   0.102381  0.021187            0.009818   \n",
       "3     -0.090928  0.113959  -0.099216  0.211234           -0.043303   \n",
       "4     -0.024198  0.052619  -0.016331  0.054292           -0.059748   \n",
       "..          ...       ...        ...       ...                 ...   \n",
       "126    0.026545  0.058254  -0.007911  0.037493            0.009557   \n",
       "127   -0.035040  0.042199  -0.078881 -0.114403           -0.013157   \n",
       "128   -0.007076 -0.042638  -0.011414  0.103039            0.073218   \n",
       "129   -0.210436 -0.051364   0.030881  0.031815           -0.045215   \n",
       "130   -0.084503  0.009010   0.060070 -0.067874            0.089176   \n",
       "\n",
       "     Winter Olympics 2022     Yemen    Zambia  Zimbabwe  \n",
       "0                0.072039  0.042128  0.044582  0.019448  \n",
       "1               -0.066335 -0.005019  0.137215  0.057474  \n",
       "2                0.009444  0.025854  0.010558  0.056705  \n",
       "3               -0.074003 -0.103764  0.116281  0.116278  \n",
       "4                0.026670 -0.089695  0.095699  0.009950  \n",
       "..                    ...       ...       ...       ...  \n",
       "126             -0.013551  0.024644  0.061868  0.005111  \n",
       "127             -0.050696 -0.128081 -0.038878  0.079130  \n",
       "128              0.137441  0.006142 -0.031299 -0.097693  \n",
       "129              0.021608  0.123384  0.050697  0.007436  \n",
       "130             -0.040404 -0.010671  0.085271  0.092933  \n",
       "\n",
       "[131 rows x 198 columns]"
      ]
     },
     "execution_count": 17,
     "metadata": {},
     "output_type": "execute_result"
    }
   ],
   "source": [
    "pd.DataFrame(pca.components_, columns = Df.columns)"
   ]
  },
  {
   "cell_type": "code",
   "execution_count": 18,
   "metadata": {},
   "outputs": [],
   "source": [
    "n_pcs= pca.n_components_ # get number of component\n",
    "n_pcs=50\n",
    "\n",
    "# get the index of the most important feature on EACH component\n",
    "most_important = [np.abs(pca.components_[i]).argmax() for i in range(n_pcs)]\n",
    "initial_feature_names = Df.columns\n",
    "\n",
    "# get the most important feature names\n",
    "most_important_names = [initial_feature_names[most_important[i]] for i in range(n_pcs)]"
   ]
  },
  {
   "cell_type": "code",
   "execution_count": 19,
   "metadata": {},
   "outputs": [
    {
     "data": {
      "text/plain": [
       "50"
      ]
     },
     "execution_count": 19,
     "metadata": {},
     "output_type": "execute_result"
    }
   ],
   "source": [
    "n_pcs"
   ]
  },
  {
   "cell_type": "code",
   "execution_count": 20,
   "metadata": {},
   "outputs": [
    {
     "data": {
      "text/plain": [
       "['Portugal',\n",
       " 'Mozambique',\n",
       " 'Cambodia',\n",
       " 'Vietnam',\n",
       " 'Syria',\n",
       " 'Philippines',\n",
       " 'Hungary',\n",
       " 'Papua New Guinea',\n",
       " 'Laos',\n",
       " 'Nepal',\n",
       " 'United Arab Emirates',\n",
       " 'Nigeria',\n",
       " 'Eswatini',\n",
       " 'Saint Vincent and the Grenadines',\n",
       " 'Sweden',\n",
       " 'Mauritius',\n",
       " 'Burundi',\n",
       " 'Uganda',\n",
       " 'Uganda',\n",
       " 'Monaco',\n",
       " 'Saint Vincent and the Grenadines',\n",
       " 'Marshall Islands',\n",
       " 'Benin',\n",
       " 'Marshall Islands',\n",
       " 'El Salvador',\n",
       " 'Samoa',\n",
       " 'Botswana',\n",
       " 'Central African Republic',\n",
       " 'Central African Republic',\n",
       " 'Tanzania',\n",
       " 'Antarctica',\n",
       " 'Holy See',\n",
       " 'Micronesia',\n",
       " 'Micronesia',\n",
       " 'Central African Republic',\n",
       " 'MS Zaandam',\n",
       " 'Antarctica',\n",
       " 'Micronesia',\n",
       " 'Holy See',\n",
       " 'Cameroon',\n",
       " 'Kyrgyzstan',\n",
       " 'Equatorial Guinea',\n",
       " 'Marshall Islands',\n",
       " 'Nicaragua',\n",
       " 'Marshall Islands',\n",
       " 'Equatorial Guinea',\n",
       " 'Ghana',\n",
       " 'Congo (Brazzaville)',\n",
       " 'Tonga',\n",
       " 'Congo (Brazzaville)']"
      ]
     },
     "execution_count": 20,
     "metadata": {},
     "output_type": "execute_result"
    }
   ],
   "source": [
    "most_important_names"
   ]
  },
  {
   "cell_type": "markdown",
   "metadata": {},
   "source": [
    "# Regression"
   ]
  },
  {
   "cell_type": "code",
   "execution_count": 21,
   "metadata": {},
   "outputs": [
    {
     "data": {
      "text/html": [
       "<div>\n",
       "<style scoped>\n",
       "    .dataframe tbody tr th:only-of-type {\n",
       "        vertical-align: middle;\n",
       "    }\n",
       "\n",
       "    .dataframe tbody tr th {\n",
       "        vertical-align: top;\n",
       "    }\n",
       "\n",
       "    .dataframe thead th {\n",
       "        text-align: right;\n",
       "    }\n",
       "</style>\n",
       "<table border=\"1\" class=\"dataframe\">\n",
       "  <thead>\n",
       "    <tr style=\"text-align: right;\">\n",
       "      <th></th>\n",
       "      <th>Province/State</th>\n",
       "      <th>Country/Region</th>\n",
       "      <th>Lat</th>\n",
       "      <th>Long</th>\n",
       "      <th>1/22/20</th>\n",
       "      <th>1/23/20</th>\n",
       "      <th>1/24/20</th>\n",
       "      <th>1/25/20</th>\n",
       "      <th>1/26/20</th>\n",
       "      <th>1/27/20</th>\n",
       "      <th>...</th>\n",
       "      <th>3/2/22</th>\n",
       "      <th>3/3/22</th>\n",
       "      <th>3/4/22</th>\n",
       "      <th>3/5/22</th>\n",
       "      <th>3/6/22</th>\n",
       "      <th>3/7/22</th>\n",
       "      <th>3/8/22</th>\n",
       "      <th>3/9/22</th>\n",
       "      <th>3/10/22</th>\n",
       "      <th>3/11/22</th>\n",
       "    </tr>\n",
       "  </thead>\n",
       "  <tbody>\n",
       "    <tr>\n",
       "      <th>0</th>\n",
       "      <td>NaN</td>\n",
       "      <td>Afghanistan</td>\n",
       "      <td>33.93911</td>\n",
       "      <td>67.709953</td>\n",
       "      <td>0</td>\n",
       "      <td>0</td>\n",
       "      <td>0</td>\n",
       "      <td>0</td>\n",
       "      <td>0</td>\n",
       "      <td>0</td>\n",
       "      <td>...</td>\n",
       "      <td>174073</td>\n",
       "      <td>174214</td>\n",
       "      <td>174214</td>\n",
       "      <td>174331</td>\n",
       "      <td>174582</td>\n",
       "      <td>175000</td>\n",
       "      <td>175353</td>\n",
       "      <td>175525</td>\n",
       "      <td>175893</td>\n",
       "      <td>175974</td>\n",
       "    </tr>\n",
       "    <tr>\n",
       "      <th>1</th>\n",
       "      <td>NaN</td>\n",
       "      <td>Albania</td>\n",
       "      <td>41.15330</td>\n",
       "      <td>20.168300</td>\n",
       "      <td>0</td>\n",
       "      <td>0</td>\n",
       "      <td>0</td>\n",
       "      <td>0</td>\n",
       "      <td>0</td>\n",
       "      <td>0</td>\n",
       "      <td>...</td>\n",
       "      <td>271825</td>\n",
       "      <td>271825</td>\n",
       "      <td>272030</td>\n",
       "      <td>272030</td>\n",
       "      <td>272210</td>\n",
       "      <td>272250</td>\n",
       "      <td>272337</td>\n",
       "      <td>272412</td>\n",
       "      <td>272479</td>\n",
       "      <td>272552</td>\n",
       "    </tr>\n",
       "    <tr>\n",
       "      <th>2</th>\n",
       "      <td>NaN</td>\n",
       "      <td>Algeria</td>\n",
       "      <td>28.03390</td>\n",
       "      <td>1.659600</td>\n",
       "      <td>0</td>\n",
       "      <td>0</td>\n",
       "      <td>0</td>\n",
       "      <td>0</td>\n",
       "      <td>0</td>\n",
       "      <td>0</td>\n",
       "      <td>...</td>\n",
       "      <td>265079</td>\n",
       "      <td>265130</td>\n",
       "      <td>265186</td>\n",
       "      <td>265227</td>\n",
       "      <td>265265</td>\n",
       "      <td>265297</td>\n",
       "      <td>265323</td>\n",
       "      <td>265346</td>\n",
       "      <td>265366</td>\n",
       "      <td>265391</td>\n",
       "    </tr>\n",
       "    <tr>\n",
       "      <th>3</th>\n",
       "      <td>NaN</td>\n",
       "      <td>Andorra</td>\n",
       "      <td>42.50630</td>\n",
       "      <td>1.521800</td>\n",
       "      <td>0</td>\n",
       "      <td>0</td>\n",
       "      <td>0</td>\n",
       "      <td>0</td>\n",
       "      <td>0</td>\n",
       "      <td>0</td>\n",
       "      <td>...</td>\n",
       "      <td>38249</td>\n",
       "      <td>38342</td>\n",
       "      <td>38434</td>\n",
       "      <td>38434</td>\n",
       "      <td>38434</td>\n",
       "      <td>38620</td>\n",
       "      <td>38710</td>\n",
       "      <td>38794</td>\n",
       "      <td>38794</td>\n",
       "      <td>38794</td>\n",
       "    </tr>\n",
       "    <tr>\n",
       "      <th>4</th>\n",
       "      <td>NaN</td>\n",
       "      <td>Angola</td>\n",
       "      <td>-11.20270</td>\n",
       "      <td>17.873900</td>\n",
       "      <td>0</td>\n",
       "      <td>0</td>\n",
       "      <td>0</td>\n",
       "      <td>0</td>\n",
       "      <td>0</td>\n",
       "      <td>0</td>\n",
       "      <td>...</td>\n",
       "      <td>98746</td>\n",
       "      <td>98746</td>\n",
       "      <td>98796</td>\n",
       "      <td>98796</td>\n",
       "      <td>98806</td>\n",
       "      <td>98806</td>\n",
       "      <td>98829</td>\n",
       "      <td>98855</td>\n",
       "      <td>98855</td>\n",
       "      <td>98855</td>\n",
       "    </tr>\n",
       "    <tr>\n",
       "      <th>5</th>\n",
       "      <td>NaN</td>\n",
       "      <td>Antarctica</td>\n",
       "      <td>-71.94990</td>\n",
       "      <td>23.347000</td>\n",
       "      <td>0</td>\n",
       "      <td>0</td>\n",
       "      <td>0</td>\n",
       "      <td>0</td>\n",
       "      <td>0</td>\n",
       "      <td>0</td>\n",
       "      <td>...</td>\n",
       "      <td>11</td>\n",
       "      <td>11</td>\n",
       "      <td>11</td>\n",
       "      <td>11</td>\n",
       "      <td>11</td>\n",
       "      <td>11</td>\n",
       "      <td>11</td>\n",
       "      <td>11</td>\n",
       "      <td>11</td>\n",
       "      <td>11</td>\n",
       "    </tr>\n",
       "  </tbody>\n",
       "</table>\n",
       "<p>6 rows × 784 columns</p>\n",
       "</div>"
      ],
      "text/plain": [
       "  Province/State Country/Region       Lat       Long  1/22/20  1/23/20  \\\n",
       "0            NaN    Afghanistan  33.93911  67.709953        0        0   \n",
       "1            NaN        Albania  41.15330  20.168300        0        0   \n",
       "2            NaN        Algeria  28.03390   1.659600        0        0   \n",
       "3            NaN        Andorra  42.50630   1.521800        0        0   \n",
       "4            NaN         Angola -11.20270  17.873900        0        0   \n",
       "5            NaN     Antarctica -71.94990  23.347000        0        0   \n",
       "\n",
       "   1/24/20  1/25/20  1/26/20  1/27/20  ...  3/2/22  3/3/22  3/4/22  3/5/22  \\\n",
       "0        0        0        0        0  ...  174073  174214  174214  174331   \n",
       "1        0        0        0        0  ...  271825  271825  272030  272030   \n",
       "2        0        0        0        0  ...  265079  265130  265186  265227   \n",
       "3        0        0        0        0  ...   38249   38342   38434   38434   \n",
       "4        0        0        0        0  ...   98746   98746   98796   98796   \n",
       "5        0        0        0        0  ...      11      11      11      11   \n",
       "\n",
       "   3/6/22  3/7/22  3/8/22  3/9/22  3/10/22  3/11/22  \n",
       "0  174582  175000  175353  175525   175893   175974  \n",
       "1  272210  272250  272337  272412   272479   272552  \n",
       "2  265265  265297  265323  265346   265366   265391  \n",
       "3   38434   38620   38710   38794    38794    38794  \n",
       "4   98806   98806   98829   98855    98855    98855  \n",
       "5      11      11      11      11       11       11  \n",
       "\n",
       "[6 rows x 784 columns]"
      ]
     },
     "execution_count": 21,
     "metadata": {},
     "output_type": "execute_result"
    }
   ],
   "source": [
    "#define URL where data is located\n",
    "url = \"https://raw.githubusercontent.com/CSSEGISandData/COVID-19/master/csse_covid_19_data/csse_covid_19_time_series/time_series_covid19_confirmed_global.csv\"\n",
    "\n",
    "#read in data\n",
    "data_full = pd.read_csv(url)\n",
    "\n",
    "#view first six rows of data\n",
    "data_full[0:6]"
   ]
  },
  {
   "cell_type": "code",
   "execution_count": 22,
   "metadata": {},
   "outputs": [
    {
     "data": {
      "text/plain": [
       "(779, 198)"
      ]
     },
     "execution_count": 22,
     "metadata": {},
     "output_type": "execute_result"
    }
   ],
   "source": [
    "Df.shape"
   ]
  },
  {
   "cell_type": "code",
   "execution_count": 23,
   "metadata": {},
   "outputs": [
    {
     "data": {
      "text/plain": [
       "Text(0.5, 1.0, 'US')"
      ]
     },
     "execution_count": 23,
     "metadata": {},
     "output_type": "execute_result"
    },
    {
     "data": {
      "image/png": "[encoded data removed]",
      "text/plain": [
       "<Figure size 432x288 with 1 Axes>"
      ]
     },
     "metadata": {
      "needs_background": "light"
     },
     "output_type": "display_data"
    }
   ],
   "source": [
    "# define predictor and response variables\n",
    "X = Df\n",
    "y = Df[['US']]\n",
    "\n",
    "#scale predictor variables\n",
    "pca = PCA()\n",
    "X_reduced = pca.fit_transform(scale(X))\n",
    "\n",
    "#define cross validation method\n",
    "cv = RepeatedKFold(n_splits=10, n_repeats=3, random_state=1)\n",
    "\n",
    "regr = LinearRegression()\n",
    "mse = []\n",
    "\n",
    "# Calculate MSE with only the intercept\n",
    "score = -1*model_selection.cross_val_score(regr,\n",
    "           np.ones((len(X_reduced),1)), y, cv=cv,\n",
    "           scoring='neg_mean_squared_error').mean()    \n",
    "mse.append(score)\n",
    "\n",
    "# Calculate MSE using cross-validation, adding one component at a time\n",
    "for i in np.arange(1, 40):\n",
    "    score = -1*model_selection.cross_val_score(regr, \n",
    "                       X_reduced[:,:i], y, cv=cv, scoring='neg_mean_squared_error').mean()\n",
    "    mse.append(score)\n",
    "    \n",
    "# Plot cross-validation results    \n",
    "plt.plot(np.log(mse))\n",
    "plt.xlabel('Number of Principal Components')\n",
    "plt.ylabel('MSE')\n",
    "plt.title('US')"
   ]
  },
  {
   "cell_type": "code",
   "execution_count": 24,
   "metadata": {},
   "outputs": [
    {
     "name": "stdout",
     "output_type": "stream",
     "text": [
      "1801311580.313464\n"
     ]
    }
   ],
   "source": [
    "score = -1*model_selection.cross_val_score(regr, \n",
    "                       X_reduced[:,:27], y, cv=cv, scoring='neg_mean_squared_error').mean()\n",
    "print(score)"
   ]
  },
  {
   "cell_type": "code",
   "execution_count": 25,
   "metadata": {},
   "outputs": [],
   "source": [
    "regr = LinearRegression()\n",
    "regr.fit(X_reduced[:,:27], y)\n",
    "\n",
    "#calculate RMSE\n",
    "pred = regr.predict(X_reduced[:,:27])"
   ]
  },
  {
   "cell_type": "code",
   "execution_count": 26,
   "metadata": {},
   "outputs": [
    {
     "data": {
      "image/png": "[encoded data removed]",
      "text/plain": [
       "<Figure size 432x288 with 1 Axes>"
      ]
     },
     "metadata": {
      "needs_background": "light"
     },
     "output_type": "display_data"
    }
   ],
   "source": [
    "plt.plot(y)\n",
    "plt.plot(pred)\n",
    "plt.show()"
   ]
  },
  {
   "cell_type": "code",
   "execution_count": 27,
   "metadata": {},
   "outputs": [
    {
     "name": "stdout",
     "output_type": "stream",
     "text": [
      "779\n",
      "(779, 198)\n"
     ]
    }
   ],
   "source": [
    "print(len(y))\n",
    "\n",
    "print(X_reduced.shape)"
   ]
  },
  {
   "cell_type": "code",
   "execution_count": 28,
   "metadata": {
    "scrolled": true
   },
   "outputs": [
    {
     "data": {
      "text/plain": [
       "array([25.06, 34.38, 40.71, 45.68, 49.34, 52.32, 54.85, 57.18, 59.25,\n",
       "       60.75, 62.13, 63.37, 64.54, 65.7 , 66.8 , 67.77, 68.68, 69.56,\n",
       "       70.39, 71.2 , 71.99, 72.75, 73.45, 74.13, 74.79, 75.43, 76.05,\n",
       "       76.66, 77.24, 77.81, 78.36, 78.9 , 79.43, 79.95, 80.46, 80.97,\n",
       "       81.46, 81.94, 82.42, 82.89, 83.34, 83.78, 84.21, 84.63, 85.04,\n",
       "       85.45, 85.84, 86.23, 86.6 , 86.96, 87.31, 87.65, 87.98, 88.31,\n",
       "       88.63, 88.95, 89.26, 89.56, 89.85, 90.14, 90.42, 90.69, 90.96,\n",
       "       91.22, 91.48, 91.73, 91.97, 92.2 , 92.43, 92.65, 92.87, 93.08,\n",
       "       93.29, 93.49, 93.69, 93.88, 94.07, 94.25, 94.43, 94.6 , 94.76,\n",
       "       94.91, 95.06, 95.21, 95.35, 95.49, 95.63, 95.77, 95.9 , 96.03,\n",
       "       96.15, 96.27, 96.39, 96.5 , 96.61, 96.72, 96.82, 96.92, 97.02,\n",
       "       97.11, 97.2 , 97.29, 97.38, 97.47, 97.55, 97.63, 97.71, 97.78,\n",
       "       97.85, 97.92, 97.99, 98.06, 98.13, 98.19, 98.25, 98.31, 98.37,\n",
       "       98.43, 98.48, 98.53, 98.58, 98.63, 98.68, 98.73, 98.78, 98.82,\n",
       "       98.86, 98.9 , 98.94, 98.98, 99.02, 99.06, 99.1 , 99.14, 99.17,\n",
       "       99.2 , 99.23, 99.26, 99.29, 99.32, 99.35, 99.38, 99.41, 99.44,\n",
       "       99.47, 99.49, 99.51, 99.53, 99.55, 99.57, 99.59, 99.61, 99.63,\n",
       "       99.65, 99.67, 99.69, 99.71, 99.73, 99.74, 99.75, 99.76, 99.77,\n",
       "       99.78, 99.79, 99.8 , 99.81, 99.82, 99.83, 99.84, 99.85, 99.86,\n",
       "       99.87, 99.88, 99.89, 99.9 , 99.91, 99.92, 99.93, 99.94, 99.95,\n",
       "       99.96, 99.97, 99.98, 99.98, 99.98, 99.98, 99.98, 99.98, 99.98,\n",
       "       99.98, 99.98, 99.98, 99.98, 99.98, 99.98, 99.98, 99.98, 99.98])"
      ]
     },
     "execution_count": 28,
     "metadata": {},
     "output_type": "execute_result"
    }
   ],
   "source": [
    "np.cumsum(np.round(pca.explained_variance_ratio_, decimals=4)*100)"
   ]
  },
  {
   "cell_type": "markdown",
   "metadata": {},
   "source": [
    "#split the dataset into training (70%) and testing (30%) sets\n",
    "X_train,X_test,y_train,y_test = train_test_split(X,y,test_size=0.3,random_state=0) \n",
    "\n",
    "#scale the training and testing data\n",
    "X_reduced_train = pca.fit_transform(scale(X_train))\n",
    "X_reduced_test = pca.transform(scale(X_test))[:,:1]\n",
    "\n",
    "#train PCR model on training data \n",
    "regr = LinearRegression()\n",
    "regr.fit(X_reduced_train[:,:1], y_train)\n",
    "\n",
    "#calculate RMSE\n",
    "pred = regr.predict(X_reduced_test)\n",
    "np.sqrt(mean_squared_error(y_test, pred))"
   ]
  },
  {
   "cell_type": "markdown",
   "metadata": {},
   "source": [
    "# PCA  Prediction "
   ]
  },
  {
   "cell_type": "code",
   "execution_count": 29,
   "metadata": {},
   "outputs": [
    {
     "name": "stdout",
     "output_type": "stream",
     "text": [
      "779\n",
      "<class 'pandas.core.frame.DataFrame'>\n",
      "<class 'pandas.core.frame.DataFrame'>\n"
     ]
    }
   ],
   "source": [
    "lag=7\n",
    "X_shift=X\n",
    "y_shift=y.shift(periods=-lag)\n",
    "print(len(y_shift))\n",
    "print(type(y))\n",
    "print(type(y_shift))"
   ]
  },
  {
   "cell_type": "code",
   "execution_count": 30,
   "metadata": {},
   "outputs": [
    {
     "name": "stdout",
     "output_type": "stream",
     "text": [
      "        US\n",
      "771  51565\n",
      "772  15292\n",
      "773  12028\n",
      "774  63110\n",
      "775  29619\n",
      "776  37595\n",
      "777  48318\n",
      "778  52110\n",
      "          US\n",
      "771  52110.0\n",
      "772      NaN\n",
      "773      NaN\n",
      "774      NaN\n",
      "775      NaN\n",
      "776      NaN\n",
      "777      NaN\n",
      "778      NaN\n"
     ]
    }
   ],
   "source": [
    "print(y[-(lag+1):])\n",
    "print(y_shift[-(lag+1):])"
   ]
  },
  {
   "cell_type": "code",
   "execution_count": 31,
   "metadata": {},
   "outputs": [
    {
     "name": "stdout",
     "output_type": "stream",
     "text": [
      "(779, 198)\n",
      "(779, 1)\n"
     ]
    }
   ],
   "source": [
    "print(X_shift.shape)\n",
    "print(y_shift.shape)"
   ]
  },
  {
   "cell_type": "code",
   "execution_count": 32,
   "metadata": {},
   "outputs": [],
   "source": [
    "# define predictor and response variables\n",
    "Xall = X_shift\n",
    "yall = y_shift\n",
    "\n",
    "#scale predictor variables\n",
    "pca = PCA()\n",
    "X_reduced = pca.fit_transform(scale(Xall))"
   ]
  },
  {
   "cell_type": "code",
   "execution_count": 33,
   "metadata": {
    "scrolled": true
   },
   "outputs": [
    {
     "name": "stdout",
     "output_type": "stream",
     "text": [
      "(779, 198)\n",
      "(779, 198)\n",
      "(779, 1)\n",
      "(779, 198)\n"
     ]
    }
   ],
   "source": [
    "print(X_shift.shape)\n",
    "print(Xall.shape)\n",
    "print(yall.shape)\n",
    "print(X_reduced.shape)"
   ]
  },
  {
   "cell_type": "code",
   "execution_count": 34,
   "metadata": {},
   "outputs": [
    {
     "name": "stdout",
     "output_type": "stream",
     "text": [
      "          US\n",
      "769  37595.0\n",
      "770  48318.0\n",
      "771  52110.0\n",
      "772      NaN\n",
      "773      NaN\n",
      "774      NaN\n",
      "775      NaN\n",
      "776      NaN\n",
      "777      NaN\n",
      "778      NaN\n",
      "        US\n",
      "0        1\n",
      "1        1\n",
      "2        0\n",
      "3        3\n",
      "4        0\n",
      "..     ...\n",
      "774  63110\n",
      "775  29619\n",
      "776  37595\n",
      "777  48318\n",
      "778  52110\n",
      "\n",
      "[779 rows x 1 columns]\n",
      "          US\n",
      "769  37595.0\n",
      "770  48318.0\n",
      "771  52110.0\n",
      "772      NaN\n",
      "773      NaN\n",
      "774      NaN\n",
      "775      NaN\n",
      "776      NaN\n",
      "777      NaN\n",
      "778      NaN\n"
     ]
    }
   ],
   "source": [
    "print(yall[-10:])\n",
    "print(y)\n",
    "print(y_shift[-10:])"
   ]
  },
  {
   "cell_type": "code",
   "execution_count": 35,
   "metadata": {},
   "outputs": [
    {
     "name": "stdout",
     "output_type": "stream",
     "text": [
      "<class 'pandas.core.frame.DataFrame'>\n",
      "<class 'numpy.ndarray'>\n",
      "<class 'pandas.core.frame.DataFrame'>\n",
      "<class 'numpy.ndarray'>\n",
      "(772, 198)\n",
      "<class 'numpy.ndarray'>\n",
      "(772, 1)\n",
      "<class 'numpy.ndarray'>\n",
      "(8, 198)\n",
      "(8, 1)\n"
     ]
    }
   ],
   "source": [
    "print(type(Xall))\n",
    "print(type(X_reduced))\n",
    "print(type(yall))\n",
    "X_trainreduced=X_reduced[0:-lag,:]\n",
    "#y_train=y.iloc[0:-lag,:].to_numpy()\n",
    "y_train=yall.iloc[0:-lag,:].to_numpy()\n",
    "print(type(X_trainreduced))\n",
    "print(X_trainreduced.shape)\n",
    "print(type(y_train))\n",
    "print(y_train.shape)\n",
    "X_testreduced=X_reduced[-(lag+1):,:]\n",
    "#y_test=y.iloc[-(lag+1):,:].to_numpy()\n",
    "y_test=yall.iloc[-(lag+1):,:].to_numpy()\n",
    "print(type(X_testreduced))\n",
    "print(X_testreduced.shape)\n",
    "print(y_test.shape)"
   ]
  },
  {
   "cell_type": "code",
   "execution_count": 36,
   "metadata": {},
   "outputs": [
    {
     "data": {
      "text/plain": [
       "array([[52110.],\n",
       "       [   nan],\n",
       "       [   nan],\n",
       "       [   nan],\n",
       "       [   nan],\n",
       "       [   nan],\n",
       "       [   nan],\n",
       "       [   nan]])"
      ]
     },
     "execution_count": 36,
     "metadata": {},
     "output_type": "execute_result"
    }
   ],
   "source": [
    "y_test"
   ]
  },
  {
   "cell_type": "code",
   "execution_count": 37,
   "metadata": {},
   "outputs": [
    {
     "data": {
      "text/plain": [
       "Text(0.5, 1.0, 'US')"
      ]
     },
     "execution_count": 37,
     "metadata": {},
     "output_type": "execute_result"
    },
    {
     "data": {
      "image/png": "[encoded data removed]",
      "text/plain": [
       "<Figure size 432x288 with 1 Axes>"
      ]
     },
     "metadata": {
      "needs_background": "light"
     },
     "output_type": "display_data"
    }
   ],
   "source": [
    "#define cross validation method\n",
    "cv = RepeatedKFold(n_splits=10, n_repeats=3, random_state=1)\n",
    "\n",
    "regr = LinearRegression()\n",
    "mse = []\n",
    "\n",
    "# Calculate MSE with only the intercept\n",
    "score = -1*model_selection.cross_val_score(regr,\n",
    "           np.ones((len(X_trainreduced),1)), y_train, cv=cv,\n",
    "           scoring='neg_mean_squared_error').mean()    \n",
    "mse.append(score)\n",
    "\n",
    "# Calculate MSE using cross-validation, adding one component at a time\n",
    "for i in np.arange(1, 40):\n",
    "    score = -1*model_selection.cross_val_score(regr, \n",
    "                       X_trainreduced[:,:i], y_train, cv=cv, scoring='neg_mean_squared_error').mean()\n",
    "    mse.append(score)\n",
    "    \n",
    "# Plot cross-validation results    \n",
    "plt.plot(np.log(mse))\n",
    "plt.xlabel('Number of Principal Components')\n",
    "plt.ylabel('MSE')\n",
    "plt.title('US')"
   ]
  },
  {
   "cell_type": "code",
   "execution_count": 38,
   "metadata": {},
   "outputs": [
    {
     "name": "stdout",
     "output_type": "stream",
     "text": [
      "3714413042.8916373\n"
     ]
    }
   ],
   "source": [
    "score = -1*model_selection.cross_val_score(regr, \n",
    "                       X_trainreduced[:,:26], y_train, cv=cv, scoring='neg_mean_squared_error').mean()\n",
    "print(score)"
   ]
  },
  {
   "cell_type": "code",
   "execution_count": 39,
   "metadata": {},
   "outputs": [],
   "source": [
    "regr = LinearRegression()\n",
    "regr.fit(X_trainreduced[:,:20], y_train)\n",
    "\n",
    "#calculate RMSE\n",
    "trainpred = regr.predict(X_trainreduced[:,:20])"
   ]
  },
  {
   "cell_type": "code",
   "execution_count": 40,
   "metadata": {
    "scrolled": true
   },
   "outputs": [
    {
     "data": {
      "image/png": "[encoded data removed]",
      "text/plain": [
       "<Figure size 432x288 with 1 Axes>"
      ]
     },
     "metadata": {
      "needs_background": "light"
     },
     "output_type": "display_data"
    }
   ],
   "source": [
    "plt.plot(y_train)\n",
    "plt.plot(trainpred)\n",
    "plt.xlim(720, 740)\n",
    "plt.grid()\n",
    "plt.show()"
   ]
  },
  {
   "cell_type": "code",
   "execution_count": 41,
   "metadata": {},
   "outputs": [
    {
     "name": "stdout",
     "output_type": "stream",
     "text": [
      "[[ 77784.31248983]\n",
      " [-27720.95185883]\n",
      " [-17548.38070436]\n",
      " [ 99666.77891117]\n",
      " [ 89446.49348868]\n",
      " [ 92247.00401032]\n",
      " [ 68012.14542169]\n",
      " [138305.56426572]]\n",
      "[[52110.]\n",
      " [   nan]\n",
      " [   nan]\n",
      " [   nan]\n",
      " [   nan]\n",
      " [   nan]\n",
      " [   nan]\n",
      " [   nan]]\n"
     ]
    }
   ],
   "source": [
    "predres = regr.predict(X_testreduced[:,:20])\n",
    "print(predres)\n",
    "print(y_test)"
   ]
  },
  {
   "cell_type": "code",
   "execution_count": 42,
   "metadata": {},
   "outputs": [],
   "source": [
    "asx=np.linspace(len(yall)-lag-1,len(yall)-1,lag+1)"
   ]
  },
  {
   "cell_type": "code",
   "execution_count": 43,
   "metadata": {},
   "outputs": [
    {
     "name": "stdout",
     "output_type": "stream",
     "text": [
      "8\n",
      "(772, 1)\n",
      "(8, 1)\n"
     ]
    }
   ],
   "source": [
    "print(len(asx))\n",
    "print(trainpred.shape)\n",
    "print(predres.shape)"
   ]
  },
  {
   "cell_type": "code",
   "execution_count": 44,
   "metadata": {
    "scrolled": true
   },
   "outputs": [
    {
     "data": {
      "image/png": "[encoded data removed]",
      "text/plain": [
       "<Figure size 432x288 with 1 Axes>"
      ]
     },
     "metadata": {
      "needs_background": "light"
     },
     "output_type": "display_data"
    }
   ],
   "source": [
    "plt.plot(y_train, \"-r\", label='y train')\n",
    "plt.plot(trainpred, \"-y\", label='trainpred')\n",
    "plt.plot(asx,predres, \"-g\", label='predres')\n",
    "plt.plot(asx,y_test, \"-b\", label='y test')\n",
    "plt.legend(('y train','trainpred', 'predres', 'y test'))\n",
    "plt.legend(loc = \"upper right\")\n",
    "plt.title(\"Prediction: 7 days\")\n",
    "plt.xlabel(\"Day\")\n",
    "plt.ylabel(\"Number of cases\")\n",
    "plt.xlim(720, 780)\n",
    "#plt.ylim(-100000,200000)\n",
    "plt.grid() \n",
    "plt.show()"
   ]
  },
  {
   "cell_type": "code",
   "execution_count": 45,
   "metadata": {},
   "outputs": [
    {
     "name": "stdout",
     "output_type": "stream",
     "text": [
      "['2022-03-11', '2022-03-12', '2022-03-13', '2022-03-14', '2022-03-15', '2022-03-16', '2022-03-17', '2022-03-18']\n",
      "8\n"
     ]
    }
   ],
   "source": [
    "import datetime\n",
    "start_date = datetime.date(2022, 3, 11)\n",
    "number_of_days = lag+1\n",
    "\n",
    "date_list = []\n",
    "for day in range(number_of_days):\n",
    "  a_date = (start_date + datetime.timedelta(days = day)).isoformat()\n",
    "  date_list.append(a_date)\n",
    "\n",
    "print(date_list)\n",
    "print(len(date_list))"
   ]
  },
  {
   "cell_type": "code",
   "execution_count": 53,
   "metadata": {},
   "outputs": [
    {
     "data": {
      "text/plain": [
       "<matplotlib.legend.Legend at 0x1cab11e9e50>"
      ]
     },
     "execution_count": 53,
     "metadata": {},
     "output_type": "execute_result"
    },
    {
     "data": {
      "image/png": "[encoded data removed]",
      "text/plain": [
       "<Figure size 432x288 with 1 Axes>"
      ]
     },
     "metadata": {
      "needs_background": "light"
     },
     "output_type": "display_data"
    }
   ],
   "source": [
    "pic1=10\n",
    "plt.plot(dates_JH[-pic1:],y_train[-pic1:], \"-r\", label='y train')\n",
    "plt.plot(dates_JH[-pic1:],trainpred[-pic1:], \"-y\", label='trainpred')\n",
    "plt.legend(('y train','trainpred'))"
   ]
  },
  {
   "cell_type": "code",
   "execution_count": 46,
   "metadata": {},
   "outputs": [
    {
     "data": {
      "image/png": "[encoded data removed]",
      "text/plain": [
       "<Figure size 432x288 with 1 Axes>"
      ]
     },
     "metadata": {
      "needs_background": "light"
     },
     "output_type": "display_data"
    }
   ],
   "source": [
    "#pic1=5\n",
    "#plt.plot(dates_JH[-pic1:],y_train[-pic1:], \"-r\", label='y train')\n",
    "#plt.plot(dates_JH[-pic1:],trainpred[-pic1:], \"-y\", label='trainpred')\n",
    "pic2=7\n",
    "plt.plot(date_list,predres, \"-g\", label='predres')\n",
    "plt.gcf().autofmt_xdate()\n",
    "plt.show()"
   ]
  },
  {
   "cell_type": "code",
   "execution_count": 47,
   "metadata": {},
   "outputs": [
    {
     "name": "stdout",
     "output_type": "stream",
     "text": [
      "779\n",
      "<class 'pandas.core.frame.DataFrame'>\n",
      "<class 'pandas.core.frame.DataFrame'>\n"
     ]
    }
   ],
   "source": [
    "lag=30\n",
    "X_shift=X\n",
    "y_shift=y.shift(periods=-lag)\n",
    "print(len(y_shift))\n",
    "print(type(y))\n",
    "print(type(y_shift))"
   ]
  },
  {
   "cell_type": "code",
   "execution_count": 383,
   "metadata": {},
   "outputs": [],
   "source": [
    "# define predictor and response variables\n",
    "Xall = X_shift\n",
    "yall = y_shift\n",
    "\n",
    "#scale predictor variables\n",
    "pca = PCA()\n",
    "X_reduced = pca.fit_transform(scale(Xall))"
   ]
  },
  {
   "cell_type": "code",
   "execution_count": 384,
   "metadata": {},
   "outputs": [],
   "source": [
    "X_trainreduced=X_reduced[0:-lag,:]\n",
    "#y_train=y.iloc[0:-lag,:].to_numpy()\n",
    "y_train=yall.iloc[0:-lag,:].to_numpy()\n",
    "X_testreduced=X_reduced[-(lag+1):,:]\n",
    "#y_test=y.iloc[-(lag+1):,:].to_numpy()\n",
    "y_test=yall.iloc[-(lag+1):,:].to_numpy()"
   ]
  },
  {
   "cell_type": "code",
   "execution_count": 385,
   "metadata": {},
   "outputs": [
    {
     "data": {
      "text/plain": [
       "array([[52110.],\n",
       "       [   nan],\n",
       "       [   nan],\n",
       "       [   nan],\n",
       "       [   nan],\n",
       "       [   nan],\n",
       "       [   nan],\n",
       "       [   nan],\n",
       "       [   nan],\n",
       "       [   nan],\n",
       "       [   nan],\n",
       "       [   nan],\n",
       "       [   nan],\n",
       "       [   nan],\n",
       "       [   nan],\n",
       "       [   nan],\n",
       "       [   nan],\n",
       "       [   nan],\n",
       "       [   nan],\n",
       "       [   nan],\n",
       "       [   nan],\n",
       "       [   nan],\n",
       "       [   nan],\n",
       "       [   nan],\n",
       "       [   nan],\n",
       "       [   nan],\n",
       "       [   nan],\n",
       "       [   nan],\n",
       "       [   nan],\n",
       "       [   nan],\n",
       "       [   nan]])"
      ]
     },
     "execution_count": 385,
     "metadata": {},
     "output_type": "execute_result"
    }
   ],
   "source": [
    "y_test"
   ]
  },
  {
   "cell_type": "code",
   "execution_count": 386,
   "metadata": {},
   "outputs": [
    {
     "data": {
      "text/plain": [
       "Text(0.5, 1.0, 'US')"
      ]
     },
     "execution_count": 386,
     "metadata": {},
     "output_type": "execute_result"
    },
    {
     "data": {
      "image/png": "[encoded data removed]",
      "text/plain": [
       "<Figure size 432x288 with 1 Axes>"
      ]
     },
     "metadata": {
      "needs_background": "light"
     },
     "output_type": "display_data"
    }
   ],
   "source": [
    "#define cross validation method\n",
    "cv = RepeatedKFold(n_splits=10, n_repeats=3, random_state=1)\n",
    "\n",
    "regr = LinearRegression()\n",
    "mse = []\n",
    "\n",
    "# Calculate MSE with only the intercept\n",
    "score = -1*model_selection.cross_val_score(regr,\n",
    "           np.ones((len(X_trainreduced),1)), y_train, cv=cv,\n",
    "           scoring='neg_mean_squared_error').mean()    \n",
    "mse.append(score)\n",
    "\n",
    "# Calculate MSE using cross-validation, adding one component at a time\n",
    "for i in np.arange(1, 40):\n",
    "    score = -1*model_selection.cross_val_score(regr, \n",
    "                       X_trainreduced[:,:i], y_train, cv=cv, scoring='neg_mean_squared_error').mean()\n",
    "    mse.append(score)\n",
    "    \n",
    "# Plot cross-validation results    \n",
    "plt.plot(np.log(mse))\n",
    "plt.xlabel('Number of Principal Components')\n",
    "plt.ylabel('MSE')\n",
    "plt.title('US')"
   ]
  },
  {
   "cell_type": "code",
   "execution_count": 387,
   "metadata": {},
   "outputs": [
    {
     "name": "stdout",
     "output_type": "stream",
     "text": [
      "9953751702.618906\n"
     ]
    }
   ],
   "source": [
    "score = -1*model_selection.cross_val_score(regr, \n",
    "                       X_trainreduced[:,:20], y_train, cv=cv, scoring='neg_mean_squared_error').mean()\n",
    "print(score)"
   ]
  },
  {
   "cell_type": "code",
   "execution_count": 388,
   "metadata": {},
   "outputs": [],
   "source": [
    "regr = LinearRegression()\n",
    "regr.fit(X_trainreduced[:,:20], y_train)\n",
    "\n",
    "#calculate RMSE\n",
    "trainpred = regr.predict(X_trainreduced[:,:20])"
   ]
  },
  {
   "cell_type": "code",
   "execution_count": 389,
   "metadata": {},
   "outputs": [
    {
     "data": {
      "image/png": "[encoded data removed]",
      "text/plain": [
       "<Figure size 432x288 with 1 Axes>"
      ]
     },
     "metadata": {
      "needs_background": "light"
     },
     "output_type": "display_data"
    }
   ],
   "source": [
    "plt.plot(y_train)\n",
    "plt.plot(trainpred)\n",
    "plt.xlim(680, 720)\n",
    "plt.grid()\n",
    "plt.show()"
   ]
  },
  {
   "cell_type": "code",
   "execution_count": 390,
   "metadata": {},
   "outputs": [],
   "source": [
    "predres = regr.predict(X_testreduced[:,:20])"
   ]
  },
  {
   "cell_type": "code",
   "execution_count": 391,
   "metadata": {},
   "outputs": [],
   "source": [
    "asx=np.linspace(len(yall)-lag-1,len(yall)-1,lag+1)"
   ]
  },
  {
   "cell_type": "code",
   "execution_count": 392,
   "metadata": {},
   "outputs": [
    {
     "data": {
      "image/png": "[encoded data removed]",
      "text/plain": [
       "<Figure size 432x288 with 1 Axes>"
      ]
     },
     "metadata": {
      "needs_background": "light"
     },
     "output_type": "display_data"
    }
   ],
   "source": [
    "plt.plot(y_train, \"-r\", label='y train')\n",
    "plt.plot(trainpred, \"-y\", label='trainpred')\n",
    "plt.plot(asx,predres, \"-g\", label='predres')\n",
    "plt.plot(asx,y_test, \"-b\", label='y test')\n",
    "plt.legend(('y train','trainpred', 'predres', 'y test'))\n",
    "plt.legend(loc = \"upper right\")\n",
    "plt.title(\"Prediction: 30 days\")\n",
    "plt.xlabel(\"Day\")\n",
    "plt.ylabel(\"Number of cases\")\n",
    "plt.xlim(725, 770)\n",
    "plt.grid() \n",
    "plt.show()"
   ]
  },
  {
   "cell_type": "code",
   "execution_count": 393,
   "metadata": {},
   "outputs": [
    {
     "name": "stdout",
     "output_type": "stream",
     "text": [
      "749\n",
      "(779, 198)\n",
      "(749, 198)\n",
      "749\n"
     ]
    }
   ],
   "source": [
    "print(len(dates_JH[-trainpred.shape[0]:]))\n",
    "print(X_reduced.shape)\n",
    "print(X_trainreduced.shape)\n",
    "print(trainpred.shape[0])"
   ]
  },
  {
   "cell_type": "code",
   "execution_count": 394,
   "metadata": {},
   "outputs": [
    {
     "name": "stdout",
     "output_type": "stream",
     "text": [
      "['2022-03-11', '2022-03-12', '2022-03-13', '2022-03-14', '2022-03-15', '2022-03-16', '2022-03-17', '2022-03-18', '2022-03-19', '2022-03-20', '2022-03-21', '2022-03-22', '2022-03-23', '2022-03-24', '2022-03-25', '2022-03-26', '2022-03-27', '2022-03-28', '2022-03-29', '2022-03-30', '2022-03-31', '2022-04-01', '2022-04-02', '2022-04-03', '2022-04-04', '2022-04-05', '2022-04-06', '2022-04-07', '2022-04-08', '2022-04-09', '2022-04-10']\n",
      "31\n"
     ]
    }
   ],
   "source": [
    "import datetime\n",
    "start_date = datetime.date(2022, 3, 11)\n",
    "number_of_days = lag+1\n",
    "\n",
    "date_list = []\n",
    "for day in range(number_of_days):\n",
    "  a_date = (start_date + datetime.timedelta(days = day)).isoformat()\n",
    "  date_list.append(a_date)\n",
    "\n",
    "print(date_list)\n",
    "print(len(date_list))"
   ]
  },
  {
   "cell_type": "code",
   "execution_count": 398,
   "metadata": {},
   "outputs": [
    {
     "data": {
      "image/png": "[encoded data removed]",
      "text/plain": [
       "<Figure size 432x288 with 1 Axes>"
      ]
     },
     "metadata": {
      "needs_background": "light"
     },
     "output_type": "display_data"
    }
   ],
   "source": [
    "pic1=2\n",
    "plt.plot(dates_JH[-pic1:],y_train[-pic1:], \"-r\", label='y train')\n",
    "plt.plot(dates_JH[-pic1:],trainpred[-pic1:], \"-y\", label='trainpred')\n",
    "pic2=12\n",
    "plt.plot(date_list[0:pic2],predres[0:pic2], \"-g\", label='predres')\n",
    "plt.gcf().autofmt_xdate()\n",
    "plt.show()\n"
   ]
  },
  {
   "cell_type": "code",
   "execution_count": 208,
   "metadata": {},
   "outputs": [
    {
     "name": "stdout",
     "output_type": "stream",
     "text": [
      "(779, 1)\n",
      "(31, 1)\n",
      "31\n"
     ]
    }
   ],
   "source": [
    "print(yall.shape)\n",
    "print(predres.shape)\n",
    "print(len(asx))"
   ]
  },
  {
   "cell_type": "code",
   "execution_count": 209,
   "metadata": {},
   "outputs": [
    {
     "data": {
      "text/plain": [
       "[<matplotlib.lines.Line2D at 0x1182b93c4f0>]"
      ]
     },
     "execution_count": 209,
     "metadata": {},
     "output_type": "execute_result"
    },
    {
     "data": {
      "image/png": "[encoded data removed]",
      "text/plain": [
       "<Figure size 432x288 with 1 Axes>"
      ]
     },
     "metadata": {
      "needs_background": "light"
     },
     "output_type": "display_data"
    }
   ],
   "source": [
    "plt.plot(y_train, \"-r\", label='y train')"
   ]
  },
  {
   "cell_type": "code",
   "execution_count": 86,
   "metadata": {},
   "outputs": [
    {
     "name": "stdout",
     "output_type": "stream",
     "text": [
      "['2022-03-12', '2022-03-13', '2022-03-14', '2022-03-15', '2022-03-16', '2022-03-17', '2022-03-18', '2022-03-19', '2022-03-20', '2022-03-21', '2022-03-22', '2022-03-23', '2022-03-24', '2022-03-25', '2022-03-26', '2022-03-27', '2022-03-28', '2022-03-29', '2022-03-30', '2022-03-31', '2022-04-01', '2022-04-02', '2022-04-03', '2022-04-04', '2022-04-05', '2022-04-06', '2022-04-07', '2022-04-08', '2022-04-09', '2022-04-10', '2022-04-11']\n",
      "31\n"
     ]
    }
   ],
   "source": [
    "import datetime\n",
    "start_date = datetime.date(2022, 3, 12)\n",
    "number_of_days = 31\n",
    "\n",
    "date_list = []\n",
    "for day in range(number_of_days):\n",
    "  a_date = (start_date + datetime.timedelta(days = day)).isoformat()\n",
    "  date_list.append(a_date)\n",
    "\n",
    "print(date_list)\n",
    "print(len(date_list))"
   ]
  },
  {
   "cell_type": "code",
   "execution_count": 87,
   "metadata": {},
   "outputs": [
    {
     "name": "stdout",
     "output_type": "stream",
     "text": [
      "780\n",
      "(779, 1)\n",
      "(779, 1)\n",
      "(31, 1)\n"
     ]
    },
    {
     "data": {
      "text/plain": [
       "[<matplotlib.lines.Line2D at 0x11828234f10>]"
      ]
     },
     "execution_count": 87,
     "metadata": {},
     "output_type": "execute_result"
    },
    {
     "data": {
      "image/png": "[encoded data removed]",
      "text/plain": [
       "<Figure size 432x288 with 1 Axes>"
      ]
     },
     "metadata": {
      "needs_background": "light"
     },
     "output_type": "display_data"
    }
   ],
   "source": [
    "print(len(dates_JH))\n",
    "print(y_train.shape)\n",
    "print(trainpred.shape)\n",
    "print(predres.shape)\n",
    "plt.plot(dates_JH[-7:],y_train[-7:], \"-r\", label='y train')\n",
    "plt.plot(dates_JH[-7:],trainpred[-7:], \"-y\", label='trainpred')\n",
    "plt.plot(date_list,predres, \"-g\", label='predicted')\n",
    "\n"
   ]
  },
  {
   "cell_type": "code",
   "execution_count": 89,
   "metadata": {},
   "outputs": [
    {
     "data": {
      "text/plain": [
       "array([748., 749., 750., 751., 752., 753., 754., 755., 756., 757., 758.,\n",
       "       759., 760., 761., 762., 763., 764., 765., 766., 767., 768., 769.,\n",
       "       770., 771., 772., 773., 774., 775., 776., 777., 778.])"
      ]
     },
     "execution_count": 89,
     "metadata": {},
     "output_type": "execute_result"
    }
   ],
   "source": [
    "asx"
   ]
  },
  {
   "cell_type": "markdown",
   "metadata": {},
   "source": [
    "# Appendix"
   ]
  },
  {
   "cell_type": "code",
   "execution_count": null,
   "metadata": {},
   "outputs": [],
   "source": [
    "# load dataset into Pandas DataFrame\n",
    "#df = pd.read_csv('datasaved.csv', names=['Unnamed:', '1/22/21', '1/23/21', '1/24/20','target'])\n",
    "df = pd.read_csv('datasaved.csv')"
   ]
  },
  {
   "cell_type": "code",
   "execution_count": null,
   "metadata": {},
   "outputs": [],
   "source": [
    "df.head()"
   ]
  },
  {
   "cell_type": "code",
   "execution_count": null,
   "metadata": {},
   "outputs": [],
   "source": [
    "df.shape"
   ]
  },
  {
   "cell_type": "code",
   "execution_count": null,
   "metadata": {},
   "outputs": [],
   "source": [
    "# Standardize data\n",
    "features = ['Unnamed:', '1/22/21', '1/23/21', '1/24/20']\n",
    "# Separating out the features\n",
    "x = df.loc[:, features].values"
   ]
  },
  {
   "cell_type": "code",
   "execution_count": null,
   "metadata": {},
   "outputs": [],
   "source": [
    "# Separating out the target\n",
    "y = df.loc[:,['target']].values"
   ]
  },
  {
   "cell_type": "code",
   "execution_count": null,
   "metadata": {
    "scrolled": true
   },
   "outputs": [],
   "source": [
    "# Standardizing the features\n",
    "x = StandardScaler().fit_transform(x)"
   ]
  },
  {
   "cell_type": "code",
   "execution_count": null,
   "metadata": {},
   "outputs": [],
   "source": [
    "type(x)"
   ]
  },
  {
   "cell_type": "code",
   "execution_count": null,
   "metadata": {},
   "outputs": [],
   "source": [
    "print(x)"
   ]
  },
  {
   "cell_type": "code",
   "execution_count": null,
   "metadata": {},
   "outputs": [],
   "source": [
    "pd.DataFrame(data = x, columns = features).head()"
   ]
  },
  {
   "cell_type": "code",
   "execution_count": null,
   "metadata": {},
   "outputs": [],
   "source": [
    "# PCA projection to 2D\n",
    "pca = PCA(n_components=2)\n",
    "principalComponents = pca.fit_transform(x)\n",
    "principalDf = pd.DataFrame(data = principalComponents\n",
    "             , columns = ['principal component 1', 'principal component 2'])"
   ]
  },
  {
   "cell_type": "code",
   "execution_count": null,
   "metadata": {},
   "outputs": [],
   "source": [
    "principalDf.head(5)"
   ]
  },
  {
   "cell_type": "code",
   "execution_count": null,
   "metadata": {},
   "outputs": [],
   "source": [
    "df[['target']].head()"
   ]
  },
  {
   "cell_type": "code",
   "execution_count": null,
   "metadata": {},
   "outputs": [],
   "source": [
    "finalDf = pd.concat([principalDf, df[['target']]], axis = 1)\n",
    "finalDf.head(5)"
   ]
  },
  {
   "cell_type": "code",
   "execution_count": null,
   "id": "ecbeba10",
   "metadata": {},
   "outputs": [],
   "source": [
    "# Visualize 2D projection\n",
    "fig = plt.figure(figsize = (8,8))\n",
    "ax = fig.add_subplot(1,1,1) \n",
    "ax.set_xlabel('Principal Component 1', fontsize = 15)\n",
    "ax.set_ylabel('Principal Component 2', fontsize = 15)\n",
    "ax.set_title('2 Component PCA', fontsize = 20)\n",
    "\n",
    "\n",
    "targets = ['Iris-setosa', 'Iris-versicolor', 'Iris-virginica']\n",
    "colors = ['r', 'g', 'b']\n",
    "for target, color in zip(targets,colors):\n",
    "    indicesToKeep = finalDf['target'] == target\n",
    "    ax.scatter(finalDf.loc[indicesToKeep, 'principal component 1']\n",
    "               , finalDf.loc[indicesToKeep, 'principal component 2']\n",
    "               , c = color\n",
    "               , s = 50)\n",
    "ax.legend(targets)\n",
    "ax.grid()"
   ]
  },
  {
   "cell_type": "code",
   "execution_count": null,
   "metadata": {},
   "outputs": [],
   "source": [
    "# Explained variance\n",
    "pca.explained_variance_ratio_"
   ]
  }
 ],
 "metadata": {
  "kernelspec": {
   "display_name": "Python 3 (ipykernel)",
   "language": "python",
   "name": "python3"
  },
  "language_info": {
   "codemirror_mode": {
    "name": "ipython",
    "version": 3
   },
   "file_extension": ".py",
   "mimetype": "text/x-python",
   "name": "python",
   "nbconvert_exporter": "python",
   "pygments_lexer": "ipython3",
   "version": "3.9.7"
  }
 },
 "nbformat": 4,
 "nbformat_minor": 1
}
